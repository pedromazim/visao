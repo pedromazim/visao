{
  "nbformat": 4,
  "nbformat_minor": 0,
  "metadata": {
    "colab": {
      "provenance": [],
      "collapsed_sections": [
        "VwrAlsQBmZ05",
        "PMkkCovCprG8",
        "oqBDOicn1lNC",
        "ax8qRpKB1tol",
        "rLr0jCvYCaFl",
        "28OfOp0Kmo_T",
        "WcAusyGXxBgv"
      ],
      "authorship_tag": "ABX9TyOOS0fZbETgSfcToWG9fLfB",
      "include_colab_link": true
    },
    "kernelspec": {
      "name": "python3",
      "display_name": "Python 3"
    },
    "language_info": {
      "name": "python"
    }
  },
  "cells": [
    {
      "cell_type": "markdown",
      "metadata": {
        "id": "view-in-github",
        "colab_type": "text"
      },
      "source": [
        "<a href=\"https://colab.research.google.com/github/pedromazim/visao/blob/main/project_fractal_dimension_texture.ipynb\" target=\"_parent\"><img src=\"https://colab.research.google.com/assets/colab-badge.svg\" alt=\"Open In Colab\"/></a>"
      ]
    },
    {
      "cell_type": "markdown",
      "source": [
        "### I. Modules and auxiliary functions"
      ],
      "metadata": {
        "id": "VwrAlsQBmZ05"
      }
    },
    {
      "cell_type": "code",
      "execution_count": null,
      "metadata": {
        "id": "gu4g013FYs2K"
      },
      "outputs": [],
      "source": [
        "import numpy as np\n",
        "import skimage as skm\n",
        "import matplotlib.pyplot as pt\n",
        "import matplotlib.colors as cm\n",
        "import os\n",
        "from glob import glob\n",
        "import pandas as pd\n",
        "from sklearn.decomposition import PCA\n",
        "from sklearn.preprocessing import StandardScaler"
      ]
    },
    {
      "cell_type": "code",
      "source": [
        "@jit(looplift=True)\n",
        "def find_divisors(num):# finds common divisors :)\n",
        "    d = []\n",
        "    for i in range(2,int(num/2)+1):\n",
        "        if num%i == 0:\n",
        "            d.append(i)\n",
        "    d.append(num)\n",
        "    return np.array(d)"
      ],
      "metadata": {
        "id": "xNokqUs1x4UA",
        "collapsed": true
      },
      "execution_count": null,
      "outputs": []
    },
    {
      "cell_type": "code",
      "source": [
        "# @jit(looplift=True)\n",
        "def edt(img):\n",
        "    # euclidean distance from foreground (white) to background (black) pixels\n",
        "\n",
        "    img = img.astype('int')\n",
        "    h, w = img.shape\n",
        "\n",
        "    d = np.zeros((h,w))\n",
        "\n",
        "    for y in range(h):\n",
        "        for x in range(w):\n",
        "\n",
        "            if img[x,y] == 1:\n",
        "                flag = True\n",
        "                r = 1\n",
        "                while flag:\n",
        "                    nb = img[x-r:x+r+1,y-r:y+r+1]\n",
        "                    if np.flatnonzero(nb).size != nb.size:\n",
        "                        d[x,y] = r\n",
        "                        flag = False\n",
        "                    else:\n",
        "                        r += 1\n",
        "    return d"
      ],
      "metadata": {
        "id": "9xHd1zoY0-T6"
      },
      "execution_count": null,
      "outputs": []
    },
    {
      "cell_type": "code",
      "source": [
        "# @jit(looplift=True)\n",
        "def distance(img, x0, y0):# distance from all foreground pixels to a specific one\n",
        "    img = img.astype('int')\n",
        "    h, w = img.shape\n",
        "    dist = np.zeros_like(img)\n",
        "    fg = np.argwhere(img == 1)\n",
        "    dist = np.sqrt((np.indices((h,w))[0]-x0)**2 + (np.indices((h,w))[1]-y0)**2)\n",
        "    return dist"
      ],
      "metadata": {
        "id": "Pr8RFDcf1CPB"
      },
      "execution_count": null,
      "outputs": []
    },
    {
      "cell_type": "code",
      "source": [
        "def make_square(img):\n",
        "\n",
        "    h, w = img.shape # height, width\n",
        "\n",
        "    if w > h:\n",
        "        if w%2 != 0:\n",
        "            img = np.column_stack((img, np.ones((h,1))*255))\n",
        "            img = np.vstack((img, np.ones((w+1-h,w+1))*255))\n",
        "        else:\n",
        "            img = np.vstack((img, np.ones((w-h,w))*255))\n",
        "    elif h > w:\n",
        "        if h%2 != 0:\n",
        "            img = np.vstack((img, np.ones((1,w))*255))\n",
        "            img = np.column_stack((img, np.ones((h+1,h+1-w))*255))\n",
        "        else:\n",
        "            img = np.column_stack((img, np.ones((h,h-w))*255))\n",
        "    return img\n"
      ],
      "metadata": {
        "id": "OLMXZD8wo2cf"
      },
      "execution_count": null,
      "outputs": []
    },
    {
      "cell_type": "markdown",
      "source": [
        "### II. Mass-radius method"
      ],
      "metadata": {
        "id": "PMkkCovCprG8"
      }
    },
    {
      "cell_type": "code",
      "source": [
        "def mrm(img):\n",
        "    area = (np.argwhere(img == 1).size/2)\n",
        "    cm = [int(1/area*np.sum(np.where(img == 1)[0])), int(1/area*(np.sum(np.where(img == 1)[1])))]\n",
        "    rmax = int(np.max(distance(img,cm[0],cm[1])))\n",
        "\n",
        "    counts = []\n",
        "    size = []\n",
        "\n",
        "    for r in range(1,rmax+1):\n",
        "        c = 0\n",
        "        for px in np.argwhere(distance(img, cm[0],cm[1]) <= r):\n",
        "            if img[px[0],px[1]] == 1:\n",
        "                c += 1\n",
        "        if c != 0:\n",
        "            size.append(r)\n",
        "            counts.append(c)\n",
        "\n",
        "    return counts,size"
      ],
      "metadata": {
        "id": "JSPmh2OfqHMd"
      },
      "execution_count": null,
      "outputs": []
    },
    {
      "cell_type": "code",
      "source": [
        "def fd_dataset_mrm(filename_list): #calculates BCM and BMM for each image in dataset\n",
        "\n",
        "    out = open('out_shapes_mrm.dat','w')\n",
        "\n",
        "    MRM_fd = []\n",
        "\n",
        "    for filename in range(len(filename_list)):\n",
        "        #print(filename)\n",
        "        img = skm.io.imread(f'https://github.com/pedromazim/visao/blob/main/shapes99/{filename_list[filename]}?raw=true')\n",
        "        img = make_square(img)\n",
        "        img = img/255.\n",
        "        img = skm.util.invert(img)\n",
        "        img = img == 1\n",
        "        img.astype('int')\n",
        "\n",
        "        mrm_fd = mrm(img)\n",
        "        print(filename, filename_list[filename], 'mrm')\n",
        "\n",
        "        out.write(f'{mrm_fd}\\n')\n",
        "        MRM_fd.append(mrm_fd)\n",
        "\n",
        "    #data = np.savetxt('out_shapes.dat', np.array(BCM_fd))\n",
        "    out = {'filename':filename_list, 'MRM_FD':MRM_fd}\n",
        "    return out"
      ],
      "metadata": {
        "id": "CnPkmbplVYbF"
      },
      "execution_count": null,
      "outputs": []
    },
    {
      "cell_type": "code",
      "source": [
        "out_test_mrm = fd_dataset_mrm(filename_list)"
      ],
      "metadata": {
        "id": "d0k2yziY0GOZ"
      },
      "execution_count": null,
      "outputs": []
    },
    {
      "cell_type": "code",
      "source": [
        "lm_coeffs_MRM = []\n",
        "for i in range(len(out_test_mrm['MRM_FD'])):\n",
        "    counts, sizes= out_test_mrm['MRM_FD'][i][1][:-30],out_test_mrm['MRM_FD'][i][0][:-30]\n",
        "    # print(counts,sizes)\n",
        "    lm_coeffs_MRM.append(np.polyfit(np.log(sizes),np.log(counts),1)[0])"
      ],
      "metadata": {
        "id": "kmhbpqguZTG7"
      },
      "execution_count": null,
      "outputs": []
    },
    {
      "cell_type": "markdown",
      "source": [
        "### III. Box-counting method\n"
      ],
      "metadata": {
        "id": "oqBDOicn1lNC"
      }
    },
    {
      "cell_type": "code",
      "source": [
        "#@jit(looplift=True)\n",
        "def bcm(img, binary):\n",
        "    if not binary:\n",
        "        img = make_gray(img,[1/3,1/3,1/3])\n",
        "        #thd = otsu_thresholding(img)\n",
        "        thd = threshold_otsu(img)\n",
        "        img = img > thd\n",
        "\n",
        "        img = img.astype('int')\n",
        "\n",
        "    img = skm.util.invert(img)\n",
        "\n",
        "    grid = np.zeros_like(img)\n",
        "    h, w = img.shape\n",
        "    counts = []\n",
        "    size = []\n",
        "\n",
        "    res = 100\n",
        "\n",
        "\n",
        "    for L in find_divisors(h):\n",
        "        size.append(int(h/L))\n",
        "        counter = 0\n",
        "        for m in range(L):# loop for height\n",
        "            for n in range(L):#loop for width\n",
        "                if img[int(m*h/L):int((m+1)*h/L),int(n*w/L):int((n+1)*w/L)].any() == 1:\n",
        "                    counter += 1\n",
        "        counts.append(counter)\n",
        "\n",
        "    return [counts, size]"
      ],
      "metadata": {
        "id": "9m61KRU7nOWS"
      },
      "execution_count": null,
      "outputs": []
    },
    {
      "cell_type": "code",
      "source": [
        "def fd_dataset_bcm(filename_list): #calculates BCM and BMM for each image in dataset\n",
        "\n",
        "    out = open('out_shapes_bcm.dat','w')\n",
        "\n",
        "    BCM_fd = []\n",
        "\n",
        "    for filename in range(len(filename_list)):\n",
        "        #print(filename)\n",
        "        img = skm.io.imread(f'https://github.com/pedromazim/visao/blob/main/shapes99/{filename_list[filename]}?raw=true')\n",
        "        img = make_square(img)\n",
        "        img = img/255.\n",
        "        img = skm.util.invert(img)\n",
        "        img = img == 1\n",
        "        img.astype('int')\n",
        "\n",
        "        bcm_fd = bcm(img, True)\n",
        "        # print(filename, filename_list[filename], 'bcm')\n",
        "\n",
        "        out.write(f'{bcm_fd}\\n')\n",
        "        BCM_fd.append(bcm_fd)\n",
        "\n",
        "    #data = np.savetxt('out_shapes.dat', np.array(BCM_fd))\n",
        "    out = {'filename':filename_list, 'BCM_FD':BCM_fd}\n",
        "    return out"
      ],
      "metadata": {
        "id": "3Wf2qlg8ikD2"
      },
      "execution_count": null,
      "outputs": []
    },
    {
      "cell_type": "code",
      "source": [
        "out_test_bcm = fd_dataset_bcm(filename_list)"
      ],
      "metadata": {
        "id": "j3RLrWWQ0JwE"
      },
      "execution_count": null,
      "outputs": []
    },
    {
      "cell_type": "code",
      "source": [
        "lm_coeffs_BCM = []\n",
        "for i in range(len(out_test_bcm['BCM_FD'])):\n",
        "    counts, sizes = out_test_bcm['BCM_FD'][i][0],out_test_bcm['BCM_FD'][i][1]\n",
        "    # print(counts,sizes)\n",
        "    lm_coeffs_BCM.append(np.polyfit(np.log(sizes),np.log(counts),1)[0])\n",
        "lm_coeffs_BCM = np.array(lm_coeffs_BCM)*(-1)"
      ],
      "metadata": {
        "id": "WnEu7x9Px8mh",
        "collapsed": true
      },
      "execution_count": null,
      "outputs": []
    },
    {
      "cell_type": "markdown",
      "source": [
        "### IV. Bouligand-Minkowsky method"
      ],
      "metadata": {
        "id": "ax8qRpKB1tol"
      }
    },
    {
      "cell_type": "code",
      "source": [
        "def bmm(img, R):\n",
        "\n",
        "    dt = edt(img)\n",
        "    edge = np.argwhere(dt==1)\n",
        "    counts = []\n",
        "    fg = np.argwhere(img == 1)\n",
        "    for r in range(1,R+1,10):# calculates influence area for multiple r values\n",
        "        c = 0\n",
        "        for e in edge:\n",
        "            np.argwhere(distance(img, e[0],e[1]) <= r) # all pixels inside circle\n",
        "            a = set((tuple(i) for i in np.argwhere(distance(img, e[0],e[1]) <= r)))\n",
        "            b = set((tuple(i) for i in fg))\n",
        "            c = len(a.intersection(b))\n",
        "\n",
        "        counts.append(c)\n",
        "\n",
        "    return counts"
      ],
      "metadata": {
        "id": "zKF-4IDCyzw2"
      },
      "execution_count": null,
      "outputs": []
    },
    {
      "cell_type": "code",
      "source": [
        "#@jit(looplift=True)\n",
        "def fd_dataset_bmm(filename_list): #calculates BCM and BMM for each image in dataset\n",
        "\n",
        "    out = open('out_shapes_bmm.dat','w')\n",
        "\n",
        "    BMM_fd = []\n",
        "\n",
        "    for filename in range(len(filename_list)):\n",
        "        #print(filename)\n",
        "        img = skm.io.imread(f'https://github.com/pedromazim/visao/blob/main/shapes99/{filename_list[filename]}?raw=true')\n",
        "        img = make_square(img)\n",
        "        img = img/255.\n",
        "        img = skm.util.invert(img)\n",
        "        img = img == 1\n",
        "        img.astype('int')\n",
        "        print('pelo menos daqui passei')\n",
        "        bmm_fd = bmm(img, 100)\n",
        "        print(filename, filename_list[filename], 'bmm')\n",
        "\n",
        "        out.write(f'{bmm_fd}\\n')\n",
        "        BMM_fd.append(bmm_fd)\n",
        "\n",
        "    #data = np.savetxt('out_shapes.dat', np.array(BCM_fd))\n",
        "    out = {'filename':filename_list, 'BMM_FD':BMM_fd}\n",
        "    return out"
      ],
      "metadata": {
        "id": "QLwtJ-Ngy0IK"
      },
      "execution_count": null,
      "outputs": []
    },
    {
      "cell_type": "code",
      "source": [
        "out_test_bmm = fd_dataset_bmm(filename_list)"
      ],
      "metadata": {
        "id": "lPgO66hL0NGs"
      },
      "execution_count": null,
      "outputs": []
    },
    {
      "cell_type": "code",
      "source": [
        "lm_coeffs_BMM = []\n",
        "for i in range(len(out_test_bmm['BMM_FD'])):\n",
        "    counts= np.transpose(out_test_bmm['BMM_FD'][i])\n",
        "    # print(counts,sizes)\n",
        "    lm_coeffs_BMM.append(np.polyfit(np.log(np.arange(1,101,10)),np.log(counts),1)[0])\n",
        "lm_coeffs_BMM = 2 - np.array(lm_coeffs_BMM)"
      ],
      "metadata": {
        "collapsed": true,
        "id": "X0ADihJ7dhyJ"
      },
      "execution_count": null,
      "outputs": []
    },
    {
      "cell_type": "markdown",
      "source": [
        "### V. Acquiring the dataset"
      ],
      "metadata": {
        "id": "rLr0jCvYCaFl"
      }
    },
    {
      "cell_type": "code",
      "source": [
        "!git clone https://github.com/pedromazim/visao.git"
      ],
      "metadata": {
        "id": "bwZPQ15jnKra"
      },
      "execution_count": null,
      "outputs": []
    },
    {
      "cell_type": "code",
      "source": [
        "%cd visao/shapes99/\n",
        "os.getcwd()"
      ],
      "metadata": {
        "id": "_78K2BkfpY_0"
      },
      "execution_count": null,
      "outputs": []
    },
    {
      "cell_type": "code",
      "source": [
        "filename_list = sorted(glob(\"*.png\"))"
      ],
      "metadata": {
        "id": "1wFEfEyPw0Kx",
        "collapsed": true
      },
      "execution_count": null,
      "outputs": []
    },
    {
      "cell_type": "markdown",
      "source": [
        "### VI. Additional measurements"
      ],
      "metadata": {
        "id": "28OfOp0Kmo_T"
      }
    },
    {
      "cell_type": "code",
      "source": [
        "def img_perimeter(filename_list):\n",
        "\n",
        "    P = []\n",
        "\n",
        "    for filename in range(len(filename_list)):\n",
        "        #print(filename)\n",
        "        img = skm.io.imread(f'https://github.com/pedromazim/visao/blob/main/shapes99/{filename_list[filename]}?raw=true')\n",
        "        img = make_square(img)\n",
        "        img = img/255.\n",
        "        img = skm.util.invert(img)\n",
        "        img = img == 1\n",
        "        img.astype('int')\n",
        "\n",
        "        p = np.argwhere(edt(img) == 1).size/2\n",
        "        P.append(p)\n",
        "\n",
        "    return P"
      ],
      "metadata": {
        "id": "UfMKKM64VwuU"
      },
      "execution_count": null,
      "outputs": []
    },
    {
      "cell_type": "code",
      "source": [
        "def img_area(filename_list):\n",
        "\n",
        "    A = []\n",
        "\n",
        "    for filename in range(len(filename_list)):\n",
        "        #print(filename)\n",
        "        img = skm.io.imread(f'https://github.com/pedromazim/visao/blob/main/shapes99/{filename_list[filename]}?raw=true')\n",
        "        img = make_square(img)\n",
        "        img = img/255.\n",
        "        img = skm.util.invert(img)\n",
        "        img = img == 1\n",
        "        img.astype('int')\n",
        "\n",
        "        a = np.argwhere(img == 1).size/2\n",
        "        A.append(a)\n",
        "\n",
        "    return A"
      ],
      "metadata": {
        "id": "aeD3H85hex5y"
      },
      "execution_count": null,
      "outputs": []
    },
    {
      "cell_type": "code",
      "source": [
        "def img_solidity(filename_list):\n",
        "\n",
        "    S = []\n",
        "\n",
        "    for filename in range(len(filename_list)):\n",
        "        #print(filename)\n",
        "        img = skm.io.imread(f'https://github.com/pedromazim/visao/blob/main/shapes99/{filename_list[filename]}?raw=true')\n",
        "        img = make_square(img)\n",
        "        img = img/255.\n",
        "        img = skm.util.invert(img)\n",
        "        img = img == 1\n",
        "        img.astype('int')\n",
        "\n",
        "        ch = skm.morphology.convex_hull_image(img)\n",
        "        s = np.argwhere(img==1).size/np.argwhere(ch==1).size\n",
        "        S.append(s)\n",
        "\n",
        "    return S"
      ],
      "metadata": {
        "id": "nHQhUu47fFG4"
      },
      "execution_count": null,
      "outputs": []
    },
    {
      "cell_type": "code",
      "source": [
        "perimeter = img_perimeter(filename_list)"
      ],
      "metadata": {
        "id": "7KSSSJxbdBpA"
      },
      "execution_count": null,
      "outputs": []
    },
    {
      "cell_type": "code",
      "source": [
        "area = img_area(filename_list)"
      ],
      "metadata": {
        "id": "tPdZbRJIeubc"
      },
      "execution_count": null,
      "outputs": []
    },
    {
      "cell_type": "code",
      "source": [
        "solidity = img_solidity(filename_list)"
      ],
      "metadata": {
        "id": "VVLTUY3qfb_g"
      },
      "execution_count": null,
      "outputs": []
    },
    {
      "cell_type": "markdown",
      "source": [
        "### VII. Classifying shapes by Principal Component Analysis (PCA)"
      ],
      "metadata": {
        "id": "WcAusyGXxBgv"
      }
    },
    {
      "cell_type": "code",
      "source": [
        "filenames = ['fish','fish','rabbit','animal','animal','animal','animal','animal','animal','rabbit','animal','animal','animal','fish','animal','dude','dude','dude','dude','dude','dude','dude','dude','dude','dude','dude','rabbit','plane','plane','plane','goblin','goblin','goblin','goblin','goblin','goblin','goblin','goblin','fish','fish','fish','fish','animal','hand','hand','hand','hand','hand','hand','hand','hand','hand','hand','hand','plane','plane','plane','plane','fish','ray','ray','ray','ray','ray','ray','ray','ray','ray','ray','ray','rabbit','goblin','goblin','goblin','rabbit','rabbit','rabbit','rabbit','fish','plane','plane','rabbit','plane','plane','rabbit','rabbit','fish','tool','tool','tool','tool','tool','tool','tool','tool','tool','tool','tool','fish']"
      ],
      "metadata": {
        "id": "mAva04fxxaBL"
      },
      "execution_count": null,
      "outputs": []
    },
    {
      "cell_type": "code",
      "source": [
        "df = pd.DataFrame({'filenames':filenames, 'lm_coeffs_MRM':lm_coeffs_MRM, 'lm_coeffs_BCM':lm_coeffs_BCM, 'lm_coeffs_BMM':lm_coeffs_BMM, 'perimeter':perimeter, 'area':area, 'solidity':solidity})"
      ],
      "metadata": {
        "id": "9qiooQrfvo_o"
      },
      "execution_count": null,
      "outputs": []
    },
    {
      "cell_type": "code",
      "source": [
        "df"
      ],
      "metadata": {
        "id": "Ejwf8Gb2v9Yu"
      },
      "execution_count": null,
      "outputs": []
    },
    {
      "cell_type": "code",
      "source": [
        "targets = ['tool', 'dude', 'fish' , 'rabbit', 'ray', 'animal', 'plane', 'hand', 'goblin']\n",
        "features = ['lm_coeffs_BMM', 'solidity']\n",
        "\n",
        "# Separating out the features\n",
        "x = df.loc[:, features].values\n",
        "\n",
        "# Separating out the target\n",
        "y = df.loc[:,['filenames']].values\n",
        "\n",
        "# Standardizing the features\n",
        "x = StandardScaler().fit_transform(x)\n",
        "\n",
        "pca = PCA(n_components=2)\n",
        "\n",
        "principalComponents = pca.fit_transform(x)\n",
        "\n",
        "principalDf = pd.DataFrame(data = principalComponents\n",
        "             , columns = ['principal component 1', 'principal component 2'])\n",
        "\n",
        "finalDf = pd.concat([principalDf, df[['filenames']]], axis = 1)\n",
        "\n",
        "fig = pt.figure(figsize = (8,8))\n",
        "ax = fig.add_subplot(1,1,1)\n",
        "ax.set_xlabel('Principal Component 1', fontsize = 15)\n",
        "ax.set_ylabel('Principal Component 2', fontsize = 15)\n",
        "ax.set_title('2 component PCA', fontsize = 20)\n",
        "\n",
        "targets = ['tool', 'dude', 'fish' , 'rabbit', 'ray', 'animal', 'plane', 'hand', 'goblin']\n",
        "colors = ['r', 'g', 'b', 'k', 'orange', 'm', 'c', 'y', 'gray']\n",
        "for target, color in zip(targets,colors):\n",
        "    indicesToKeep = finalDf['filenames'] == target\n",
        "    ax.scatter(finalDf.loc[indicesToKeep, 'principal component 1']\n",
        "               , finalDf.loc[indicesToKeep, 'principal component 2']\n",
        "               , c = color\n",
        "               , s = 50)\n",
        "ax.legend(targets)\n",
        "ax.grid()\n",
        "\n",
        "pt.savefig('PCA_test_bmm_3.png', dpi=300)\n",
        "pt.show()"
      ],
      "metadata": {
        "id": "_ZQiiYJTCGPh"
      },
      "execution_count": null,
      "outputs": []
    }
  ]
}