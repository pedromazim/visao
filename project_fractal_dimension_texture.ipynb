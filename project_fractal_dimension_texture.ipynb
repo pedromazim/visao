{
  "nbformat": 4,
  "nbformat_minor": 0,
  "metadata": {
    "colab": {
      "provenance": [],
      "collapsed_sections": [
        "VwrAlsQBmZ05",
        "oqBDOicn1lNC",
        "ax8qRpKB1tol"
      ],
      "authorship_tag": "ABX9TyOd+EcSgFqn6FJDOrphfOah",
      "include_colab_link": true
    },
    "kernelspec": {
      "name": "python3",
      "display_name": "Python 3"
    },
    "language_info": {
      "name": "python"
    }
  },
  "cells": [
    {
      "cell_type": "markdown",
      "metadata": {
        "id": "view-in-github",
        "colab_type": "text"
      },
      "source": [
        "<a href=\"https://colab.research.google.com/github/pedromazim/visao/blob/main/project_fractal_dimension_texture.ipynb\" target=\"_parent\"><img src=\"https://colab.research.google.com/assets/colab-badge.svg\" alt=\"Open In Colab\"/></a>"
      ]
    },
    {
      "cell_type": "markdown",
      "source": [
        "### I. Modules and auxiliary functions"
      ],
      "metadata": {
        "id": "VwrAlsQBmZ05"
      }
    },
    {
      "cell_type": "code",
      "execution_count": 3,
      "metadata": {
        "id": "gu4g013FYs2K"
      },
      "outputs": [],
      "source": [
        "import numpy as np\n",
        "import skimage as skm\n",
        "import matplotlib.pyplot as pt\n",
        "import matplotlib.colors as cm\n",
        "#import porespy as ps\n",
        "from numba import jit\n",
        "from PIL import Image\n",
        "import os\n",
        "from glob import glob\n",
        "from skimage.filters import threshold_otsu"
      ]
    },
    {
      "cell_type": "code",
      "source": [
        "def make_gray(img, weights):\n",
        "\n",
        "    '''\n",
        "    converts an colored RGB image to grayscale\n",
        "\n",
        "    img : image to be converted\n",
        "    weights : list or array containing the relative weights of red, blue and green for conversion\n",
        "\n",
        "    '''\n",
        "\n",
        "    if len(img.shape) == 3:\n",
        "\n",
        "        img_recol = np.zeros((img.shape[0],img.shape[1]))\n",
        "\n",
        "        # for i in range(img.shape[0]):\n",
        "        #     for j in range(img.shape[1]):\n",
        "        #             img_recol[i,j] = weights[0]*img[i,j,0] + weights[1]*img[i,j,1] + weights[2]*img[i,j,2]\n",
        "        img_recol = weights[0]*img[:,:,0] + weights[1]*img[:,:,1] + weights[2]*img[:,:,2]\n",
        "        return img_recol\n",
        "    else:\n",
        "        return img"
      ],
      "metadata": {
        "id": "93ad0GHNeyhi"
      },
      "execution_count": 4,
      "outputs": []
    },
    {
      "cell_type": "code",
      "source": [
        "@jit(looplift=True)\n",
        "def histogram(img):\n",
        "\n",
        "    '''\n",
        "    returns the histogram of a grayscale image\n",
        "\n",
        "    img: input image\n",
        "    '''\n",
        "\n",
        "    bins = np.arange(256)\n",
        "    counts = np.zeros_like(bins)\n",
        "\n",
        "    for b in bins:\n",
        "        counts[b] = np.where(img==b)[0].size\n",
        "\n",
        "    return counts"
      ],
      "metadata": {
        "colab": {
          "base_uri": "https://localhost:8080/"
        },
        "id": "AHnty0IS1OPj",
        "outputId": "91deb4d8-17b3-4db8-e365-d2766cdd209f"
      },
      "execution_count": 5,
      "outputs": [
        {
          "output_type": "stream",
          "name": "stderr",
          "text": [
            "<ipython-input-5-8337ce144aa7>:1: NumbaDeprecationWarning: The 'nopython' keyword argument was not supplied to the 'numba.jit' decorator. The implicit default value for this argument is currently False, but it will be changed to True in Numba 0.59.0. See https://numba.readthedocs.io/en/stable/reference/deprecation.html#deprecation-of-object-mode-fall-back-behaviour-when-using-jit for details.\n",
            "  @jit(looplift=True)\n"
          ]
        }
      ]
    },
    {
      "cell_type": "code",
      "source": [
        "@jit(looplift=True)\n",
        "def cdf_histogram(img):\n",
        "\n",
        "    '''\n",
        "    returns the cummulative histogram of a grayscale image\n",
        "\n",
        "    img: input image\n",
        "    '''\n",
        "\n",
        "    bins = np.arange(256)\n",
        "    counts = histogram(img)\n",
        "    cdf_counts = np.zeros_like(counts)\n",
        "\n",
        "    for b in bins:\n",
        "        cdf_counts[b] = np.sum(counts[0:b])/(img.size)\n",
        "\n",
        "    return cdf_counts\n"
      ],
      "metadata": {
        "colab": {
          "base_uri": "https://localhost:8080/"
        },
        "id": "xZkEKJ7z1PGy",
        "outputId": "5da8ed42-b3db-42c4-e700-ed4c243c0cec"
      },
      "execution_count": 6,
      "outputs": [
        {
          "output_type": "stream",
          "name": "stderr",
          "text": [
            "<ipython-input-6-bddc8ff98c4a>:1: NumbaDeprecationWarning: The 'nopython' keyword argument was not supplied to the 'numba.jit' decorator. The implicit default value for this argument is currently False, but it will be changed to True in Numba 0.59.0. See https://numba.readthedocs.io/en/stable/reference/deprecation.html#deprecation-of-object-mode-fall-back-behaviour-when-using-jit for details.\n",
            "  @jit(looplift=True)\n"
          ]
        }
      ]
    },
    {
      "cell_type": "code",
      "source": [
        "#@jit(looplift=True)\n",
        "def otsu_thresholding(img):\n",
        "    img = img.flatten()\n",
        "    hist = histogram(img)\n",
        "    cdf = cdf_histogram(hist)\n",
        "    mean_gray = np.mean(img)\n",
        "    var = np.zeros_like(hist)\n",
        "\n",
        "    for t in range(256):\n",
        "        # computing class probability (background and foreground)\n",
        "        pb = img[img<t].size\n",
        "        wb = pb/img.size\n",
        "        wf = 1-wb\n",
        "\n",
        "        if wb != 0 and wb != 1:\n",
        "            mb = np.sum(img[img<t])/pb\n",
        "            mf = np.sum(img[img>=t])/(img.size-pb)\n",
        "\n",
        "            vb = np.sum((img[img<t]-mb)**2)/pb\n",
        "            vf = np.sum((img[img>=t]-mf)**2)/(img.size-pb)\n",
        "\n",
        "        elif wb == 1:\n",
        "            continue\n",
        "        else:\n",
        "            continue\n",
        "\n",
        "        var[t] = wb*vb + wf*vf\n",
        "    count = 0\n",
        "    for v in var:\n",
        "        if v != 0:\n",
        "            break\n",
        "        else:\n",
        "            count+=1\n",
        "        #print(wb,vb, wf,vf, var[t])\n",
        "    threshold = np.argmin(var[np.nonzero(var)]) + count\n",
        "\n",
        "    return threshold"
      ],
      "metadata": {
        "id": "f0YYasRF1PX7"
      },
      "execution_count": 7,
      "outputs": []
    },
    {
      "cell_type": "code",
      "source": [
        "# ROUBALHEIRA PESADA\n",
        "@jit(looplift=True)\n",
        "def find_divisors(num_a,num_b):# finds common divisors :)\n",
        "    d_a, d_b = [],[]\n",
        "    for i in range(2,int(num_a/2)+1):\n",
        "        if num_a%i == 0:\n",
        "            d_a.append(i)\n",
        "    for i in range(2,int(num_b/2)+1):\n",
        "        if num_b%i == 0:\n",
        "            d_b.append(i)\n",
        "    d = np.intersect1d(d_a,d_b)\n",
        "    return np.array(d)"
      ],
      "metadata": {
        "colab": {
          "base_uri": "https://localhost:8080/"
        },
        "id": "xNokqUs1x4UA",
        "outputId": "14542bd3-af9c-4cb6-8b7d-52c47cf0edbd",
        "collapsed": true
      },
      "execution_count": 8,
      "outputs": [
        {
          "output_type": "stream",
          "name": "stderr",
          "text": [
            "<ipython-input-8-00525284bd13>:2: NumbaDeprecationWarning: The 'nopython' keyword argument was not supplied to the 'numba.jit' decorator. The implicit default value for this argument is currently False, but it will be changed to True in Numba 0.59.0. See https://numba.readthedocs.io/en/stable/reference/deprecation.html#deprecation-of-object-mode-fall-back-behaviour-when-using-jit for details.\n",
            "  @jit(looplift=True)\n"
          ]
        }
      ]
    },
    {
      "cell_type": "code",
      "source": [
        "@jit(looplift=True)\n",
        "def edt(img):# euclidean distance from foreground to background pixels\n",
        "\n",
        "    img = img.astype('int')\n",
        "    h, w = img.shape\n",
        "\n",
        "    d = np.zeros((h,w))\n",
        "\n",
        "    for y in range(h):\n",
        "        for x in range(w):\n",
        "\n",
        "            if img[x,y] == 1:\n",
        "                flag = True\n",
        "                r = 1\n",
        "                while flag:\n",
        "                    nb = img[x-r:x+r+1,y-r:y+r+1]\n",
        "                    if np.flatnonzero(nb).size != nb.size:\n",
        "                        d[x,y] = r\n",
        "                        flag = False\n",
        "                    else:\n",
        "                        r += 1\n",
        "    return d"
      ],
      "metadata": {
        "colab": {
          "base_uri": "https://localhost:8080/"
        },
        "id": "9xHd1zoY0-T6",
        "outputId": "5cc93a9d-a71c-493e-ce98-cb3340415da3"
      },
      "execution_count": 9,
      "outputs": [
        {
          "output_type": "stream",
          "name": "stderr",
          "text": [
            "<ipython-input-9-3228bbd79bae>:1: NumbaDeprecationWarning: The 'nopython' keyword argument was not supplied to the 'numba.jit' decorator. The implicit default value for this argument is currently False, but it will be changed to True in Numba 0.59.0. See https://numba.readthedocs.io/en/stable/reference/deprecation.html#deprecation-of-object-mode-fall-back-behaviour-when-using-jit for details.\n",
            "  @jit(looplift=True)\n"
          ]
        }
      ]
    },
    {
      "cell_type": "code",
      "source": [
        "@jit(looplift=True)\n",
        "def distance(img, x0, y0):# distance from all foreground pixels to a specific one\n",
        "    img = img.astype('int')\n",
        "    h, w = img.shape\n",
        "    dist = np.zeros_like(img)\n",
        "    fg = np.argwhere(img == 1)\n",
        "    dist = np.sqrt((np.indices((h,w))[0]-x0)**2 + (np.indices((h,w))[1]-y0)**2)\n",
        "    # for px in fg:\n",
        "    #     dist[x,y] = np.sqrt((px[0]-x0)**2+(px[1]-y0)**2)\n",
        "    return dist"
      ],
      "metadata": {
        "colab": {
          "base_uri": "https://localhost:8080/"
        },
        "id": "Pr8RFDcf1CPB",
        "outputId": "63b0221e-0b02-46fd-8225-70cfce81b160"
      },
      "execution_count": 24,
      "outputs": [
        {
          "output_type": "stream",
          "name": "stderr",
          "text": [
            "<ipython-input-24-c6de0aadb2f4>:1: NumbaDeprecationWarning: The 'nopython' keyword argument was not supplied to the 'numba.jit' decorator. The implicit default value for this argument is currently False, but it will be changed to True in Numba 0.59.0. See https://numba.readthedocs.io/en/stable/reference/deprecation.html#deprecation-of-object-mode-fall-back-behaviour-when-using-jit for details.\n",
            "  @jit(looplift=True)\n"
          ]
        }
      ]
    },
    {
      "cell_type": "markdown",
      "source": [
        "### II. Box-counting method\n",
        "\n",
        "Input is a binary image\\\n",
        "Step 1: Cut the image in four squares (cut in half in width and height directions)\\\n",
        "Step 2: Count how many squares have at least one foreground pixel in it\\\n",
        "Step 3: Divide each square again and count\n"
      ],
      "metadata": {
        "id": "oqBDOicn1lNC"
      }
    },
    {
      "cell_type": "code",
      "source": [
        "#@jit(looplift=True)\n",
        "def bcm(img):\n",
        "\n",
        "    img = make_gray(img,[1/3,1/3,1/3])\n",
        "    #thd = otsu_thresholding(img)\n",
        "    thd = threshold_otsu(img)\n",
        "    img = img > thd\n",
        "\n",
        "    img = img.astype('int')\n",
        "    grid = np.zeros_like(img)\n",
        "    h, w = img.shape\n",
        "    counts = []\n",
        "\n",
        "    # for i in range(1,res):# divide squares each loop\n",
        "    #     L = 2**(i)\n",
        "    #     counter = 0\n",
        "    #     for s in np.split(img,L):\n",
        "    #         s = np.split(s,L,axis=1)\n",
        "    #         for square in s:\n",
        "    #             if np.flatnonzero(square).size != 0:\n",
        "    #                 counter += 1\n",
        "    #     counts.append(counter)\n",
        "\n",
        "    counter = 0\n",
        "\n",
        "    for d in find_divisors(h,w):\n",
        "        counter = 0\n",
        "        s = img.reshape(d, int(h/d), d, int(w/d)).transpose(0,2,1,3)\n",
        "        # print(s.shape)\n",
        "        for ss in s:\n",
        "            for square in ss:\n",
        "                # print(square)\n",
        "                if np.flatnonzero(square).size != 0:\n",
        "                    counter += 1\n",
        "        counts.append(counter)\n",
        "    return np.array(counts)"
      ],
      "metadata": {
        "id": "9m61KRU7nOWS"
      },
      "execution_count": null,
      "outputs": []
    },
    {
      "cell_type": "markdown",
      "source": [
        "### III. Bouligand-Minkowsky method\n",
        "Input is a binary image\\\n",
        "Step 1: Obtain the edge pixels by euclidean distance transform (EDT)\\\n",
        "Step 2: Set a disk of radius r and count every pixel under its influence area;\\\n",
        "Step 3: Repeat for every edge pixel;\\\n",
        "Step 4: Repeat for many r values;\\\n",
        "Step 5: Obtain FD by linearization of A(r) x r."
      ],
      "metadata": {
        "id": "ax8qRpKB1tol"
      }
    },
    {
      "cell_type": "code",
      "source": [
        "def bmm(img, R):\n",
        "\n",
        "    img = make_gray(img,[1/3,1/3,1/3])\n",
        "    #thd = otsu_thresholding(img)\n",
        "    thd = threshold_otsu(img)\n",
        "    img = img > thd\n",
        "    img = img.astype('int')\n",
        "\n",
        "    dt = edt(img)\n",
        "    edge = np.argwhere(dt==1)\n",
        "    counts = []\n",
        "    for r in range(1,R+1):# calculates influence area for multiple r values\n",
        "        print(r)\n",
        "        c = 0\n",
        "        for px in edge:\n",
        "            A_r = np.flatnonzero(np.where(distance(img, px[0],px[1]) <= r))\n",
        "            c += A_r.size\n",
        "        counts.append(c)\n",
        "\n",
        "    return counts"
      ],
      "metadata": {
        "id": "zKF-4IDCyzw2"
      },
      "execution_count": 26,
      "outputs": []
    },
    {
      "cell_type": "code",
      "source": [
        "img = skm.io.imread(f'https://github.com/pedromazim/visao/blob/main/leaf_data/{filename_list[50]}?raw=true')[:,1000:-1000,:]"
      ],
      "metadata": {
        "id": "lVCjWPRSGsXe"
      },
      "execution_count": 20,
      "outputs": []
    },
    {
      "cell_type": "code",
      "source": [
        "img = make_gray(img,[1/3,1/3,1/3])\n",
        "#thd = otsu_thresholding(img)\n",
        "thd = threshold_otsu(img)\n",
        "img = img > thd\n",
        "img = img.astype('uint8')"
      ],
      "metadata": {
        "id": "JZ-nF6k3GvJK"
      },
      "execution_count": 21,
      "outputs": []
    },
    {
      "cell_type": "code",
      "source": [
        "test = bmm(img,10)"
      ],
      "metadata": {
        "id": "32JlYZUjG4AU"
      },
      "execution_count": null,
      "outputs": []
    },
    {
      "cell_type": "markdown",
      "source": [
        "### IV. Applying to a leaf image dataset"
      ],
      "metadata": {
        "id": "28OfOp0Kmo_T"
      }
    },
    {
      "cell_type": "code",
      "source": [
        "!git clone https://github.com/pedromazim/visao.git"
      ],
      "metadata": {
        "colab": {
          "base_uri": "https://localhost:8080/"
        },
        "id": "bwZPQ15jnKra",
        "outputId": "eb0967cc-c990-44f6-8b64-cbaef57ab70a"
      },
      "execution_count": 27,
      "outputs": [
        {
          "output_type": "stream",
          "name": "stdout",
          "text": [
            "fatal: destination path 'visao' already exists and is not an empty directory.\n"
          ]
        }
      ]
    },
    {
      "cell_type": "code",
      "source": [
        "%cd visao/leaf_data/\n",
        "os.getcwd()"
      ],
      "metadata": {
        "colab": {
          "base_uri": "https://localhost:8080/",
          "height": 53
        },
        "id": "_78K2BkfpY_0",
        "outputId": "a8c5268f-7875-4d30-c723-3af118d7bd10"
      },
      "execution_count": 28,
      "outputs": [
        {
          "output_type": "stream",
          "name": "stdout",
          "text": [
            "/content/visao/leaf_data\n"
          ]
        },
        {
          "output_type": "execute_result",
          "data": {
            "text/plain": [
              "'/content/visao/leaf_data'"
            ],
            "application/vnd.google.colaboratory.intrinsic+json": {
              "type": "string"
            }
          },
          "metadata": {},
          "execution_count": 28
        }
      ]
    },
    {
      "cell_type": "code",
      "source": [
        "filename_list = glob(\"*.JPG\")"
      ],
      "metadata": {
        "id": "1wFEfEyPw0Kx",
        "collapsed": true
      },
      "execution_count": 29,
      "outputs": []
    },
    {
      "cell_type": "code",
      "source": [
        "#@jit(looplift=True)\n",
        "def fd_dataset(filename_list): #calculates BCM and BMM for each image in dataset\n",
        "\n",
        "    # BCM_fd = np.empty((22,len(filename_list)))\n",
        "    # BMM_fd = np.empty((,len(filename_list)))\n",
        "    BMM_fd = []\n",
        "    for filename in range(len(filename_list)):\n",
        "        #print(filename)\n",
        "        img = skm.io.imread(f'https://github.com/pedromazim/visao/blob/main/leaf_data/{filename_list[filename]}?raw=true')[:,1000:-1000,:]\n",
        "\n",
        "        # bcm_fd = bcm(img)\n",
        "        # print(filename, 'bcm')\n",
        "        bmm_fd = bmm(img, iter)\n",
        "        print(filename, 'bmm')\n",
        "\n",
        "        BCM_fd[:,filename] = bcm_fd\n",
        "        BMM_fd.append(bmm_fd)\n",
        "\n",
        "    data = np.savetxt('out_leaf.dat', np.array(BMM_fd))\n",
        "    return data"
      ],
      "metadata": {
        "id": "QLwtJ-Ngy0IK"
      },
      "execution_count": 30,
      "outputs": []
    },
    {
      "cell_type": "code",
      "source": [
        "out_test_bmm = fd_dataset(filename_list)"
      ],
      "metadata": {
        "id": "lHQf9Yxo-Zik",
        "collapsed": true
      },
      "execution_count": null,
      "outputs": []
    },
    {
      "cell_type": "code",
      "source": [
        "data_bcm = np.loadtxt('out_leaf.dat')"
      ],
      "metadata": {
        "id": "WnEu7x9Px8mh"
      },
      "execution_count": 16,
      "outputs": []
    },
    {
      "cell_type": "code",
      "source": [
        "coeffs = []\n",
        "for j in range(data_bcm.shape[1]):\n",
        "    im_ex = skm.io.imread(f'https://github.com/pedromazim/visao/blob/main/leaf_data/{filename_list[j]}?raw=true')[:,1000:-1000,:]\n",
        "    sizes = find_divisors(im_ex.shape[0],im_ex.shape[1])\n",
        "    coeffs.append(np.polyfit(np.log(sizes),np.log(data_bcm[:,j]),1))\n",
        "coeffs = np.array(coeffs)"
      ],
      "metadata": {
        "id": "2WjJWhtLPa6b"
      },
      "execution_count": 17,
      "outputs": []
    },
    {
      "cell_type": "code",
      "source": [
        "coeffs"
      ],
      "metadata": {
        "colab": {
          "base_uri": "https://localhost:8080/"
        },
        "id": "LKPVnEgPavI5",
        "outputId": "d4bf9301-4679-4d2b-e06f-eddbf4d1fa7c"
      },
      "execution_count": 18,
      "outputs": [
        {
          "output_type": "execute_result",
          "data": {
            "text/plain": [
              "array([[ 1.80615496e+00,  1.25433867e-01],\n",
              "       [ 1.70132467e+00,  5.94026410e-01],\n",
              "       [ 1.88606992e+00,  8.81843167e-02],\n",
              "       [ 1.59663217e+00,  5.20962666e-01],\n",
              "       [ 1.83604836e+00,  2.32445777e-01],\n",
              "       [ 1.90238642e+00,  1.75532733e-01],\n",
              "       [ 1.93506202e+00,  3.43774320e-02],\n",
              "       [ 1.43843797e+00,  8.61317068e-01],\n",
              "       [ 1.94958363e+00,  3.26064443e-03],\n",
              "       [ 1.66494391e+00,  3.41840528e-02],\n",
              "       [ 1.91704492e+00,  1.25914555e-01],\n",
              "       [ 1.62738822e+00,  8.13817952e-01],\n",
              "       [ 1.94588620e+00,  1.78443624e-02],\n",
              "       [ 1.93774357e+00,  2.67740374e-02],\n",
              "       [ 1.82992583e+00,  3.06098138e-01],\n",
              "       [ 1.77879909e+00,  4.14099521e-01],\n",
              "       [ 1.64391017e+00,  1.23176343e-01],\n",
              "       [ 1.41583820e+00,  5.65725405e-01],\n",
              "       [ 1.70080021e+00,  5.89690626e-01],\n",
              "       [ 1.60066811e+00,  5.46601035e-01],\n",
              "       [ 1.88672990e+00,  1.23707038e-01],\n",
              "       [ 1.49074604e+00,  4.09834900e-01],\n",
              "       [ 1.95416165e+00,  3.53499713e-02],\n",
              "       [ 1.72286834e+00,  9.75851060e-02],\n",
              "       [ 1.82977970e+00,  2.64369590e-01],\n",
              "       [ 1.93621131e+00,  3.65431782e-02],\n",
              "       [ 1.93753666e+00,  5.59057769e-02],\n",
              "       [ 1.75976963e+00,  2.98512944e-03],\n",
              "       [ 1.95284980e+00,  3.60822305e-02],\n",
              "       [ 1.85050948e+00,  1.81214628e-01],\n",
              "       [ 1.91063169e+00,  1.54290530e-01],\n",
              "       [ 1.95758260e+00, -1.70158890e-03],\n",
              "       [ 1.85664077e+00,  8.81566989e-02],\n",
              "       [ 1.54487117e+00, -1.96869247e-01],\n",
              "       [ 1.80572687e+00,  1.05142251e-01],\n",
              "       [ 1.77319654e+00,  6.40747702e-02],\n",
              "       [ 1.77234426e+00,  2.84682099e-02],\n",
              "       [ 1.93516838e+00,  7.69832353e-02],\n",
              "       [ 1.87600969e+00, -1.73587515e-02],\n",
              "       [ 1.74798180e+00,  4.68939424e-01],\n",
              "       [ 1.83083084e+00,  2.12509579e-01],\n",
              "       [ 1.60163316e+00, -3.29160166e-01],\n",
              "       [ 1.80342291e+00,  2.93270124e-01],\n",
              "       [ 1.84960653e+00,  2.67826765e-01],\n",
              "       [ 1.92602835e+00,  2.99564913e-02],\n",
              "       [ 1.92618383e+00,  9.05963117e-02],\n",
              "       [ 1.41827672e+00,  7.15969472e-01],\n",
              "       [ 1.94907141e+00,  2.21020463e-02],\n",
              "       [ 1.71380526e+00,  3.09621956e-01],\n",
              "       [ 1.91093419e+00,  5.62910408e-02],\n",
              "       [ 1.96452443e+00, -1.20908952e-02],\n",
              "       [ 1.83437918e+00,  1.29613189e-01],\n",
              "       [ 1.92179319e+00,  1.25861846e-01],\n",
              "       [ 1.85261109e+00,  1.29239451e-01],\n",
              "       [ 1.90756701e+00,  1.18299294e-01],\n",
              "       [ 1.89942485e+00,  1.76559507e-01],\n",
              "       [ 1.88216031e+00,  1.59111596e-01],\n",
              "       [ 1.71878140e+00,  1.89531092e-01],\n",
              "       [ 1.93901701e+00,  8.45884638e-02],\n",
              "       [ 1.92891816e+00,  6.09948198e-02],\n",
              "       [ 1.95126218e+00, -1.45740967e-02],\n",
              "       [ 1.84944233e+00,  1.23685775e-01],\n",
              "       [ 1.87711106e+00,  1.30140773e-01],\n",
              "       [ 1.94970374e+00,  3.85577377e-03],\n",
              "       [ 1.84698881e+00,  1.15888838e-01],\n",
              "       [ 1.64985632e+00, -3.76939092e-02],\n",
              "       [ 1.76818757e+00, -1.78990048e-01],\n",
              "       [ 1.66121549e+00,  4.36613621e-03],\n",
              "       [ 1.89230687e+00,  1.36186899e-01],\n",
              "       [ 1.91936431e+00,  2.15159668e-02],\n",
              "       [ 1.83682260e+00,  2.74831259e-01],\n",
              "       [ 1.92890159e+00,  3.30667713e-02],\n",
              "       [ 1.94465939e+00, -2.06445828e-03],\n",
              "       [ 1.79950345e+00,  2.17048505e-01],\n",
              "       [ 1.93442199e+00,  3.21246169e-02],\n",
              "       [ 1.77990261e+00,  1.06365453e-01],\n",
              "       [ 1.75912329e+00, -7.03364152e-03],\n",
              "       [ 1.93844611e+00,  1.40954265e-01],\n",
              "       [ 1.65451148e+00,  7.38214713e-01],\n",
              "       [ 1.93803245e+00,  4.49777356e-02],\n",
              "       [ 1.89519165e+00,  7.70109736e-02],\n",
              "       [ 1.80347686e+00,  3.30301599e-01],\n",
              "       [ 1.92910788e+00, -3.87321133e-03],\n",
              "       [ 1.95939531e+00,  2.37041112e-02],\n",
              "       [ 1.86100829e+00,  1.18656367e-01],\n",
              "       [ 1.94198471e+00,  3.96478198e-02],\n",
              "       [ 1.92514822e+00,  1.74979189e-01],\n",
              "       [ 1.68375862e+00,  7.37556851e-02],\n",
              "       [ 1.94071190e+00,  5.24621274e-03],\n",
              "       [ 1.60093423e+00,  4.76505150e-02],\n",
              "       [ 1.95801593e+00,  9.40511721e-03],\n",
              "       [ 1.73532901e+00,  2.38087202e-01],\n",
              "       [ 1.64718519e+00,  1.31492705e-01],\n",
              "       [ 1.97131731e+00,  9.92567720e-03],\n",
              "       [ 1.48774871e+00,  8.34534993e-01],\n",
              "       [ 1.63889820e+00, -1.90103468e-01],\n",
              "       [ 1.57768704e+00,  6.98602809e-01],\n",
              "       [ 1.90113325e+00,  1.19801186e-01],\n",
              "       [ 1.83210339e+00,  7.18274559e-02],\n",
              "       [ 1.53725118e+00, -6.58517692e-02]])"
            ]
          },
          "metadata": {},
          "execution_count": 18
        }
      ]
    },
    {
      "cell_type": "code",
      "source": [
        "data_bcm[:,1].size"
      ],
      "metadata": {
        "colab": {
          "base_uri": "https://localhost:8080/"
        },
        "id": "lnXdU3g_XbMT",
        "outputId": "2e1cfd33-f587-4dd4-a5d2-7c3b444d76e4"
      },
      "execution_count": 20,
      "outputs": [
        {
          "output_type": "execute_result",
          "data": {
            "text/plain": [
              "19"
            ]
          },
          "metadata": {},
          "execution_count": 20
        }
      ]
    },
    {
      "cell_type": "code",
      "source": [
        "find_divisors(4000,4000).size"
      ],
      "metadata": {
        "colab": {
          "base_uri": "https://localhost:8080/"
        },
        "id": "tu_LSZDMXq8G",
        "outputId": "f1baa440-5631-44ae-a344-12f0f94d7777"
      },
      "execution_count": 22,
      "outputs": [
        {
          "output_type": "execute_result",
          "data": {
            "text/plain": [
              "22"
            ]
          },
          "metadata": {},
          "execution_count": 22
        }
      ]
    },
    {
      "cell_type": "code",
      "source": [
        "bcm(im_ex)"
      ],
      "metadata": {
        "colab": {
          "base_uri": "https://localhost:8080/"
        },
        "id": "1_3YyRfP1Ufv",
        "outputId": "2d9abb1e-9b79-45ca-875e-07fab5355f84"
      },
      "execution_count": 87,
      "outputs": [
        {
          "output_type": "execute_result",
          "data": {
            "text/plain": [
              "array([      4,      15,      24,      54,      78,     192,     287,\n",
              "           427,     668,    1006,    1501,    3540,    5316,    8005,\n",
              "         12626,   19104,   28885,   69941,  106660,  264974,  409104,\n",
              "       1595392])"
            ]
          },
          "metadata": {},
          "execution_count": 87
        }
      ]
    },
    {
      "cell_type": "code",
      "source": [
        "a = np.array([1,2,3])\n",
        "b = np.arange(9).reshape(3,3)\n",
        "np.indices((3,3))[0]"
      ],
      "metadata": {
        "colab": {
          "base_uri": "https://localhost:8080/"
        },
        "id": "Ecs454SrPEKX",
        "outputId": "53cac504-90e6-4ed6-b49a-72fac483e268"
      },
      "execution_count": 21,
      "outputs": [
        {
          "output_type": "execute_result",
          "data": {
            "text/plain": [
              "array([[0, 0, 0],\n",
              "       [1, 1, 1],\n",
              "       [2, 2, 2]])"
            ]
          },
          "metadata": {},
          "execution_count": 21
        }
      ]
    },
    {
      "cell_type": "code",
      "source": [
        "distance(b,1,1)"
      ],
      "metadata": {
        "colab": {
          "base_uri": "https://localhost:8080/"
        },
        "id": "YN07NcNKyc0T",
        "outputId": "edddab2a-8e12-474c-b64f-1346da0916db"
      },
      "execution_count": 25,
      "outputs": [
        {
          "output_type": "stream",
          "name": "stderr",
          "text": [
            "<ipython-input-24-c6de0aadb2f4>:1: NumbaWarning: \n",
            "Compilation is falling back to object mode WITH looplifting enabled because Function \"distance\" failed type inference due to: Use of unsupported NumPy function 'numpy.indices' or unsupported use of the function.\n",
            "\n",
            "File \"<ipython-input-24-c6de0aadb2f4>\", line 7:\n",
            "def distance(img, x0, y0):# distance from all foreground pixels to a specific one\n",
            "    <source elided>\n",
            "    fg = np.argwhere(img == 1)\n",
            "    dist = np.sqrt((np.indices((h,w))[0]-x0)**2 + (np.indices((h,w))[1]-y0)**2)\n",
            "    ^\n",
            "\n",
            "During: typing of get attribute at <ipython-input-24-c6de0aadb2f4> (7)\n",
            "\n",
            "File \"<ipython-input-24-c6de0aadb2f4>\", line 7:\n",
            "def distance(img, x0, y0):# distance from all foreground pixels to a specific one\n",
            "    <source elided>\n",
            "    fg = np.argwhere(img == 1)\n",
            "    dist = np.sqrt((np.indices((h,w))[0]-x0)**2 + (np.indices((h,w))[1]-y0)**2)\n",
            "    ^\n",
            "\n",
            "  @jit(looplift=True)\n",
            "/usr/local/lib/python3.10/dist-packages/numba/core/object_mode_passes.py:151: NumbaWarning: Function \"distance\" was compiled in object mode without forceobj=True.\n",
            "\n",
            "File \"<ipython-input-24-c6de0aadb2f4>\", line 2:\n",
            "@jit(looplift=True)\n",
            "def distance(img, x0, y0):# distance from all foreground pixels to a specific one\n",
            "^\n",
            "\n",
            "  warnings.warn(errors.NumbaWarning(warn_msg,\n",
            "/usr/local/lib/python3.10/dist-packages/numba/core/object_mode_passes.py:161: NumbaDeprecationWarning: \n",
            "Fall-back from the nopython compilation path to the object mode compilation path has been detected. This is deprecated behaviour that will be removed in Numba 0.59.0.\n",
            "\n",
            "For more information visit https://numba.readthedocs.io/en/stable/reference/deprecation.html#deprecation-of-object-mode-fall-back-behaviour-when-using-jit\n",
            "\n",
            "File \"<ipython-input-24-c6de0aadb2f4>\", line 2:\n",
            "@jit(looplift=True)\n",
            "def distance(img, x0, y0):# distance from all foreground pixels to a specific one\n",
            "^\n",
            "\n",
            "  warnings.warn(errors.NumbaDeprecationWarning(msg,\n"
          ]
        },
        {
          "output_type": "execute_result",
          "data": {
            "text/plain": [
              "array([[1.41421356, 1.        , 1.41421356],\n",
              "       [1.        , 0.        , 1.        ],\n",
              "       [1.41421356, 1.        , 1.41421356]])"
            ]
          },
          "metadata": {},
          "execution_count": 25
        }
      ]
    }
  ]
}