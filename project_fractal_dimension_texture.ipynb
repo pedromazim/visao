{
  "nbformat": 4,
  "nbformat_minor": 0,
  "metadata": {
    "colab": {
      "provenance": [],
      "collapsed_sections": [
        "VwrAlsQBmZ05",
        "rLr0jCvYCaFl"
      ],
      "authorship_tag": "ABX9TyPtF9BrdriQ2QpzV2B4V0fS",
      "include_colab_link": true
    },
    "kernelspec": {
      "name": "python3",
      "display_name": "Python 3"
    },
    "language_info": {
      "name": "python"
    }
  },
  "cells": [
    {
      "cell_type": "markdown",
      "metadata": {
        "id": "view-in-github",
        "colab_type": "text"
      },
      "source": [
        "<a href=\"https://colab.research.google.com/github/pedromazim/visao/blob/main/project_fractal_dimension_texture.ipynb\" target=\"_parent\"><img src=\"https://colab.research.google.com/assets/colab-badge.svg\" alt=\"Open In Colab\"/></a>"
      ]
    },
    {
      "cell_type": "markdown",
      "source": [
        "### I. Modules and auxiliary functions"
      ],
      "metadata": {
        "id": "VwrAlsQBmZ05"
      }
    },
    {
      "cell_type": "code",
      "execution_count": null,
      "metadata": {
        "id": "gu4g013FYs2K"
      },
      "outputs": [],
      "source": [
        "import numpy as np\n",
        "import skimage as skm\n",
        "import matplotlib.pyplot as pt\n",
        "import matplotlib.colors as cm\n",
        "#import porespy as ps\n",
        "from numba import jit\n",
        "from PIL import Image\n",
        "import os\n",
        "from glob import glob\n",
        "from skimage.filters import threshold_otsu"
      ]
    },
    {
      "cell_type": "code",
      "source": [
        "def make_gray(img, weights):\n",
        "\n",
        "    '''\n",
        "    converts an colored RGB image to grayscale\n",
        "\n",
        "    img : image to be converted\n",
        "    weights : list or array containing the relative weights of red, blue and green for conversion\n",
        "\n",
        "    '''\n",
        "\n",
        "    if len(img.shape) == 3:\n",
        "\n",
        "        img_recol = np.zeros((img.shape[0],img.shape[1]))\n",
        "\n",
        "        # for i in range(img.shape[0]):\n",
        "        #     for j in range(img.shape[1]):\n",
        "        #             img_recol[i,j] = weights[0]*img[i,j,0] + weights[1]*img[i,j,1] + weights[2]*img[i,j,2]\n",
        "        img_recol = weights[0]*img[:,:,0] + weights[1]*img[:,:,1] + weights[2]*img[:,:,2]\n",
        "        return img_recol\n",
        "    else:\n",
        "        return img"
      ],
      "metadata": {
        "id": "93ad0GHNeyhi"
      },
      "execution_count": null,
      "outputs": []
    },
    {
      "cell_type": "code",
      "source": [
        "@jit(looplift=True)\n",
        "def histogram(img):\n",
        "\n",
        "    '''\n",
        "    returns the histogram of a grayscale image\n",
        "\n",
        "    img: input image\n",
        "    '''\n",
        "\n",
        "    bins = np.arange(256)\n",
        "    counts = np.zeros_like(bins)\n",
        "\n",
        "    for b in bins:\n",
        "        counts[b] = np.where(img==b)[0].size\n",
        "\n",
        "    return counts"
      ],
      "metadata": {
        "colab": {
          "base_uri": "https://localhost:8080/"
        },
        "id": "AHnty0IS1OPj",
        "outputId": "bc9f3ba2-e8df-4e0e-ab8b-b8653db0b897"
      },
      "execution_count": null,
      "outputs": [
        {
          "output_type": "stream",
          "name": "stderr",
          "text": [
            "<ipython-input-3-8337ce144aa7>:1: NumbaDeprecationWarning: The 'nopython' keyword argument was not supplied to the 'numba.jit' decorator. The implicit default value for this argument is currently False, but it will be changed to True in Numba 0.59.0. See https://numba.readthedocs.io/en/stable/reference/deprecation.html#deprecation-of-object-mode-fall-back-behaviour-when-using-jit for details.\n",
            "  @jit(looplift=True)\n"
          ]
        }
      ]
    },
    {
      "cell_type": "code",
      "source": [
        "@jit(looplift=True)\n",
        "def cdf_histogram(img):\n",
        "\n",
        "    '''\n",
        "    returns the cummulative histogram of a grayscale image\n",
        "\n",
        "    img: input image\n",
        "    '''\n",
        "\n",
        "    bins = np.arange(256)\n",
        "    counts = histogram(img)\n",
        "    cdf_counts = np.zeros_like(counts)\n",
        "\n",
        "    for b in bins:\n",
        "        cdf_counts[b] = np.sum(counts[0:b])/(img.size)\n",
        "\n",
        "    return cdf_counts\n"
      ],
      "metadata": {
        "colab": {
          "base_uri": "https://localhost:8080/"
        },
        "id": "xZkEKJ7z1PGy",
        "outputId": "7180e46f-61b9-4b83-b1f6-8863dccf0f87"
      },
      "execution_count": null,
      "outputs": [
        {
          "output_type": "stream",
          "name": "stderr",
          "text": [
            "<ipython-input-4-bddc8ff98c4a>:1: NumbaDeprecationWarning: The 'nopython' keyword argument was not supplied to the 'numba.jit' decorator. The implicit default value for this argument is currently False, but it will be changed to True in Numba 0.59.0. See https://numba.readthedocs.io/en/stable/reference/deprecation.html#deprecation-of-object-mode-fall-back-behaviour-when-using-jit for details.\n",
            "  @jit(looplift=True)\n"
          ]
        }
      ]
    },
    {
      "cell_type": "code",
      "source": [
        "#@jit(looplift=True)\n",
        "def otsu_thresholding(img):\n",
        "    img = img.flatten()\n",
        "    hist = histogram(img)\n",
        "    cdf = cdf_histogram(hist)\n",
        "    mean_gray = np.mean(img)\n",
        "    var = np.zeros_like(hist)\n",
        "\n",
        "    for t in range(256):\n",
        "        # computing class probability (background and foreground)\n",
        "        pb = img[img<t].size\n",
        "        wb = pb/img.size\n",
        "        wf = 1-wb\n",
        "\n",
        "        if wb != 0 and wb != 1:\n",
        "            mb = np.sum(img[img<t])/pb\n",
        "            mf = np.sum(img[img>=t])/(img.size-pb)\n",
        "\n",
        "            vb = np.sum((img[img<t]-mb)**2)/pb\n",
        "            vf = np.sum((img[img>=t]-mf)**2)/(img.size-pb)\n",
        "\n",
        "        elif wb == 1:\n",
        "            continue\n",
        "        else:\n",
        "            continue\n",
        "\n",
        "        var[t] = wb*vb + wf*vf\n",
        "    count = 0\n",
        "    for v in var:\n",
        "        if v != 0:\n",
        "            break\n",
        "        else:\n",
        "            count+=1\n",
        "        #print(wb,vb, wf,vf, var[t])\n",
        "    threshold = np.argmin(var[np.nonzero(var)]) + count\n",
        "\n",
        "    return threshold"
      ],
      "metadata": {
        "id": "f0YYasRF1PX7"
      },
      "execution_count": null,
      "outputs": []
    },
    {
      "cell_type": "code",
      "source": [
        "# ROUBALHEIRA PESADA\n",
        "@jit(looplift=True)\n",
        "def find_divisors(num_a,num_b):# finds common divisors :)\n",
        "    d_a, d_b = [],[]\n",
        "    for i in range(2,int(num_a/2)+1):\n",
        "        if num_a%i == 0:\n",
        "            d_a.append(i)\n",
        "    for i in range(2,int(num_b/2)+1):\n",
        "        if num_b%i == 0:\n",
        "            d_b.append(i)\n",
        "    d = np.intersect1d(d_a,d_b)\n",
        "    return np.array(d)"
      ],
      "metadata": {
        "colab": {
          "base_uri": "https://localhost:8080/"
        },
        "id": "xNokqUs1x4UA",
        "outputId": "fe35a363-d62e-41df-e415-6c03223bf9b0",
        "collapsed": true
      },
      "execution_count": null,
      "outputs": [
        {
          "output_type": "stream",
          "name": "stderr",
          "text": [
            "<ipython-input-6-00525284bd13>:2: NumbaDeprecationWarning: The 'nopython' keyword argument was not supplied to the 'numba.jit' decorator. The implicit default value for this argument is currently False, but it will be changed to True in Numba 0.59.0. See https://numba.readthedocs.io/en/stable/reference/deprecation.html#deprecation-of-object-mode-fall-back-behaviour-when-using-jit for details.\n",
            "  @jit(looplift=True)\n"
          ]
        }
      ]
    },
    {
      "cell_type": "code",
      "source": [
        "@jit(looplift=True)\n",
        "def edt(img):# euclidean distance from foreground to background pixels\n",
        "\n",
        "    img = img.astype('int')\n",
        "    h, w = img.shape\n",
        "\n",
        "    d = np.zeros((h,w))\n",
        "\n",
        "    for y in range(h):\n",
        "        for x in range(w):\n",
        "\n",
        "            if img[x,y] == 1:\n",
        "                flag = True\n",
        "                r = 1\n",
        "                while flag:\n",
        "                    nb = img[x-r:x+r+1,y-r:y+r+1]\n",
        "                    if np.flatnonzero(nb).size != nb.size:\n",
        "                        d[x,y] = r\n",
        "                        flag = False\n",
        "                    else:\n",
        "                        r += 1\n",
        "    return d"
      ],
      "metadata": {
        "id": "9xHd1zoY0-T6",
        "colab": {
          "base_uri": "https://localhost:8080/"
        },
        "outputId": "ebfca911-9280-41d7-9e62-cb241c9fa2ae"
      },
      "execution_count": null,
      "outputs": [
        {
          "output_type": "stream",
          "name": "stderr",
          "text": [
            "<ipython-input-7-3228bbd79bae>:1: NumbaDeprecationWarning: The 'nopython' keyword argument was not supplied to the 'numba.jit' decorator. The implicit default value for this argument is currently False, but it will be changed to True in Numba 0.59.0. See https://numba.readthedocs.io/en/stable/reference/deprecation.html#deprecation-of-object-mode-fall-back-behaviour-when-using-jit for details.\n",
            "  @jit(looplift=True)\n"
          ]
        }
      ]
    },
    {
      "cell_type": "code",
      "source": [
        "@jit(looplift=True)\n",
        "def distance(img, x0, y0):# distance from all foreground pixels to a specific one\n",
        "    img = img.astype('int')\n",
        "    h, w = img.shape\n",
        "    dist = np.zeros_like(img)\n",
        "    fg = np.argwhere(img == 1)\n",
        "    dist = np.sqrt((np.indices((h,w))[0]-x0)**2 + (np.indices((h,w))[1]-y0)**2)\n",
        "    # for px in fg:\n",
        "    #     dist[x,y] = np.sqrt((px[0]-x0)**2+(px[1]-y0)**2)\n",
        "    return dist"
      ],
      "metadata": {
        "id": "Pr8RFDcf1CPB",
        "colab": {
          "base_uri": "https://localhost:8080/"
        },
        "outputId": "9ffcf07a-619a-46e8-84fd-25a53ad9226d"
      },
      "execution_count": null,
      "outputs": [
        {
          "output_type": "stream",
          "name": "stderr",
          "text": [
            "<ipython-input-8-c6de0aadb2f4>:1: NumbaDeprecationWarning: The 'nopython' keyword argument was not supplied to the 'numba.jit' decorator. The implicit default value for this argument is currently False, but it will be changed to True in Numba 0.59.0. See https://numba.readthedocs.io/en/stable/reference/deprecation.html#deprecation-of-object-mode-fall-back-behaviour-when-using-jit for details.\n",
            "  @jit(looplift=True)\n"
          ]
        }
      ]
    },
    {
      "cell_type": "code",
      "source": [
        "def make_square(img):\n",
        "    # square = False\n",
        "    # while not square:\n",
        "    #     h, w = img.shape # height, width\n",
        "    #     if w == h:\n",
        "    #         square = True\n",
        "    #     elif w > h:\n",
        "    #         img = np.vstack((img, np.ones(w)*255))\n",
        "    #     elif h>w:\n",
        "    #         img = np.column_stack((img, np.ones(h)*255))\n",
        "    h, w = img.shape # height, width\n",
        "\n",
        "    if w > h:\n",
        "        if w%2 != 0:\n",
        "            img = np.column_stack((img, np.ones((h,1))*255))\n",
        "            img = np.vstack((img, np.ones((w+1-h,w+1))*255))\n",
        "        else:\n",
        "            img = np.vstack((img, np.ones((w-h,w))*255))\n",
        "    elif h > w:\n",
        "        if h%2 != 0:\n",
        "            img = np.vstack((img, np.ones((1,w))*255))\n",
        "            img = np.column_stack((img, np.ones((h+1,h+1-w))*255))\n",
        "        else:\n",
        "            img = np.column_stack((img, np.ones((h,h-w))*255))\n",
        "    return img\n"
      ],
      "metadata": {
        "id": "OLMXZD8wo2cf"
      },
      "execution_count": null,
      "outputs": []
    },
    {
      "cell_type": "markdown",
      "source": [
        "### II. Box-counting method\n",
        "\n",
        "Input is a binary image\\\n",
        "Step 1: Cut the image in four squares (cut in half in width and height directions)\\\n",
        "Step 2: Count how many squares have at least one foreground pixel in it\\\n",
        "Step 3: Divide each square again and count\n"
      ],
      "metadata": {
        "id": "oqBDOicn1lNC"
      }
    },
    {
      "cell_type": "code",
      "source": [
        "#@jit(looplift=True)\n",
        "def bcm(img, binary):\n",
        "    if not binary:\n",
        "        img = make_gray(img,[1/3,1/3,1/3])\n",
        "        #thd = otsu_thresholding(img)\n",
        "        thd = threshold_otsu(img)\n",
        "        img = img > thd\n",
        "\n",
        "        img = img.astype('int')\n",
        "    grid = np.zeros_like(img)\n",
        "    h, w = img.shape\n",
        "    counts = []\n",
        "    size = []\n",
        "\n",
        "    for i in range(1,res):# divide squares each loop\n",
        "        L = 2**(i)\n",
        "        counter = 0\n",
        "        for s in np.split(img,L):\n",
        "            s = np.split(s,L,axis=1)\n",
        "            for square in s:\n",
        "                if np.flatnonzero(square).size != 0:\n",
        "                    counter += 1\n",
        "        counts.append(counter)\n",
        "\n",
        "    counter = 0\n",
        "\n",
        "    # for d in find_divisors(h,w):\n",
        "    #     counter = 0\n",
        "    #     size.append(int(h/d))\n",
        "    #     s = img.reshape(d, int(h/d), d, int(w/d)).transpose(0,2,1,3)\n",
        "    #     # print(s.shape)\n",
        "    #     for ss in s:\n",
        "    #         for square in ss:\n",
        "    #             # print(square)\n",
        "    #             if np.flatnonzero(square).size != 0:\n",
        "    #                 counter += 1\n",
        "    #     counts.append(counter)\n",
        "    return [counts, size]"
      ],
      "metadata": {
        "id": "9m61KRU7nOWS"
      },
      "execution_count": null,
      "outputs": []
    },
    {
      "cell_type": "markdown",
      "source": [
        "### III. Bouligand-Minkowsky method\n",
        "Input is a binary image\\\n",
        "Step 1: Obtain the edge pixels by euclidean distance transform (EDT)\\\n",
        "Step 2: Set a disk of radius r and count every pixel under its influence area;\\\n",
        "Step 3: Repeat for every edge pixel;\\\n",
        "Step 4: Repeat for many r values;\\\n",
        "Step 5: Obtain FD by linearization of A(r) x r."
      ],
      "metadata": {
        "id": "ax8qRpKB1tol"
      }
    },
    {
      "cell_type": "code",
      "source": [
        "def bmm(img, R):\n",
        "\n",
        "    img = make_gray(img,[1/3,1/3,1/3])\n",
        "    #thd = otsu_thresholding(img)\n",
        "    thd = threshold_otsu(img)\n",
        "    img = img > thd\n",
        "    img = img.astype('int')\n",
        "\n",
        "    dt = edt(img)\n",
        "    edge = np.argwhere(dt==1)\n",
        "    counts = []\n",
        "    for r in range(1,R+1):# calculates influence area for multiple r values\n",
        "        c = 0\n",
        "        for px in edge:\n",
        "            A_r = np.flatnonzero(np.where(distance(img, px[0],px[1]) <= r))\n",
        "            c += A_r.size\n",
        "        counts.append(c)\n",
        "\n",
        "    return counts"
      ],
      "metadata": {
        "id": "zKF-4IDCyzw2"
      },
      "execution_count": null,
      "outputs": []
    },
    {
      "cell_type": "markdown",
      "source": [
        "### IV. Acquiring the dataset"
      ],
      "metadata": {
        "id": "rLr0jCvYCaFl"
      }
    },
    {
      "cell_type": "code",
      "source": [
        "!git clone https://github.com/pedromazim/visao.git"
      ],
      "metadata": {
        "colab": {
          "base_uri": "https://localhost:8080/"
        },
        "id": "bwZPQ15jnKra",
        "outputId": "6cb23446-4bf7-412c-ecd5-16f763936748"
      },
      "execution_count": null,
      "outputs": [
        {
          "output_type": "stream",
          "name": "stdout",
          "text": [
            "Cloning into 'visao'...\n",
            "remote: Enumerating objects: 504, done.\u001b[K\n",
            "remote: Counting objects: 100% (150/150), done.\u001b[K\n",
            "remote: Compressing objects: 100% (121/121), done.\u001b[K\n",
            "remote: Total 504 (delta 42), reused 28 (delta 28), pack-reused 354\u001b[K\n",
            "Receiving objects: 100% (504/504), 281.97 MiB | 18.76 MiB/s, done.\n",
            "Resolving deltas: 100% (92/92), done.\n",
            "Updating files: 100% (215/215), done.\n"
          ]
        }
      ]
    },
    {
      "cell_type": "code",
      "source": [
        "%cd visao/shapes99/\n",
        "os.getcwd()"
      ],
      "metadata": {
        "colab": {
          "base_uri": "https://localhost:8080/"
        },
        "id": "_78K2BkfpY_0",
        "outputId": "6f8c8d3e-9a69-47b0-8993-cc374c971950"
      },
      "execution_count": null,
      "outputs": [
        {
          "output_type": "stream",
          "name": "stdout",
          "text": [
            "/content/visao/shapes99\n"
          ]
        },
        {
          "output_type": "execute_result",
          "data": {
            "text/plain": [
              "'/content/visao/shapes99'"
            ],
            "application/vnd.google.colaboratory.intrinsic+json": {
              "type": "string"
            }
          },
          "metadata": {},
          "execution_count": 13
        }
      ]
    },
    {
      "cell_type": "code",
      "source": [
        "filename_list = glob(\"*.png\")"
      ],
      "metadata": {
        "id": "1wFEfEyPw0Kx",
        "collapsed": true
      },
      "execution_count": null,
      "outputs": []
    },
    {
      "cell_type": "markdown",
      "source": [
        "### V. Applying the methods to data"
      ],
      "metadata": {
        "id": "28OfOp0Kmo_T"
      }
    },
    {
      "cell_type": "code",
      "source": [
        "#@jit(looplift=True)\n",
        "def fd_dataset(filename_list): #calculates BCM and BMM for each image in dataset\n",
        "\n",
        "    # BCM_fd = np.empty((22,len(filename_list)))\n",
        "    # BMM_fd = np.empty((,len(filename_list)))\n",
        "    out = open('out_shapes.dat','w')\n",
        "    #BCM_fd = []\n",
        "    BMM_fd = []\n",
        "    for filename in range(len(filename_list)):\n",
        "        #print(filename)\n",
        "        img = skm.io.imread(f'https://github.com/pedromazim/visao/blob/main/shapes99/{filename_list[filename]}?raw=true')\n",
        "        img = make_square(img)\n",
        "\n",
        "        # bcm_fd = bcm(img, True)\n",
        "        # print(filename, 'bcm')\n",
        "        bmm_fd = bmm(img, 100)\n",
        "        print(filename, 'bmm')\n",
        "\n",
        "        out.write(f'{bmm_fd}\\n')\n",
        "        # BCM_fd.append(bcm_fd)\n",
        "        BMM_fd.append(bmm_fd)\n",
        "\n",
        "    #data = np.savetxt('out_shapes.dat', np.array(BCM_fd))\n",
        "    return BCM_fd, BMM_fd"
      ],
      "metadata": {
        "id": "QLwtJ-Ngy0IK"
      },
      "execution_count": null,
      "outputs": []
    },
    {
      "cell_type": "code",
      "source": [
        "out_test_bcm = fd_dataset(filename_list)"
      ],
      "metadata": {
        "id": "lHQf9Yxo-Zik",
        "collapsed": true,
        "colab": {
          "base_uri": "https://localhost:8080/"
        },
        "outputId": "eea5269d-b25a-4f12-b51c-82ef878cc640"
      },
      "execution_count": null,
      "outputs": [
        {
          "output_type": "stream",
          "name": "stderr",
          "text": [
            "<ipython-input-6-00525284bd13>:2: NumbaWarning: \n",
            "Compilation is falling back to object mode WITH looplifting enabled because Function \"find_divisors\" failed type inference due to: No implementation of function Function(<built-in function array>) found for signature:\n",
            " \n",
            " >>> array(array(int64, 1d, C))\n",
            " \n",
            "There are 2 candidate implementations:\n",
            "   - Of which 2 did not match due to:\n",
            "   Overload in function 'impl_np_array': File: numba/np/arrayobj.py: Line 5384.\n",
            "     With argument(s): '(array(int64, 1d, C))':\n",
            "    Rejected as the implementation raised a specific error:\n",
            "      TypingError: Failed in nopython mode pipeline (step: nopython frontend)\n",
            "    No implementation of function Function(<intrinsic np_array>) found for signature:\n",
            "     \n",
            "     >>> np_array(array(int64, 1d, C), none)\n",
            "     \n",
            "    There are 2 candidate implementations:\n",
            "          - Of which 2 did not match due to:\n",
            "          Intrinsic in function 'np_array': File: numba/np/arrayobj.py: Line 5358.\n",
            "            With argument(s): '(array(int64, 1d, C), none)':\n",
            "           Rejected as the implementation raised a specific error:\n",
            "             TypingError: array(int64, 1d, C) not allowed in a homogeneous sequence\n",
            "      raised from /usr/local/lib/python3.10/dist-packages/numba/core/typing/npydecl.py:482\n",
            "    \n",
            "    During: resolving callee type: Function(<intrinsic np_array>)\n",
            "    During: typing of call at /usr/local/lib/python3.10/dist-packages/numba/np/arrayobj.py (5395)\n",
            "    \n",
            "    \n",
            "    File \"../../../usr/local/lib/python3.10/dist-packages/numba/np/arrayobj.py\", line 5395:\n",
            "        def impl(object, dtype=None):\n",
            "            return np_array(object, dtype)\n",
            "            ^\n",
            "\n",
            "  raised from /usr/local/lib/python3.10/dist-packages/numba/core/typeinfer.py:1086\n",
            "\n",
            "During: resolving callee type: Function(<built-in function array>)\n",
            "During: typing of call at <ipython-input-6-00525284bd13> (12)\n",
            "\n",
            "\n",
            "File \"<ipython-input-6-00525284bd13>\", line 12:\n",
            "def find_divisors(num_a,num_b):# finds common divisors :)\n",
            "    <source elided>\n",
            "    d = np.intersect1d(d_a,d_b)\n",
            "    return np.array(d)\n",
            "    ^\n",
            "\n",
            "  @jit(looplift=True)\n",
            "<ipython-input-6-00525284bd13>:2: NumbaWarning: \n",
            "Compilation is falling back to object mode WITHOUT looplifting enabled because Function \"find_divisors\" failed type inference due to: Cannot determine Numba type of <class 'numba.core.dispatcher.LiftedLoop'>\n",
            "\n",
            "File \"<ipython-input-6-00525284bd13>\", line 5:\n",
            "def find_divisors(num_a,num_b):# finds common divisors :)\n",
            "    <source elided>\n",
            "    d_a, d_b = [],[]\n",
            "    for i in range(2,int(num_a/2)+1):\n",
            "    ^\n",
            "\n",
            "  @jit(looplift=True)\n",
            "/usr/local/lib/python3.10/dist-packages/numba/core/object_mode_passes.py:151: NumbaWarning: Function \"find_divisors\" was compiled in object mode without forceobj=True, but has lifted loops.\n",
            "\n",
            "File \"<ipython-input-6-00525284bd13>\", line 2:\n",
            "# ROUBALHEIRA PESADA\n",
            "@jit(looplift=True)\n",
            "^\n",
            "\n",
            "  warnings.warn(errors.NumbaWarning(warn_msg,\n",
            "/usr/local/lib/python3.10/dist-packages/numba/core/object_mode_passes.py:161: NumbaDeprecationWarning: \n",
            "Fall-back from the nopython compilation path to the object mode compilation path has been detected. This is deprecated behaviour that will be removed in Numba 0.59.0.\n",
            "\n",
            "For more information visit https://numba.readthedocs.io/en/stable/reference/deprecation.html#deprecation-of-object-mode-fall-back-behaviour-when-using-jit\n",
            "\n",
            "File \"<ipython-input-6-00525284bd13>\", line 2:\n",
            "# ROUBALHEIRA PESADA\n",
            "@jit(looplift=True)\n",
            "^\n",
            "\n",
            "  warnings.warn(errors.NumbaDeprecationWarning(msg,\n",
            "<ipython-input-6-00525284bd13>:2: NumbaWarning: \n",
            "Compilation is falling back to object mode WITHOUT looplifting enabled because Function \"find_divisors\" failed type inference due to: non-precise type pyobject\n",
            "During: typing of argument at <ipython-input-6-00525284bd13> (5)\n",
            "\n",
            "File \"<ipython-input-6-00525284bd13>\", line 5:\n",
            "def find_divisors(num_a,num_b):# finds common divisors :)\n",
            "    <source elided>\n",
            "    d_a, d_b = [],[]\n",
            "    for i in range(2,int(num_a/2)+1):\n",
            "    ^\n",
            "\n",
            "  @jit(looplift=True)\n",
            "/usr/local/lib/python3.10/dist-packages/numba/core/object_mode_passes.py:151: NumbaWarning: Function \"find_divisors\" was compiled in object mode without forceobj=True.\n",
            "\n",
            "File \"<ipython-input-6-00525284bd13>\", line 5:\n",
            "def find_divisors(num_a,num_b):# finds common divisors :)\n",
            "    <source elided>\n",
            "    d_a, d_b = [],[]\n",
            "    for i in range(2,int(num_a/2)+1):\n",
            "    ^\n",
            "\n",
            "  warnings.warn(errors.NumbaWarning(warn_msg,\n",
            "/usr/local/lib/python3.10/dist-packages/numba/core/object_mode_passes.py:161: NumbaDeprecationWarning: \n",
            "Fall-back from the nopython compilation path to the object mode compilation path has been detected. This is deprecated behaviour that will be removed in Numba 0.59.0.\n",
            "\n",
            "For more information visit https://numba.readthedocs.io/en/stable/reference/deprecation.html#deprecation-of-object-mode-fall-back-behaviour-when-using-jit\n",
            "\n",
            "File \"<ipython-input-6-00525284bd13>\", line 5:\n",
            "def find_divisors(num_a,num_b):# finds common divisors :)\n",
            "    <source elided>\n",
            "    d_a, d_b = [],[]\n",
            "    for i in range(2,int(num_a/2)+1):\n",
            "    ^\n",
            "\n",
            "  warnings.warn(errors.NumbaDeprecationWarning(msg,\n",
            "<ipython-input-6-00525284bd13>:2: NumbaWarning: \n",
            "Compilation is falling back to object mode WITHOUT looplifting enabled because Function \"find_divisors\" failed type inference due to: non-precise type pyobject\n",
            "During: typing of argument at <ipython-input-6-00525284bd13> (8)\n",
            "\n",
            "File \"<ipython-input-6-00525284bd13>\", line 8:\n",
            "def find_divisors(num_a,num_b):# finds common divisors :)\n",
            "    <source elided>\n",
            "            d_a.append(i)\n",
            "    for i in range(2,int(num_b/2)+1):\n",
            "    ^\n",
            "\n",
            "  @jit(looplift=True)\n",
            "/usr/local/lib/python3.10/dist-packages/numba/core/object_mode_passes.py:151: NumbaWarning: Function \"find_divisors\" was compiled in object mode without forceobj=True.\n",
            "\n",
            "File \"<ipython-input-6-00525284bd13>\", line 8:\n",
            "def find_divisors(num_a,num_b):# finds common divisors :)\n",
            "    <source elided>\n",
            "            d_a.append(i)\n",
            "    for i in range(2,int(num_b/2)+1):\n",
            "    ^\n",
            "\n",
            "  warnings.warn(errors.NumbaWarning(warn_msg,\n",
            "/usr/local/lib/python3.10/dist-packages/numba/core/object_mode_passes.py:161: NumbaDeprecationWarning: \n",
            "Fall-back from the nopython compilation path to the object mode compilation path has been detected. This is deprecated behaviour that will be removed in Numba 0.59.0.\n",
            "\n",
            "For more information visit https://numba.readthedocs.io/en/stable/reference/deprecation.html#deprecation-of-object-mode-fall-back-behaviour-when-using-jit\n",
            "\n",
            "File \"<ipython-input-6-00525284bd13>\", line 8:\n",
            "def find_divisors(num_a,num_b):# finds common divisors :)\n",
            "    <source elided>\n",
            "            d_a.append(i)\n",
            "    for i in range(2,int(num_b/2)+1):\n",
            "    ^\n",
            "\n",
            "  warnings.warn(errors.NumbaDeprecationWarning(msg,\n"
          ]
        },
        {
          "output_type": "stream",
          "name": "stdout",
          "text": [
            "0 bcm\n"
          ]
        },
        {
          "output_type": "stream",
          "name": "stderr",
          "text": [
            "<ipython-input-8-c6de0aadb2f4>:1: NumbaWarning: \n",
            "Compilation is falling back to object mode WITH looplifting enabled because Function \"distance\" failed type inference due to: Use of unsupported NumPy function 'numpy.indices' or unsupported use of the function.\n",
            "\n",
            "File \"<ipython-input-8-c6de0aadb2f4>\", line 7:\n",
            "def distance(img, x0, y0):# distance from all foreground pixels to a specific one\n",
            "    <source elided>\n",
            "    fg = np.argwhere(img == 1)\n",
            "    dist = np.sqrt((np.indices((h,w))[0]-x0)**2 + (np.indices((h,w))[1]-y0)**2)\n",
            "    ^\n",
            "\n",
            "During: typing of get attribute at <ipython-input-8-c6de0aadb2f4> (7)\n",
            "\n",
            "File \"<ipython-input-8-c6de0aadb2f4>\", line 7:\n",
            "def distance(img, x0, y0):# distance from all foreground pixels to a specific one\n",
            "    <source elided>\n",
            "    fg = np.argwhere(img == 1)\n",
            "    dist = np.sqrt((np.indices((h,w))[0]-x0)**2 + (np.indices((h,w))[1]-y0)**2)\n",
            "    ^\n",
            "\n",
            "  @jit(looplift=True)\n",
            "/usr/local/lib/python3.10/dist-packages/numba/core/object_mode_passes.py:151: NumbaWarning: Function \"distance\" was compiled in object mode without forceobj=True.\n",
            "\n",
            "File \"<ipython-input-8-c6de0aadb2f4>\", line 2:\n",
            "@jit(looplift=True)\n",
            "def distance(img, x0, y0):# distance from all foreground pixels to a specific one\n",
            "^\n",
            "\n",
            "  warnings.warn(errors.NumbaWarning(warn_msg,\n",
            "/usr/local/lib/python3.10/dist-packages/numba/core/object_mode_passes.py:161: NumbaDeprecationWarning: \n",
            "Fall-back from the nopython compilation path to the object mode compilation path has been detected. This is deprecated behaviour that will be removed in Numba 0.59.0.\n",
            "\n",
            "For more information visit https://numba.readthedocs.io/en/stable/reference/deprecation.html#deprecation-of-object-mode-fall-back-behaviour-when-using-jit\n",
            "\n",
            "File \"<ipython-input-8-c6de0aadb2f4>\", line 2:\n",
            "@jit(looplift=True)\n",
            "def distance(img, x0, y0):# distance from all foreground pixels to a specific one\n",
            "^\n",
            "\n",
            "  warnings.warn(errors.NumbaDeprecationWarning(msg,\n"
          ]
        },
        {
          "output_type": "stream",
          "name": "stdout",
          "text": [
            "0 bmm\n",
            "1 bcm\n",
            "1 bmm\n",
            "2 bcm\n",
            "2 bmm\n",
            "3 bcm\n",
            "3 bmm\n",
            "4 bcm\n",
            "4 bmm\n",
            "5 bcm\n",
            "5 bmm\n",
            "6 bcm\n",
            "6 bmm\n",
            "7 bcm\n",
            "7 bmm\n",
            "8 bcm\n",
            "8 bmm\n",
            "9 bcm\n",
            "9 bmm\n",
            "10 bcm\n",
            "10 bmm\n",
            "11 bcm\n",
            "11 bmm\n",
            "12 bcm\n",
            "12 bmm\n",
            "13 bcm\n",
            "13 bmm\n",
            "14 bcm\n",
            "14 bmm\n",
            "15 bcm\n",
            "15 bmm\n",
            "16 bcm\n",
            "16 bmm\n",
            "17 bcm\n",
            "17 bmm\n",
            "18 bcm\n",
            "18 bmm\n",
            "19 bcm\n",
            "19 bmm\n",
            "20 bcm\n",
            "20 bmm\n",
            "21 bcm\n",
            "21 bmm\n",
            "22 bcm\n",
            "22 bmm\n",
            "23 bcm\n",
            "23 bmm\n",
            "24 bcm\n",
            "24 bmm\n",
            "25 bcm\n",
            "25 bmm\n",
            "26 bcm\n",
            "26 bmm\n",
            "27 bcm\n",
            "27 bmm\n",
            "28 bcm\n",
            "28 bmm\n",
            "29 bcm\n",
            "29 bmm\n",
            "30 bcm\n",
            "30 bmm\n",
            "31 bcm\n",
            "31 bmm\n",
            "32 bcm\n",
            "32 bmm\n",
            "33 bcm\n",
            "33 bmm\n",
            "34 bcm\n",
            "34 bmm\n",
            "35 bcm\n",
            "35 bmm\n",
            "36 bcm\n",
            "36 bmm\n",
            "37 bcm\n",
            "37 bmm\n",
            "38 bcm\n",
            "38 bmm\n",
            "39 bcm\n",
            "39 bmm\n",
            "40 bcm\n",
            "40 bmm\n",
            "41 bcm\n",
            "41 bmm\n",
            "42 bcm\n",
            "42 bmm\n",
            "43 bcm\n",
            "43 bmm\n",
            "44 bcm\n",
            "44 bmm\n",
            "45 bcm\n",
            "45 bmm\n",
            "46 bcm\n",
            "46 bmm\n",
            "47 bcm\n",
            "47 bmm\n",
            "48 bcm\n",
            "48 bmm\n",
            "49 bcm\n",
            "49 bmm\n",
            "50 bcm\n",
            "50 bmm\n",
            "51 bcm\n",
            "51 bmm\n",
            "52 bcm\n",
            "52 bmm\n",
            "53 bcm\n",
            "53 bmm\n",
            "54 bcm\n",
            "54 bmm\n",
            "55 bcm\n",
            "55 bmm\n",
            "56 bcm\n",
            "56 bmm\n",
            "57 bcm\n",
            "57 bmm\n",
            "58 bcm\n",
            "58 bmm\n",
            "59 bcm\n",
            "59 bmm\n",
            "60 bcm\n",
            "60 bmm\n",
            "61 bcm\n",
            "61 bmm\n",
            "62 bcm\n",
            "62 bmm\n",
            "63 bcm\n",
            "63 bmm\n",
            "64 bcm\n",
            "64 bmm\n",
            "65 bcm\n",
            "65 bmm\n",
            "66 bcm\n",
            "66 bmm\n",
            "67 bcm\n",
            "67 bmm\n",
            "68 bcm\n",
            "68 bmm\n",
            "69 bcm\n",
            "69 bmm\n",
            "70 bcm\n",
            "70 bmm\n",
            "71 bcm\n",
            "71 bmm\n",
            "72 bcm\n",
            "72 bmm\n",
            "73 bcm\n",
            "73 bmm\n",
            "74 bcm\n",
            "74 bmm\n",
            "75 bcm\n",
            "75 bmm\n",
            "76 bcm\n",
            "76 bmm\n",
            "77 bcm\n",
            "77 bmm\n",
            "78 bcm\n",
            "78 bmm\n",
            "79 bcm\n",
            "79 bmm\n",
            "80 bcm\n",
            "80 bmm\n",
            "81 bcm\n",
            "81 bmm\n",
            "82 bcm\n",
            "82 bmm\n",
            "83 bcm\n",
            "83 bmm\n",
            "84 bcm\n",
            "84 bmm\n",
            "85 bcm\n",
            "85 bmm\n",
            "86 bcm\n",
            "86 bmm\n",
            "87 bcm\n",
            "87 bmm\n",
            "88 bcm\n",
            "88 bmm\n",
            "89 bcm\n",
            "89 bmm\n",
            "90 bcm\n",
            "90 bmm\n",
            "91 bcm\n",
            "91 bmm\n",
            "92 bcm\n",
            "92 bmm\n",
            "93 bcm\n",
            "93 bmm\n",
            "94 bcm\n",
            "94 bmm\n",
            "95 bcm\n",
            "95 bmm\n",
            "96 bcm\n",
            "96 bmm\n",
            "97 bcm\n",
            "97 bmm\n",
            "98 bcm\n",
            "98 bmm\n"
          ]
        }
      ]
    },
    {
      "cell_type": "code",
      "source": [
        "out_test_bcm"
      ],
      "metadata": {
        "colab": {
          "base_uri": "https://localhost:8080/"
        },
        "collapsed": true,
        "id": "BgDnKS6mxgwd",
        "outputId": "6162cb14-28a4-4fca-a980-744af060d071"
      },
      "execution_count": null,
      "outputs": [
        {
          "output_type": "execute_result",
          "data": {
            "text/plain": [
              "([[[9, 23, 72, 185, 572, 1543], [45, 27, 15, 9, 5, 3]],\n",
              "  [[4, 16, 61, 232, 871, 3323], [64, 32, 16, 8, 4, 2]],\n",
              "  [[4, 16, 63, 238, 915, 3575], [64, 32, 16, 8, 4, 2]],\n",
              "  [[4, 16, 62, 234, 885, 3383], [64, 32, 16, 8, 4, 2]],\n",
              "  [[4, 48, 114, 182, 432, 4929], [77, 22, 14, 11, 7, 2]],\n",
              "  [[4, 16, 64, 275, 1036, 3978], [68, 34, 17, 8, 4, 2]],\n",
              "  [[4, 3579], [71, 2]],\n",
              "  [[4, 9, 34, 422, 1553, 3408], [69, 46, 23, 6, 3, 2]],\n",
              "  [[4, 9, 16, 36, 119, 138, 447, 976, 1700, 3761],\n",
              "   [66, 44, 33, 22, 12, 11, 6, 4, 3, 2]],\n",
              "  [[4, 16, 63, 238, 913, 3553], [64, 32, 16, 8, 4, 2]],\n",
              "  [[4, 9, 16, 36, 63, 80, 142, 248, 309, 536, 1177, 2048, 4537],\n",
              "   [72, 48, 36, 24, 18, 16, 12, 9, 8, 6, 4, 3, 2]],\n",
              "  [[4, 9, 16, 25, 35, 61, 92, 131, 201, 345, 488, 742, 1289, 2833],\n",
              "   [60, 40, 30, 24, 20, 15, 12, 10, 8, 6, 5, 4, 3, 2]],\n",
              "  [[4, 16, 61, 222, 831, 3160], [64, 32, 16, 8, 4, 2]],\n",
              "  [[4, 16, 57, 213, 816, 3172], [64, 32, 16, 8, 4, 2]],\n",
              "  [[4, 9, 15, 25, 33, 56, 90, 121, 187, 326, 451, 698, 1204, 2648],\n",
              "   [60, 40, 30, 24, 20, 15, 12, 10, 8, 6, 5, 4, 3, 2]],\n",
              "  [[4, 16, 1357, 5387], [74, 37, 4, 2]],\n",
              "  [[4, 9, 16, 23, 33, 60, 89, 125, 191, 336, 470, 715, 1264, 2758],\n",
              "   [60, 40, 30, 24, 20, 15, 12, 10, 8, 6, 5, 4, 3, 2]],\n",
              "  [[4, 16, 62, 229, 857, 3295], [64, 32, 16, 8, 4, 2]],\n",
              "  [[4, 16, 40, 54, 150, 194, 565, 2163], [56, 28, 16, 14, 8, 7, 4, 2]],\n",
              "  [[4, 16, 63, 240, 910, 3499], [64, 32, 16, 8, 4, 2]],\n",
              "  [[4, 9, 16, 36, 119, 138, 444, 977, 1697, 3762],\n",
              "   [66, 44, 33, 22, 12, 11, 6, 4, 3, 2]],\n",
              "  [[9, 23, 70, 184, 562, 1516], [45, 27, 15, 9, 5, 3]],\n",
              "  [[4, 9, 15, 34, 58, 72, 125, 209, 263, 448, 956, 1645, 3608],\n",
              "   [72, 48, 36, 24, 18, 16, 12, 9, 8, 6, 4, 3, 2]],\n",
              "  [[9, 22, 71, 182, 560, 1500], [45, 27, 15, 9, 5, 3]],\n",
              "  [[4, 9, 33, 275, 993, 2150], [57, 38, 19, 6, 3, 2]],\n",
              "  [[4, 16, 62, 234, 880, 3356], [64, 32, 16, 8, 4, 2]],\n",
              "  [[4, 16, 57, 207, 751, 2835], [64, 32, 16, 8, 4, 2]],\n",
              "  [[4, 9, 16, 25, 33, 62, 95, 130, 203, 355, 493, 757, 1336, 2933],\n",
              "   [60, 40, 30, 24, 20, 15, 12, 10, 8, 6, 5, 4, 3, 2]],\n",
              "  [[4, 16, 43, 57, 158, 206, 600, 2306], [56, 28, 16, 14, 8, 7, 4, 2]],\n",
              "  [[9, 22, 70, 184, 565, 1519], [45, 27, 15, 9, 5, 3]],\n",
              "  [[4, 24, 88, 145, 553, 3328], [65, 26, 13, 10, 5, 2]],\n",
              "  [[4, 24, 89, 146, 565, 3395], [65, 26, 13, 10, 5, 2]],\n",
              "  [[4, 16, 874, 3403], [62, 31, 4, 2]],\n",
              "  [[9, 22, 69, 184, 569, 1544], [45, 27, 15, 9, 5, 3]],\n",
              "  [[4, 16, 848, 3231], [62, 31, 4, 2]],\n",
              "  [[4, 9, 36, 49, 80, 188, 303, 404, 1528, 3373],\n",
              "   [63, 42, 21, 18, 14, 9, 7, 6, 3, 2]],\n",
              "  [[4, 16, 62, 228, 852, 3270], [64, 32, 16, 8, 4, 2]],\n",
              "  [[4, 16, 59, 221, 838, 3257], [64, 32, 16, 8, 4, 2]],\n",
              "  [[4, 16, 64, 247, 952, 3717], [64, 32, 16, 8, 4, 2]],\n",
              "  [[4, 45, 104, 160, 376, 4039], [77, 22, 14, 11, 7, 2]],\n",
              "  [[4, 24, 88, 146, 563, 3377], [65, 26, 13, 10, 5, 2]],\n",
              "  [[4, 9, 34, 423, 1609, 3535], [69, 46, 23, 6, 3, 2]],\n",
              "  [[4, 24, 87, 143, 539, 3197], [65, 26, 13, 10, 5, 2]],\n",
              "  [[4, 9, 16, 36, 81, 144, 323, 712, 1258, 2801],\n",
              "   [54, 36, 27, 18, 12, 9, 6, 4, 3, 2]],\n",
              "  [[4, 24, 88, 143, 516, 2990], [65, 26, 13, 10, 5, 2]],\n",
              "  [[4, 16, 859, 3329], [62, 31, 4, 2]],\n",
              "  [[4, 16, 63, 240, 911, 3501], [64, 32, 16, 8, 4, 2]],\n",
              "  [[47, 308], [19, 7]],\n",
              "  [[4, 16, 59, 215, 832, 3248], [64, 32, 16, 8, 4, 2]],\n",
              "  [[4, 16, 41, 52, 150, 189, 555, 2132], [56, 28, 16, 14, 8, 7, 4, 2]],\n",
              "  [[4, 16, 59, 215, 826, 3207], [64, 32, 16, 8, 4, 2]],\n",
              "  [[4, 9, 16, 25, 36, 63, 98, 136, 210, 363, 514, 793, 1369, 3017],\n",
              "   [60, 40, 30, 24, 20, 15, 12, 10, 8, 6, 5, 4, 3, 2]],\n",
              "  [[4, 16, 62, 232, 882, 3428], [64, 32, 16, 8, 4, 2]],\n",
              "  [[4, 9, 16, 25, 34, 61, 90, 128, 191, 326, 464, 708, 1212, 2655],\n",
              "   [60, 40, 30, 24, 20, 15, 12, 10, 8, 6, 5, 4, 3, 2]],\n",
              "  [[9, 22, 69, 178, 541, 1447], [45, 27, 15, 9, 5, 3]],\n",
              "  [[9, 22, 70, 183, 563, 1521], [45, 27, 15, 9, 5, 3]],\n",
              "  [[4, 24, 92, 151, 578, 3464], [65, 26, 13, 10, 5, 2]],\n",
              "  [[9, 23, 70, 186, 571, 1541], [45, 27, 15, 9, 5, 3]],\n",
              "  [[4, 16, 867, 3371], [62, 31, 4, 2]],\n",
              "  [[4, 16, 63, 242, 921, 3589], [64, 32, 16, 8, 4, 2]],\n",
              "  [[4, 48, 113, 181, 432, 4982], [77, 22, 14, 11, 7, 2]],\n",
              "  [[4, 4331], [67, 2]],\n",
              "  [[25, 519], [23, 5]],\n",
              "  [[4, 16, 59, 213, 807, 3137], [64, 32, 16, 8, 4, 2]],\n",
              "  [[4, 4371], [67, 2]],\n",
              "  [[4, 24, 90, 148, 558, 3344], [65, 26, 13, 10, 5, 2]],\n",
              "  [[4, 9, 25, 35, 93, 199, 528, 740, 1983, 4390],\n",
              "   [75, 50, 30, 25, 15, 10, 6, 5, 3, 2]],\n",
              "  [[4, 16, 58, 211, 804, 3141], [64, 32, 16, 8, 4, 2]],\n",
              "  [[4, 9, 36, 49, 79, 186, 303, 407, 1543, 3421],\n",
              "   [63, 42, 21, 18, 14, 9, 7, 6, 3, 2]],\n",
              "  [[4, 9, 16, 36, 81, 144, 324, 717, 1266, 2823],\n",
              "   [54, 36, 27, 18, 12, 9, 6, 4, 3, 2]],\n",
              "  [[4, 9, 16, 36, 119, 138, 446, 980, 1703, 3760],\n",
              "   [66, 44, 33, 22, 12, 11, 6, 4, 3, 2]],\n",
              "  [[4, 9, 16, 25, 36, 64, 100, 144, 223, 398, 567, 878, 1551, 3463],\n",
              "   [60, 40, 30, 24, 20, 15, 12, 10, 8, 6, 5, 4, 3, 2]],\n",
              "  [[4, 24, 88, 143, 525, 3095], [65, 26, 13, 10, 5, 2]],\n",
              "  [[4, 16, 874, 3391], [62, 31, 4, 2]],\n",
              "  [[4, 16, 58, 211, 803, 3112], [64, 32, 16, 8, 4, 2]],\n",
              "  [[4, 16, 62, 228, 847, 3247], [64, 32, 16, 8, 4, 2]],\n",
              "  [[4, 9, 16, 35, 108, 127, 404, 911, 1586, 3544],\n",
              "   [66, 44, 33, 22, 12, 11, 6, 4, 3, 2]],\n",
              "  [[4, 9, 16, 25, 36, 64, 100, 144, 225, 396, 562, 875, 1543, 3433],\n",
              "   [60, 40, 30, 24, 20, 15, 12, 10, 8, 6, 5, 4, 3, 2]],\n",
              "  [[4, 24, 91, 150, 577, 3471], [65, 26, 13, 10, 5, 2]],\n",
              "  [[4, 24, 89, 146, 556, 3341], [65, 26, 13, 10, 5, 2]],\n",
              "  [[4, 16, 59, 223, 839, 3206], [64, 32, 16, 8, 4, 2]],\n",
              "  [[4, 24, 90, 147, 566, 3428], [65, 26, 13, 10, 5, 2]],\n",
              "  [[4, 9, 16, 25, 36, 61, 94, 131, 204, 352, 500, 761, 1337, 2937],\n",
              "   [60, 40, 30, 24, 20, 15, 12, 10, 8, 6, 5, 4, 3, 2]],\n",
              "  [[4, 16, 25, 46, 94, 180, 356, 685, 1053, 4073],\n",
              "   [70, 35, 28, 20, 14, 10, 7, 5, 4, 2]],\n",
              "  [[4, 24, 89, 145, 555, 3343], [65, 26, 13, 10, 5, 2]],\n",
              "  [[4, 9, 16, 25, 36, 64, 100, 144, 225, 396, 570, 889, 1560, 3490],\n",
              "   [60, 40, 30, 24, 20, 15, 12, 10, 8, 6, 5, 4, 3, 2]],\n",
              "  [[4, 4324], [67, 2]],\n",
              "  [[9, 22, 71, 182, 556, 1490], [45, 27, 15, 9, 5, 3]],\n",
              "  [[4, 16, 64, 239, 901, 3499], [64, 32, 16, 8, 4, 2]],\n",
              "  [[9, 22, 68, 180, 559, 1500], [45, 27, 15, 9, 5, 3]],\n",
              "  [[4, 9, 16, 25, 33, 61, 91, 127, 197, 333, 464, 700, 1213, 2618],\n",
              "   [60, 40, 30, 24, 20, 15, 12, 10, 8, 6, 5, 4, 3, 2]],\n",
              "  [[4, 25, 88, 144, 534, 3197], [65, 26, 13, 10, 5, 2]],\n",
              "  [[4, 9, 16, 25, 34, 60, 90, 127, 196, 335, 466, 707, 1230, 2658],\n",
              "   [60, 40, 30, 24, 20, 15, 12, 10, 8, 6, 5, 4, 3, 2]],\n",
              "  [[4, 9, 16, 25, 36, 61, 94, 134, 202, 350, 497, 762, 1323, 2905],\n",
              "   [60, 40, 30, 24, 20, 15, 12, 10, 8, 6, 5, 4, 3, 2]],\n",
              "  [[4, 9, 16, 25, 36, 64, 100, 144, 225, 399, 567, 885, 1559, 3475],\n",
              "   [60, 40, 30, 24, 20, 15, 12, 10, 8, 6, 5, 4, 3, 2]],\n",
              "  [[4, 16, 64, 248, 954, 3735], [64, 32, 16, 8, 4, 2]],\n",
              "  [[4, 9, 16, 25, 34, 61, 92, 128, 195, 339, 484, 741, 1278, 2813],\n",
              "   [60, 40, 30, 24, 20, 15, 12, 10, 8, 6, 5, 4, 3, 2]],\n",
              "  [[9, 23, 73, 188, 581, 1555], [45, 27, 15, 9, 5, 3]],\n",
              "  [[4, 16, 1166, 4523], [74, 37, 4, 2]]],\n",
              " [[4270, 11102, 24766, 41846, 69174, 96502, 127246, 168238, 216062, 270718],\n",
              "  [6630, 17238, 38454, 64974, 107406, 149838, 197574, 261222, 335478, 420337],\n",
              "  [3840, 9984, 22272, 37632, 62208, 86784, 114432, 151296, 194304, 243448],\n",
              "  [6720, 17472, 38976, 65856, 108864, 151872, 200256, 264768, 340032, 426043],\n",
              "  [5780, 15028, 33524, 56644, 93636, 130628, 172244, 227732, 292468, 366452],\n",
              "  [6540, 17004, 37932, 64092, 105948, 147804, 194892, 257676, 330924, 414629],\n",
              "  [6860, 17836, 39788, 67228, 111132, 155036, 204344, 269608, 345308, 431596],\n",
              "  [7760, 20176, 45008, 76041, 125645, 175160, 230778, 304772, 390887, 489091],\n",
              "  [5720, 14872, 33176, 56056, 92664, 129272, 170456, 225368, 289432, 362641],\n",
              "  [4200, 10920, 24360, 41160, 68040, 94920, 125160, 165480, 212520, 266264],\n",
              "  [6440, 16744, 37352, 63112, 104328, 145544, 191912, 253736, 325864, 408289],\n",
              "  [5720, 14872, 33176, 56056, 92664, 129272, 170456, 225368, 289420, 362511],\n",
              "  [6930, 18018, 40194, 67914, 112266, 156618, 206514, 273042, 350617, 438904],\n",
              "  [3880, 10088, 22504, 38024, 62856, 87688, 115624, 152872, 196328, 245992],\n",
              "  [5650, 14690, 32770, 55370, 91530, 127690, 168370, 222610, 285870, 357957],\n",
              "  [1750, 4550, 10150, 17150, 28350, 39550, 52150, 68950, 88550, 110950],\n",
              "  [5060, 13156, 29348, 49588, 81972, 114356, 150788, 199364, 256011, 320472],\n",
              "  [5790, 15044, 33510, 56532, 93260, 129904, 171039, 225700, 289199, 361458],\n",
              "  [3890, 10114, 22562, 38122, 63018, 87914, 115922, 153266, 196816, 246416],\n",
              "  [5620, 14612, 32596, 55076, 91044, 127012, 167476, 221428, 284372, 356301],\n",
              "  [5680, 14768, 32944, 55664, 92016, 128368, 169264, 223792, 287408, 360105],\n",
              "  [4270, 11102, 24766, 41846, 69174, 96502, 127246, 168238, 216062, 270718],\n",
              "  [7470, 19422, 43326, 73206, 121014, 168822, 222606, 294234, 377138, 471622],\n",
              "  [5000, 13000, 29000, 49000, 81000, 113000, 149000, 197000, 253000, 317000],\n",
              "  [6920, 17992, 40136, 67816, 112093, 156285, 205859, 271775, 348407, 435596],\n",
              "  [7090, 18434, 41122, 69482, 114858, 160234, 211282, 279346, 358754, 449501],\n",
              "  [6310, 16406, 36598, 61838, 102222, 142523, 187360, 246910, 316005, 394439],\n",
              "  [5480, 14248, 31784, 53704, 88776, 123848, 163304, 215912, 277272, 347210],\n",
              "  [3740, 9724, 21692, 36652, 60588, 84524, 111452, 147356, 189226, 236906],\n",
              "  [4460, 11596, 25868, 43708, 72252, 100796, 132908, 175724, 225676, 282764],\n",
              "  [4120, 10699, 23794, 40036, 65757, 91250, 119693, 157228, 200614, 249686],\n",
              "  [3970, 10310, 22929, 38569, 63305, 87808, 115113, 151095, 192627, 239532],\n",
              "  [3960, 10296, 22968, 38808, 64152, 89496, 118008, 156024, 200376, 251064],\n",
              "  [4110, 10686, 23838, 40278, 66582, 92886, 122478, 161934, 207966, 260574],\n",
              "  [5960, 15496, 34568, 58408, 96552, 134696, 177608, 234824, 301573, 377825],\n",
              "  [5780, 15028, 33524, 56644, 93636, 130628, 172244, 227732, 292468, 366445],\n",
              "  [6820, 17732, 39556, 66836, 110484, 154132, 203230, 268649, 344842, 431751],\n",
              "  [3890, 10114, 22562, 38122, 63018, 87914, 115922, 153266, 196834, 246626],\n",
              "  [4570, 11882, 26506, 44786, 74034, 103282, 136186, 180058, 231242, 289734],\n",
              "  [8970, 23322, 52026, 87906, 145314, 202722, 267301, 353348, 453458, 567606],\n",
              "  [3940, 10227, 22723, 38197, 62642, 86826, 113791, 149329, 190373, 236723],\n",
              "  [6380, 16588, 36961, 62221, 102261, 142175, 186927, 246321, 315365, 393999],\n",
              "  [4200, 10910, 24277, 40862, 67125, 93156, 122178, 160458, 204653, 254586],\n",
              "  [2190, 5694, 12702, 21462, 35478, 49494, 65262, 86286, 110814, 138846],\n",
              "  [6620, 17212, 38396, 64876, 107244, 149612, 197276, 260828, 334963, 419529],\n",
              "  [4180, 10868, 24244, 40964, 67716, 94468, 124564, 164692, 211508, 265012],\n",
              "  [5680, 14768, 32944, 55664, 92016, 128368, 169264, 223792, 287408, 360105],\n",
              "  [6450, 16770, 37397, 63117, 104135, 145025, 190892, 251827, 322671, 403318],\n",
              "  [3250, 8450, 18850, 31850, 52650, 73450, 96850, 128050, 164450, 206050],\n",
              "  [3560, 9256, 20648, 34888, 57672, 80456, 106088, 140264, 180119, 225473],\n",
              "  [3570, 9282, 20706, 34986, 57834, 80682, 106386, 140658, 180642, 226338],\n",
              "  [5680, 14768, 32944, 55664, 92016, 128368, 169264, 223792, 287408, 360105],\n",
              "  [4150, 10790, 24070, 40670, 67230, 93790, 123670, 163510, 209986, 263057],\n",
              "  [6370, 16562, 36946, 62426, 103194, 143962, 189826, 250978, 322294, 403516],\n",
              "  [4920, 12792, 28536, 48216, 79704, 111192, 146616, 193848, 248952, 311928],\n",
              "  [4320, 11232, 25056, 42336, 69984, 97632, 128736, 170208, 218592, 273888],\n",
              "  [3980, 10342, 23031, 38797, 63795, 88596, 116282, 152861, 195160, 243001],\n",
              "  [4290, 11154, 24882, 42042, 69498, 96954, 127842, 169026, 217074, 271986],\n",
              "  [3870, 10062, 22446, 37926, 62694, 87462, 115326, 152478, 195822, 245358],\n",
              "  [4280, 11128, 24824, 41944, 69336, 96728, 127544, 168632, 216564, 271292],\n",
              "  [5400, 14040, 31320, 52920, 87480, 122040, 160920, 212760, 273240, 342360],\n",
              "  [2910, 7566, 16878, 28518, 47142, 65766, 86718, 114654, 147246, 184494],\n",
              "  [2660, 6916, 15428, 26068, 43092, 60116, 79268, 104804, 134596, 168644],\n",
              "  [3950, 10270, 22910, 38710, 63990, 89270, 117710, 155630, 199870, 250430],\n",
              "  [2440, 6344, 14152, 23912, 39528, 55144, 72712, 96136, 123464, 154696],\n",
              "  [4140, 10755, 23938, 40306, 66240, 91960, 120664, 158562, 202371, 251923],\n",
              "  [6620, 17212, 38396, 64876, 107244, 149612, 197276, 260828, 334972, 419708],\n",
              "  [4150, 10790, 24070, 40670, 67230, 93790, 123670, 163510, 209990, 263110],\n",
              "  [5100, 13260, 29580, 49980, 82620, 115260, 151980, 200940, 258051, 323236],\n",
              "  [2040, 5304, 11832, 19992, 33048, 46104, 60792, 80376, 103224, 129336],\n",
              "  [5980, 15548, 34684, 58604, 96876, 135148, 178204, 235612, 302588, 379125],\n",
              "  [2330, 6058, 13514, 22834, 37746, 52658, 69434, 91802, 117898, 147722],\n",
              "  [5780, 15028, 33524, 56644, 93636, 130628, 172244, 227732, 292468, 366376],\n",
              "  [3750, 9750, 21750, 36750, 60750, 84750, 111750, 147750, 189750, 237750],\n",
              "  [3930, 10218, 22794, 38514, 63666, 88818, 117114, 154842, 198858, 249162],\n",
              "  [7580, 19708, 43964, 74284, 122796, 171308, 225878, 298593, 383298, 479930],\n",
              "  [3550, 9230, 20590, 34790, 57510, 80230, 105790, 139867, 179591, 224901],\n",
              "  [2540, 6604, 14732, 24892, 41148, 57404, 75692, 100076, 128524, 161036],\n",
              "  [3920, 10179, 22632, 38060, 62453, 86619, 113547, 149040, 190025, 236317],\n",
              "  [4080, 10597, 23576, 39687, 65235, 90564, 118823, 156128, 199251, 248017],\n",
              "  [6100, 15853, 35327, 59616, 98389, 137106, 180599, 238481, 305906, 382829],\n",
              "  [3940, 10226, 22715, 38173, 62590, 86746, 113665, 149124, 190052, 236246],\n",
              "  [5360, 13936, 31088, 52528, 86832, 121136, 159728, 211184, 271209, 339729],\n",
              "  [5760, 14976, 33408, 56448, 93312, 130168, 171576, 226720, 290919, 364063],\n",
              "  [4080, 10596, 23570, 39668, 65158, 90397, 118537, 155671, 198579, 247046],\n",
              "  [2100, 5460, 12180, 20580, 34020, 47460, 62580, 82740, 106260, 133140],\n",
              "  [2630, 6838, 15254, 25774, 42606, 59438, 78374, 103622, 133078, 166742],\n",
              "  [5510, 14326, 31958, 53998, 89262, 124526, 164198, 217094, 278806, 349324],\n",
              "  [4400, 11440, 25520, 43120, 71280, 99440, 131120, 173360, 222640, 278960],\n",
              "  [4510, 11726, 26158, 44198, 73062, 101926, 134398, 177694, 228206, 285934],\n",
              "  [7910, 20566, 45878, 77518, 128142, 178766, 235718, 311654, 400228, 501246],\n",
              "  [4440, 11535, 25680, 43260, 71149, 98828, 129780, 170736, 218214, 272039],\n",
              "  [7440, 19344, 43152, 72912, 120528, 168144, 221712, 293136, 376446, 471456],\n",
              "  [5510, 14326, 31958, 53998, 89262, 124526, 164198, 217094, 278791, 349118],\n",
              "  [2600, 6760, 15080, 25480, 42120, 58760, 77480, 102440, 131560, 164840],\n",
              "  [3870, 10062, 22446, 37926, 62694, 87462, 115326, 152478, 195822, 245358],\n",
              "  [5770, 15002, 33466, 56546, 93474, 130402, 171946, 227338, 291953, 365704],\n",
              "  [4710, 12246, 27318, 46158, 76302, 106446, 140358, 185574, 238326, 298614],\n",
              "  [6030, 15678, 34974, 59094, 97686, 136278, 179618, 236970, 303478, 379278]])"
            ]
          },
          "metadata": {},
          "execution_count": 21
        }
      ]
    },
    {
      "cell_type": "code",
      "source": [
        "lm_coeffs = []\n",
        "for i in range(len(out_test_bcm)):\n",
        "    counts, sizes = out_test_bcm[i][0],out_test_bcm[i][1]\n",
        "    # print(counts,sizes)\n",
        "    lm_coeffs.append(np.polyfit(np.log(sizes),np.log(counts),1))\n",
        "lm_coeffs"
      ],
      "metadata": {
        "id": "WnEu7x9Px8mh",
        "colab": {
          "base_uri": "https://localhost:8080/"
        },
        "collapsed": true,
        "outputId": "a774576d-3b7c-4001-d1dd-8b94799dbce6"
      },
      "execution_count": null,
      "outputs": [
        {
          "output_type": "execute_result",
          "data": {
            "text/plain": [
              "[array([-1.89994848,  9.4132786 ]),\n",
              " array([-1.93480524,  9.45966004]),\n",
              " array([-1.95568741,  9.54034941]),\n",
              " array([-1.94014876,  9.48240432]),\n",
              " array([-1.9466284 ,  9.86404041]),\n",
              " array([-1.95435279,  9.66156275]),\n",
              " array([-1.90404317,  9.50262087]),\n",
              " array([-1.89653582,  9.44514147]),\n",
              " array([-1.95312379,  9.59864317]),\n",
              " array([-1.9541446 ,  9.53521302]),\n",
              " array([-1.95922915,  9.79672335]),\n",
              " array([-1.91712568,  9.2816416 ]),\n",
              " array([-1.91680962,  9.39244105]),\n",
              " array([-1.91642803,  9.3709098 ]),\n",
              " array([-1.89753287,  9.18368015]),\n",
              " array([-1.9956217,  9.9771873]),\n",
              " array([-1.91225214,  9.23873863]),\n",
              " array([-1.92985073,  9.4440702 ]),\n",
              " array([-1.87465657,  8.9391971 ]),\n",
              " array([-1.9509261 ,  9.52569855]),\n",
              " array([-1.95271724,  9.59692957]),\n",
              " array([-1.89363262,  9.38630787]),\n",
              " array([-1.88796024,  9.49615852]),\n",
              " array([-1.89625655,  9.38351484]),\n",
              " array([-1.86591719,  8.96380229]),\n",
              " array([-1.93779664,  9.47441824]),\n",
              " array([-1.88183627,  9.24967259]),\n",
              " array([-1.93066099,  9.32268674]),\n",
              " array([-1.89473177,  9.03187048]),\n",
              " array([-1.9021871 ,  9.40109708]),\n",
              " array([-1.92612053,  9.42837962]),\n",
              " array([-1.93307215,  9.45522698]),\n",
              " array([-1.96166693,  9.49398751]),\n",
              " array([-1.90826599,  9.41750476]),\n",
              " array([-1.94665653,  9.43729397]),\n",
              " array([-1.94766795,  9.49451037]),\n",
              " array([-1.92737706,  9.43509507]),\n",
              " array([-1.92526625,  9.41308558]),\n",
              " array([-1.96949815,  9.59576428]),\n",
              " array([-1.89076598,  9.61949316]),\n",
              " array([-1.93163729,  9.44837456]),\n",
              " array([-1.90706225,  9.48347115]),\n",
              " array([-1.91386213,  9.38335903]),\n",
              " array([-1.98839436,  9.32742461]),\n",
              " array([-1.89320413,  9.31656235]),\n",
              " array([-1.95472642,  9.46743568]),\n",
              " array([-1.95117969,  9.52659204]),\n",
              " array([-1.88272199,  9.3937076 ]),\n",
              " array([-1.92267282,  9.40054763]),\n",
              " array([-1.86812721,  8.91486119]),\n",
              " array([-1.91915963,  9.38870105]),\n",
              " array([-1.94018911,  9.37236757]),\n",
              " array([-1.94209846,  9.48734012]),\n",
              " array([-1.89390369,  9.19708017]),\n",
              " array([-1.88165834,  9.32749629]),\n",
              " array([-1.90168887,  9.39859512]),\n",
              " array([-1.94029638,  9.49109137]),\n",
              " array([-1.90097171,  9.41148376]),\n",
              " array([-1.95860722,  9.48224083]),\n",
              " array([-1.95798818,  9.5504497 ]),\n",
              " array([-1.94933926,  9.87026347]),\n",
              " array([-1.98979609,  9.75277529]),\n",
              " array([-1.9874942 ,  9.45065241]),\n",
              " array([-1.91134829,  9.36063631]),\n",
              " array([-1.99241413,  9.76378333]),\n",
              " array([-1.9282011 ,  9.44290133]),\n",
              " array([-1.9198176 ,  9.71363734]),\n",
              " array([-1.91146613,  9.35609241]),\n",
              " array([-1.95159993,  9.5048208 ]),\n",
              " array([-1.99104741,  9.33606078]),\n",
              " array([-1.9534961 ,  9.59988688]),\n",
              " array([-1.98880098,  9.53929446]),\n",
              " array([-1.90317741,  9.34946932]),\n",
              " array([-1.96090807,  9.49127541]),\n",
              " array([-1.90940053,  9.34932788]),\n",
              " array([-1.92519447,  9.42764268]),\n",
              " array([-1.92837476,  9.48750734]),\n",
              " array([-1.98639315,  9.53194062]),\n",
              " array([-1.94065175,  9.48907516]),\n",
              " array([-1.92755153,  9.43644257]),\n",
              " array([-1.92253233,  9.4055229 ]),\n",
              " array([-1.93545038,  9.46592183]),\n",
              " array([-1.92844806,  9.32351377]),\n",
              " array([-1.94046041,  9.65638426]),\n",
              " array([-1.92737122,  9.43465796]),\n",
              " array([-1.99158679,  9.54847519]),\n",
              " array([-1.98933545,  9.75083844]),\n",
              " array([-1.8933631 ,  9.37410867]),\n",
              " array([-1.94887576,  9.52099665]),\n",
              " array([-1.89753977,  9.37732723]),\n",
              " array([-1.89424206,  9.19795842]),\n",
              " array([-1.90823775,  9.3779872 ]),\n",
              " array([-1.89779929,  9.20979532]),\n",
              " array([-1.92543987,  9.31494902]),\n",
              " array([-1.99066506,  9.54575536]),\n",
              " array([-1.97091987,  9.6010417 ]),\n",
              " array([-1.91444835,  9.26628713]),\n",
              " array([-1.90459267,  9.43354216]),\n",
              " array([-1.94176787,  9.76100018])]"
            ]
          },
          "metadata": {},
          "execution_count": 16
        }
      ]
    },
    {
      "cell_type": "markdown",
      "source": [
        "### VI. Generating data descriptors"
      ],
      "metadata": {
        "id": "k5xpE9h-w2ue"
      }
    },
    {
      "cell_type": "code",
      "source": [
        "from scipy.interpolate import BSpline"
      ],
      "metadata": {
        "id": "sGdgfUL4xVPh"
      },
      "execution_count": null,
      "outputs": []
    },
    {
      "cell_type": "code",
      "source": [
        "from scipy.fftpack import fft, ifft"
      ],
      "metadata": {
        "id": "ICuXrK6PQq3L"
      },
      "execution_count": null,
      "outputs": []
    },
    {
      "cell_type": "code",
      "source": [
        "img = skm.io.imread(f'https://github.com/pedromazim/visao/blob/main/shapes99/{filename_list[0]}?raw=true')\n",
        "img = make_square(img)"
      ],
      "metadata": {
        "id": "iO62CWkvxo7m"
      },
      "execution_count": null,
      "outputs": []
    },
    {
      "cell_type": "code",
      "source": [
        "test_bmm = bmm(img,100)"
      ],
      "metadata": {
        "id": "X5SxjG89K65u"
      },
      "execution_count": null,
      "outputs": []
    },
    {
      "cell_type": "code",
      "source": [
        "pt.scatter(np.log(np.arange(100)),np.log(test_bmm))"
      ],
      "metadata": {
        "colab": {
          "base_uri": "https://localhost:8080/",
          "height": 482
        },
        "id": "IOsplx-oMxcS",
        "outputId": "8f77c099-f47e-409c-dcfa-d0dcc918f763"
      },
      "execution_count": null,
      "outputs": [
        {
          "output_type": "stream",
          "name": "stderr",
          "text": [
            "<ipython-input-26-4b4b9bbb2b34>:1: RuntimeWarning: divide by zero encountered in log\n",
            "  pt.scatter(np.log(np.arange(100)),np.log(test_bmm))\n"
          ]
        },
        {
          "output_type": "execute_result",
          "data": {
            "text/plain": [
              "<matplotlib.collections.PathCollection at 0x7f7c243b5870>"
            ]
          },
          "metadata": {},
          "execution_count": 26
        },
        {
          "output_type": "display_data",
          "data": {
            "text/plain": [
              "<Figure size 640x480 with 1 Axes>"
            ],
            "image/png": "[encoded data removed]"
          },
          "metadata": {}
        }
      ]
    },
    {
      "cell_type": "code",
      "source": [
        "dbmm = np.polyfit(np.log(test_bmm),np.log(np.arange(100)),1)\n",
        "DF_bmm = 2-dbmm"
      ],
      "metadata": {
        "id": "F6Gwqwc8vP0M"
      },
      "execution_count": null,
      "outputs": []
    },
    {
      "cell_type": "code",
      "source": [
        "#DIMENSAO FRACTAL MULTIESCALA\n",
        "# DFM =  N - d(ln(A(r)))/dr\n",
        "# e ai eu calculo essa derivada ai fazendo a diferecinha ponto a ponto e ai eu tenho duas metricas\n",
        "# e com isso talvez ja de para classificar = plugar no classificador p fazer cluster."
      ],
      "metadata": {
        "id": "cvg4-2pVN43S"
      },
      "execution_count": null,
      "outputs": []
    },
    {
      "cell_type": "code",
      "source": [
        "pt.plot(x, dydx)"
      ],
      "metadata": {
        "colab": {
          "base_uri": "https://localhost:8080/",
          "height": 517
        },
        "id": "nKXtEl48O0h9",
        "outputId": "671aa895-9ccc-4794-faf6-5415ec48c175"
      },
      "execution_count": null,
      "outputs": [
        {
          "output_type": "stream",
          "name": "stderr",
          "text": [
            "/usr/local/lib/python3.10/dist-packages/matplotlib/cbook/__init__.py:1335: ComplexWarning: Casting complex values to real discards the imaginary part\n",
            "  return np.asarray(x, float)\n"
          ]
        },
        {
          "output_type": "execute_result",
          "data": {
            "text/plain": [
              "[<matplotlib.lines.Line2D at 0x7f7c2413d4e0>]"
            ]
          },
          "metadata": {},
          "execution_count": 34
        },
        {
          "output_type": "display_data",
          "data": {
            "text/plain": [
              "<Figure size 640x480 with 1 Axes>"
            ],
            "image/png": "[encoded data removed]"
          },
          "metadata": {}
        }
      ]
    },
    {
      "cell_type": "code",
      "source": [
        "perimeter = distance(img,) == 1"
      ],
      "metadata": {
        "id": "xS19djefZ1Gp"
      },
      "execution_count": null,
      "outputs": []
    },
    {
      "cell_type": "markdown",
      "source": [
        "### VII. Classifying shapes by Principal Component Analysis (PCA)"
      ],
      "metadata": {
        "id": "WcAusyGXxBgv"
      }
    }
  ]
}