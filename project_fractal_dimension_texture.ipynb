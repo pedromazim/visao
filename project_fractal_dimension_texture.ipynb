{
  "nbformat": 4,
  "nbformat_minor": 0,
  "metadata": {
    "colab": {
      "provenance": [],
      "collapsed_sections": [
        "VwrAlsQBmZ05",
        "PMkkCovCprG8",
        "oqBDOicn1lNC",
        "ax8qRpKB1tol",
        "rLr0jCvYCaFl",
        "28OfOp0Kmo_T",
        "WcAusyGXxBgv"
      ],
      "authorship_tag": "ABX9TyOOS0fZbETgSfcToWG9fLfB",
      "include_colab_link": true
    },
    "kernelspec": {
      "name": "python3",
      "display_name": "Python 3"
    },
    "language_info": {
      "name": "python"
    }
  },
  "cells": [
    {
      "cell_type": "markdown",
      "metadata": {
        "id": "view-in-github",
        "colab_type": "text"
      },
      "source": [
        "<a href=\"https://colab.research.google.com/github/pedromazim/visao/blob/main/project_fractal_dimension_texture.ipynb\" target=\"_parent\"><img src=\"https://colab.research.google.com/assets/colab-badge.svg\" alt=\"Open In Colab\"/></a>"
      ]
    },
    {
      "cell_type": "markdown",
      "source": [
        "### I. Modules and auxiliary functions"
      ],
      "metadata": {
        "id": "VwrAlsQBmZ05"
      }
    },
    {
      "cell_type": "code",
      "execution_count": 1,
      "metadata": {
        "id": "gu4g013FYs2K"
      },
      "outputs": [],
      "source": [
        "import numpy as np\n",
        "import skimage as skm\n",
        "import matplotlib.pyplot as pt\n",
        "import matplotlib.colors as cm\n",
        "import os\n",
        "from glob import glob\n",
        "import pandas as pd\n",
        "from sklearn.decomposition import PCA\n",
        "from sklearn.preprocessing import StandardScaler"
      ]
    },
    {
      "cell_type": "code",
      "source": [
        "@jit(looplift=True)\n",
        "def find_divisors(num):# finds common divisors :)\n",
        "    d = []\n",
        "    for i in range(2,int(num/2)+1):\n",
        "        if num%i == 0:\n",
        "            d.append(i)\n",
        "    d.append(num)\n",
        "    return np.array(d)"
      ],
      "metadata": {
        "colab": {
          "base_uri": "https://localhost:8080/"
        },
        "id": "xNokqUs1x4UA",
        "outputId": "56a5ca32-04d6-4a9e-baa9-6c4d87cb40a3",
        "collapsed": true
      },
      "execution_count": 2,
      "outputs": [
        {
          "output_type": "stream",
          "name": "stderr",
          "text": [
            "<ipython-input-2-9662cf1e8e7a>:1: NumbaDeprecationWarning: The 'nopython' keyword argument was not supplied to the 'numba.jit' decorator. The implicit default value for this argument is currently False, but it will be changed to True in Numba 0.59.0. See https://numba.readthedocs.io/en/stable/reference/deprecation.html#deprecation-of-object-mode-fall-back-behaviour-when-using-jit for details.\n",
            "  @jit(looplift=True)\n"
          ]
        }
      ]
    },
    {
      "cell_type": "code",
      "source": [
        "# @jit(looplift=True)\n",
        "def edt(img):\n",
        "    # euclidean distance from foreground (white) to background (black) pixels\n",
        "\n",
        "    img = img.astype('int')\n",
        "    h, w = img.shape\n",
        "\n",
        "    d = np.zeros((h,w))\n",
        "\n",
        "    for y in range(h):\n",
        "        for x in range(w):\n",
        "\n",
        "            if img[x,y] == 1:\n",
        "                flag = True\n",
        "                r = 1\n",
        "                while flag:\n",
        "                    nb = img[x-r:x+r+1,y-r:y+r+1]\n",
        "                    if np.flatnonzero(nb).size != nb.size:\n",
        "                        d[x,y] = r\n",
        "                        flag = False\n",
        "                    else:\n",
        "                        r += 1\n",
        "    return d"
      ],
      "metadata": {
        "id": "9xHd1zoY0-T6"
      },
      "execution_count": 3,
      "outputs": []
    },
    {
      "cell_type": "code",
      "source": [
        "# @jit(looplift=True)\n",
        "def distance(img, x0, y0):# distance from all foreground pixels to a specific one\n",
        "    img = img.astype('int')\n",
        "    h, w = img.shape\n",
        "    dist = np.zeros_like(img)\n",
        "    fg = np.argwhere(img == 1)\n",
        "    dist = np.sqrt((np.indices((h,w))[0]-x0)**2 + (np.indices((h,w))[1]-y0)**2)\n",
        "    return dist"
      ],
      "metadata": {
        "id": "Pr8RFDcf1CPB"
      },
      "execution_count": 4,
      "outputs": []
    },
    {
      "cell_type": "code",
      "source": [
        "def make_square(img):\n",
        "\n",
        "    h, w = img.shape # height, width\n",
        "\n",
        "    if w > h:\n",
        "        if w%2 != 0:\n",
        "            img = np.column_stack((img, np.ones((h,1))*255))\n",
        "            img = np.vstack((img, np.ones((w+1-h,w+1))*255))\n",
        "        else:\n",
        "            img = np.vstack((img, np.ones((w-h,w))*255))\n",
        "    elif h > w:\n",
        "        if h%2 != 0:\n",
        "            img = np.vstack((img, np.ones((1,w))*255))\n",
        "            img = np.column_stack((img, np.ones((h+1,h+1-w))*255))\n",
        "        else:\n",
        "            img = np.column_stack((img, np.ones((h,h-w))*255))\n",
        "    return img\n"
      ],
      "metadata": {
        "id": "OLMXZD8wo2cf"
      },
      "execution_count": 5,
      "outputs": []
    },
    {
      "cell_type": "markdown",
      "source": [
        "### II. Mass-radius method"
      ],
      "metadata": {
        "id": "PMkkCovCprG8"
      }
    },
    {
      "cell_type": "code",
      "source": [
        "def mrm(img):\n",
        "    area = (np.argwhere(img == 1).size/2)\n",
        "    cm = [int(1/area*np.sum(np.where(img == 1)[0])), int(1/area*(np.sum(np.where(img == 1)[1])))]\n",
        "    rmax = int(np.max(distance(img,cm[0],cm[1])))\n",
        "\n",
        "    counts = []\n",
        "    size = []\n",
        "\n",
        "    for r in range(1,rmax+1):\n",
        "        c = 0\n",
        "        for px in np.argwhere(distance(img, cm[0],cm[1]) <= r):\n",
        "            if img[px[0],px[1]] == 1:\n",
        "                c += 1\n",
        "        if c != 0:\n",
        "            size.append(r)\n",
        "            counts.append(c)\n",
        "\n",
        "    return counts,size"
      ],
      "metadata": {
        "id": "JSPmh2OfqHMd"
      },
      "execution_count": 22,
      "outputs": []
    },
    {
      "cell_type": "code",
      "source": [
        "def fd_dataset_mrm(filename_list): #calculates BCM and BMM for each image in dataset\n",
        "\n",
        "    out = open('out_shapes_mrm.dat','w')\n",
        "\n",
        "    MRM_fd = []\n",
        "\n",
        "    for filename in range(len(filename_list)):\n",
        "        #print(filename)\n",
        "        img = skm.io.imread(f'https://github.com/pedromazim/visao/blob/main/shapes99/{filename_list[filename]}?raw=true')\n",
        "        img = make_square(img)\n",
        "        img = img/255.\n",
        "        img = skm.util.invert(img)\n",
        "        img = img == 1\n",
        "        img.astype('int')\n",
        "\n",
        "        mrm_fd = mrm(img)\n",
        "        print(filename, filename_list[filename], 'mrm')\n",
        "\n",
        "        out.write(f'{mrm_fd}\\n')\n",
        "        MRM_fd.append(mrm_fd)\n",
        "\n",
        "    #data = np.savetxt('out_shapes.dat', np.array(BCM_fd))\n",
        "    out = {'filename':filename_list, 'MRM_FD':MRM_fd}\n",
        "    return out"
      ],
      "metadata": {
        "id": "CnPkmbplVYbF"
      },
      "execution_count": 23,
      "outputs": []
    },
    {
      "cell_type": "code",
      "source": [
        "out_test_mrm = fd_dataset_mrm(filename_list)"
      ],
      "metadata": {
        "id": "d0k2yziY0GOZ",
        "colab": {
          "base_uri": "https://localhost:8080/"
        },
        "outputId": "448478be-0c8f-4dd4-d429-c9eac1d3993e"
      },
      "execution_count": 24,
      "outputs": [
        {
          "output_type": "stream",
          "name": "stdout",
          "text": [
            "0 bonefishes.png mrm\n",
            "1 bonefishesocc1.png mrm\n",
            "2 bunny04.png mrm\n",
            "3 calf1.png mrm\n",
            "4 calf2.png mrm\n",
            "5 cat1.png mrm\n",
            "6 cat2.png mrm\n",
            "7 cow1.png mrm\n",
            "8 cow2.png mrm\n",
            "9 desertcottontail.png mrm\n",
            "10 dog1.png mrm\n",
            "11 dog2.png mrm\n",
            "12 dog3.png mrm\n",
            "13 dogfishsharks.png mrm\n",
            "14 donkey1.png mrm\n",
            "15 dude0.png mrm\n",
            "16 dude1.png mrm\n",
            "17 dude10.png mrm\n",
            "18 dude11.png mrm\n",
            "19 dude12.png mrm\n",
            "20 dude2.png mrm\n",
            "21 dude4.png mrm\n",
            "22 dude5.png mrm\n",
            "23 dude6.png mrm\n",
            "24 dude7.png mrm\n",
            "25 dude8.png mrm\n",
            "26 easterncottontail.png mrm\n",
            "27 f15.png mrm\n",
            "28 f16.png mrm\n",
            "29 f16occ1.png mrm\n",
            "30 fgen1ap.png mrm\n",
            "31 fgen1bp.png mrm\n",
            "32 fgen1ep.png mrm\n",
            "33 fgen1fp.png mrm\n",
            "34 fgen2dp.png mrm\n",
            "35 fgen2fp.png mrm\n",
            "36 fgen3bp.png mrm\n",
            "37 fgen5cp.png mrm\n",
            "38 fish14.png mrm\n",
            "39 fish23.png mrm\n",
            "40 fish28.png mrm\n",
            "41 fish30.png mrm\n",
            "42 fox1.png mrm\n",
            "43 hand.png mrm\n",
            "44 hand2.png mrm\n",
            "45 hand2occ1.png mrm\n",
            "46 hand2occ2.png mrm\n",
            "47 hand2occ3.png mrm\n",
            "48 hand3.png mrm\n",
            "49 hand90.png mrm\n",
            "50 handbent1.png mrm\n",
            "51 handbent2.png mrm\n",
            "52 handdeform.png mrm\n",
            "53 handdeform2.png mrm\n",
            "54 harrier.png mrm\n",
            "55 harrierocc1.png mrm\n",
            "56 harrierocc2.png mrm\n",
            "57 harrierocc3.png mrm\n",
            "58 herrings.png mrm\n",
            "59 kk0728.png mrm\n",
            "60 kk0729.png mrm\n",
            "61 kk0731.png mrm\n",
            "62 kk0732.png mrm\n",
            "63 kk0735.png mrm\n",
            "64 kk0736.png mrm\n",
            "65 kk0737.png mrm\n",
            "66 kk0738.png mrm\n",
            "67 kk0739.png mrm\n",
            "68 kk0740.png mrm\n",
            "69 kk0741.png mrm\n",
            "70 marshrabbit.png mrm\n",
            "71 mgen1bp.png mrm\n",
            "72 mgen2ap.png mrm\n",
            "73 mgen2fp.png mrm\n",
            "74 mountaincottontail.png mrm\n",
            "75 mountaincottontailocc1.png mrm\n",
            "76 mountaincottontailocc2.png mrm\n",
            "77 mountaincottontailrot.png mrm\n",
            "78 mullets.png mrm\n",
            "79 phantom.png mrm\n",
            "80 phantomocc1.png mrm\n",
            "81 pygmyrabbit.png mrm\n",
            "82 skyhawk.png mrm\n",
            "83 skyhawkocc1.png mrm\n",
            "84 swamprabbit.png mrm\n",
            "85 swamprabbitocc2.png mrm\n",
            "86 swordfishes.png mrm\n",
            "87 tool04.png mrm\n",
            "88 tool04bent1.png mrm\n",
            "89 tool07.png mrm\n",
            "90 tool08.png mrm\n",
            "91 tool09.png mrm\n",
            "92 tool12.png mrm\n",
            "93 tool17.png mrm\n",
            "94 tool22.png mrm\n",
            "95 tool27.png mrm\n",
            "96 tool38.png mrm\n",
            "97 tool44.png mrm\n",
            "98 whalesharks.png mrm\n"
          ]
        }
      ]
    },
    {
      "cell_type": "code",
      "source": [
        "lm_coeffs_MRM = []\n",
        "for i in range(len(out_test_mrm['MRM_FD'])):\n",
        "    counts, sizes= out_test_mrm['MRM_FD'][i][1][:-30],out_test_mrm['MRM_FD'][i][0][:-30]\n",
        "    # print(counts,sizes)\n",
        "    lm_coeffs_MRM.append(np.polyfit(np.log(sizes),np.log(counts),1)[0])"
      ],
      "metadata": {
        "id": "kmhbpqguZTG7"
      },
      "execution_count": 25,
      "outputs": []
    },
    {
      "cell_type": "markdown",
      "source": [
        "### III. Box-counting method\n"
      ],
      "metadata": {
        "id": "oqBDOicn1lNC"
      }
    },
    {
      "cell_type": "code",
      "source": [
        "#@jit(looplift=True)\n",
        "def bcm(img, binary):\n",
        "    if not binary:\n",
        "        img = make_gray(img,[1/3,1/3,1/3])\n",
        "        #thd = otsu_thresholding(img)\n",
        "        thd = threshold_otsu(img)\n",
        "        img = img > thd\n",
        "\n",
        "        img = img.astype('int')\n",
        "\n",
        "    img = skm.util.invert(img)\n",
        "\n",
        "    grid = np.zeros_like(img)\n",
        "    h, w = img.shape\n",
        "    counts = []\n",
        "    size = []\n",
        "\n",
        "    res = 100\n",
        "\n",
        "\n",
        "    for L in find_divisors(h):\n",
        "        size.append(int(h/L))\n",
        "        counter = 0\n",
        "        for m in range(L):# loop for height\n",
        "            for n in range(L):#loop for width\n",
        "                if img[int(m*h/L):int((m+1)*h/L),int(n*w/L):int((n+1)*w/L)].any() == 1:\n",
        "                    counter += 1\n",
        "        counts.append(counter)\n",
        "\n",
        "    return [counts, size]"
      ],
      "metadata": {
        "id": "9m61KRU7nOWS"
      },
      "execution_count": 26,
      "outputs": []
    },
    {
      "cell_type": "code",
      "source": [
        "def fd_dataset_bcm(filename_list): #calculates BCM and BMM for each image in dataset\n",
        "\n",
        "    out = open('out_shapes_bcm.dat','w')\n",
        "\n",
        "    BCM_fd = []\n",
        "\n",
        "    for filename in range(len(filename_list)):\n",
        "        #print(filename)\n",
        "        img = skm.io.imread(f'https://github.com/pedromazim/visao/blob/main/shapes99/{filename_list[filename]}?raw=true')\n",
        "        img = make_square(img)\n",
        "        img = img/255.\n",
        "        img = skm.util.invert(img)\n",
        "        img = img == 1\n",
        "        img.astype('int')\n",
        "\n",
        "        bcm_fd = bcm(img, True)\n",
        "        # print(filename, filename_list[filename], 'bcm')\n",
        "\n",
        "        out.write(f'{bcm_fd}\\n')\n",
        "        BCM_fd.append(bcm_fd)\n",
        "\n",
        "    #data = np.savetxt('out_shapes.dat', np.array(BCM_fd))\n",
        "    out = {'filename':filename_list, 'BCM_FD':BCM_fd}\n",
        "    return out"
      ],
      "metadata": {
        "id": "3Wf2qlg8ikD2"
      },
      "execution_count": 27,
      "outputs": []
    },
    {
      "cell_type": "code",
      "source": [
        "out_test_bcm = fd_dataset_bcm(filename_list)"
      ],
      "metadata": {
        "id": "j3RLrWWQ0JwE"
      },
      "execution_count": 28,
      "outputs": []
    },
    {
      "cell_type": "code",
      "source": [
        "lm_coeffs_BCM = []\n",
        "for i in range(len(out_test_bcm['BCM_FD'])):\n",
        "    counts, sizes = out_test_bcm['BCM_FD'][i][0],out_test_bcm['BCM_FD'][i][1]\n",
        "    # print(counts,sizes)\n",
        "    lm_coeffs_BCM.append(np.polyfit(np.log(sizes),np.log(counts),1)[0])\n",
        "lm_coeffs_BCM = np.array(lm_coeffs_BCM)*(-1)"
      ],
      "metadata": {
        "id": "WnEu7x9Px8mh",
        "collapsed": true
      },
      "execution_count": 29,
      "outputs": []
    },
    {
      "cell_type": "markdown",
      "source": [
        "### IV. Bouligand-Minkowsky method"
      ],
      "metadata": {
        "id": "ax8qRpKB1tol"
      }
    },
    {
      "cell_type": "code",
      "source": [
        "def bmm(img, R):\n",
        "\n",
        "    dt = edt(img)\n",
        "    edge = np.argwhere(dt==1)\n",
        "    counts = []\n",
        "    fg = np.argwhere(img == 1)\n",
        "    for r in range(1,R+1,10):# calculates influence area for multiple r values\n",
        "        c = 0\n",
        "        for e in edge:\n",
        "            np.argwhere(distance(img, e[0],e[1]) <= r) # all pixels inside circle\n",
        "            a = set((tuple(i) for i in np.argwhere(distance(img, e[0],e[1]) <= r)))\n",
        "            b = set((tuple(i) for i in fg))\n",
        "            c = len(a.intersection(b))\n",
        "\n",
        "        counts.append(c)\n",
        "\n",
        "    return counts"
      ],
      "metadata": {
        "id": "zKF-4IDCyzw2"
      },
      "execution_count": 30,
      "outputs": []
    },
    {
      "cell_type": "code",
      "source": [
        "#@jit(looplift=True)\n",
        "def fd_dataset_bmm(filename_list): #calculates BCM and BMM for each image in dataset\n",
        "\n",
        "    out = open('out_shapes_bmm.dat','w')\n",
        "\n",
        "    BMM_fd = []\n",
        "\n",
        "    for filename in range(len(filename_list)):\n",
        "        #print(filename)\n",
        "        img = skm.io.imread(f'https://github.com/pedromazim/visao/blob/main/shapes99/{filename_list[filename]}?raw=true')\n",
        "        img = make_square(img)\n",
        "        img = img/255.\n",
        "        img = skm.util.invert(img)\n",
        "        img = img == 1\n",
        "        img.astype('int')\n",
        "        print('pelo menos daqui passei')\n",
        "        bmm_fd = bmm(img, 100)\n",
        "        print(filename, filename_list[filename], 'bmm')\n",
        "\n",
        "        out.write(f'{bmm_fd}\\n')\n",
        "        BMM_fd.append(bmm_fd)\n",
        "\n",
        "    #data = np.savetxt('out_shapes.dat', np.array(BCM_fd))\n",
        "    out = {'filename':filename_list, 'BMM_FD':BMM_fd}\n",
        "    return out"
      ],
      "metadata": {
        "id": "QLwtJ-Ngy0IK"
      },
      "execution_count": null,
      "outputs": []
    },
    {
      "cell_type": "code",
      "source": [
        "out_test_bmm = fd_dataset_bmm(filename_list)"
      ],
      "metadata": {
        "id": "lPgO66hL0NGs"
      },
      "execution_count": null,
      "outputs": []
    },
    {
      "cell_type": "code",
      "source": [
        "lm_coeffs_BMM = []\n",
        "for i in range(len(out_test_bmm['BMM_FD'])):\n",
        "    counts= np.transpose(out_test_bmm['BMM_FD'][i])\n",
        "    # print(counts,sizes)\n",
        "    lm_coeffs_BMM.append(np.polyfit(np.log(np.arange(1,101,10)),np.log(counts),1)[0])\n",
        "lm_coeffs_BMM = 2 - np.array(lm_coeffs_BMM)"
      ],
      "metadata": {
        "collapsed": true,
        "id": "X0ADihJ7dhyJ",
        "colab": {
          "base_uri": "https://localhost:8080/",
          "height": 211
        },
        "outputId": "ec40e6c5-dbea-46fd-ef26-334b6e1ff132"
      },
      "execution_count": 51,
      "outputs": [
        {
          "output_type": "error",
          "ename": "TypeError",
          "evalue": "list indices must be integers or slices, not str",
          "traceback": [
            "\u001b[0;31m---------------------------------------------------------------------------\u001b[0m",
            "\u001b[0;31mTypeError\u001b[0m                                 Traceback (most recent call last)",
            "\u001b[0;32m<ipython-input-51-1829a647ade3>\u001b[0m in \u001b[0;36m<cell line: 2>\u001b[0;34m()\u001b[0m\n\u001b[1;32m      1\u001b[0m \u001b[0mlm_coeffs_BMM\u001b[0m \u001b[0;34m=\u001b[0m \u001b[0;34m[\u001b[0m\u001b[0;34m]\u001b[0m\u001b[0;34m\u001b[0m\u001b[0;34m\u001b[0m\u001b[0m\n\u001b[0;32m----> 2\u001b[0;31m \u001b[0;32mfor\u001b[0m \u001b[0mi\u001b[0m \u001b[0;32min\u001b[0m \u001b[0mrange\u001b[0m\u001b[0;34m(\u001b[0m\u001b[0mlen\u001b[0m\u001b[0;34m(\u001b[0m\u001b[0mout_test_bmm\u001b[0m\u001b[0;34m[\u001b[0m\u001b[0;34m'BMM_FD'\u001b[0m\u001b[0;34m]\u001b[0m\u001b[0;34m)\u001b[0m\u001b[0;34m)\u001b[0m\u001b[0;34m:\u001b[0m\u001b[0;34m\u001b[0m\u001b[0;34m\u001b[0m\u001b[0m\n\u001b[0m\u001b[1;32m      3\u001b[0m     \u001b[0mcounts\u001b[0m\u001b[0;34m=\u001b[0m \u001b[0mnp\u001b[0m\u001b[0;34m.\u001b[0m\u001b[0mtranspose\u001b[0m\u001b[0;34m(\u001b[0m\u001b[0mout_test_bmm\u001b[0m\u001b[0;34m[\u001b[0m\u001b[0;34m'BMM_FD'\u001b[0m\u001b[0;34m]\u001b[0m\u001b[0;34m[\u001b[0m\u001b[0mi\u001b[0m\u001b[0;34m]\u001b[0m\u001b[0;34m)\u001b[0m\u001b[0;34m\u001b[0m\u001b[0;34m\u001b[0m\u001b[0m\n\u001b[1;32m      4\u001b[0m     \u001b[0;31m# print(counts,sizes)\u001b[0m\u001b[0;34m\u001b[0m\u001b[0;34m\u001b[0m\u001b[0m\n\u001b[1;32m      5\u001b[0m     \u001b[0mlm_coeffs_BMM\u001b[0m\u001b[0;34m.\u001b[0m\u001b[0mappend\u001b[0m\u001b[0;34m(\u001b[0m\u001b[0mnp\u001b[0m\u001b[0;34m.\u001b[0m\u001b[0mpolyfit\u001b[0m\u001b[0;34m(\u001b[0m\u001b[0mnp\u001b[0m\u001b[0;34m.\u001b[0m\u001b[0mlog\u001b[0m\u001b[0;34m(\u001b[0m\u001b[0mnp\u001b[0m\u001b[0;34m.\u001b[0m\u001b[0marange\u001b[0m\u001b[0;34m(\u001b[0m\u001b[0;36m1\u001b[0m\u001b[0;34m,\u001b[0m\u001b[0;36m101\u001b[0m\u001b[0;34m,\u001b[0m\u001b[0;36m10\u001b[0m\u001b[0;34m)\u001b[0m\u001b[0;34m)\u001b[0m\u001b[0;34m,\u001b[0m\u001b[0mnp\u001b[0m\u001b[0;34m.\u001b[0m\u001b[0mlog\u001b[0m\u001b[0;34m(\u001b[0m\u001b[0mcounts\u001b[0m\u001b[0;34m)\u001b[0m\u001b[0;34m,\u001b[0m\u001b[0;36m1\u001b[0m\u001b[0;34m)\u001b[0m\u001b[0;34m[\u001b[0m\u001b[0;36m0\u001b[0m\u001b[0;34m]\u001b[0m\u001b[0;34m)\u001b[0m\u001b[0;34m\u001b[0m\u001b[0;34m\u001b[0m\u001b[0m\n",
            "\u001b[0;31mTypeError\u001b[0m: list indices must be integers or slices, not str"
          ]
        }
      ]
    },
    {
      "cell_type": "markdown",
      "source": [
        "### V. Acquiring the dataset"
      ],
      "metadata": {
        "id": "rLr0jCvYCaFl"
      }
    },
    {
      "cell_type": "code",
      "source": [
        "!git clone https://github.com/pedromazim/visao.git"
      ],
      "metadata": {
        "colab": {
          "base_uri": "https://localhost:8080/"
        },
        "id": "bwZPQ15jnKra",
        "outputId": "225b72fa-6f82-4af0-a4ea-8fcdd3ca5073"
      },
      "execution_count": 6,
      "outputs": [
        {
          "output_type": "stream",
          "name": "stdout",
          "text": [
            "Cloning into 'visao'...\n",
            "remote: Enumerating objects: 511, done.\u001b[K\n",
            "remote: Counting objects: 100% (157/157), done.\u001b[K\n",
            "remote: Compressing objects: 100% (128/128), done.\u001b[K\n",
            "remote: Total 511 (delta 46), reused 28 (delta 28), pack-reused 354\u001b[K\n",
            "Receiving objects: 100% (511/511), 282.06 MiB | 18.46 MiB/s, done.\n",
            "Resolving deltas: 100% (96/96), done.\n",
            "Updating files: 100% (216/216), done.\n"
          ]
        }
      ]
    },
    {
      "cell_type": "code",
      "source": [
        "%cd visao/shapes99/\n",
        "os.getcwd()"
      ],
      "metadata": {
        "colab": {
          "base_uri": "https://localhost:8080/",
          "height": 0
        },
        "id": "_78K2BkfpY_0",
        "outputId": "91d6a48e-caf4-48d2-b954-983dbc5e4414"
      },
      "execution_count": 7,
      "outputs": [
        {
          "output_type": "stream",
          "name": "stdout",
          "text": [
            "/content/visao/shapes99\n"
          ]
        },
        {
          "output_type": "execute_result",
          "data": {
            "text/plain": [
              "'/content/visao/shapes99'"
            ],
            "application/vnd.google.colaboratory.intrinsic+json": {
              "type": "string"
            }
          },
          "metadata": {},
          "execution_count": 7
        }
      ]
    },
    {
      "cell_type": "code",
      "source": [
        "filename_list = sorted(glob(\"*.png\"))"
      ],
      "metadata": {
        "id": "1wFEfEyPw0Kx",
        "collapsed": true
      },
      "execution_count": 8,
      "outputs": []
    },
    {
      "cell_type": "markdown",
      "source": [
        "### VI. Additional measurements"
      ],
      "metadata": {
        "id": "28OfOp0Kmo_T"
      }
    },
    {
      "cell_type": "code",
      "source": [
        "def img_perimeter(filename_list):\n",
        "\n",
        "    P = []\n",
        "\n",
        "    for filename in range(len(filename_list)):\n",
        "        #print(filename)\n",
        "        img = skm.io.imread(f'https://github.com/pedromazim/visao/blob/main/shapes99/{filename_list[filename]}?raw=true')\n",
        "        img = make_square(img)\n",
        "        img = img/255.\n",
        "        img = skm.util.invert(img)\n",
        "        img = img == 1\n",
        "        img.astype('int')\n",
        "\n",
        "        p = np.argwhere(edt(img) == 1).size/2\n",
        "        P.append(p)\n",
        "\n",
        "    return P"
      ],
      "metadata": {
        "id": "UfMKKM64VwuU"
      },
      "execution_count": 74,
      "outputs": []
    },
    {
      "cell_type": "code",
      "source": [
        "def img_area(filename_list):\n",
        "\n",
        "    A = []\n",
        "\n",
        "    for filename in range(len(filename_list)):\n",
        "        #print(filename)\n",
        "        img = skm.io.imread(f'https://github.com/pedromazim/visao/blob/main/shapes99/{filename_list[filename]}?raw=true')\n",
        "        img = make_square(img)\n",
        "        img = img/255.\n",
        "        img = skm.util.invert(img)\n",
        "        img = img == 1\n",
        "        img.astype('int')\n",
        "\n",
        "        a = np.argwhere(img == 1).size/2\n",
        "        A.append(a)\n",
        "\n",
        "    return A"
      ],
      "metadata": {
        "id": "aeD3H85hex5y"
      },
      "execution_count": 75,
      "outputs": []
    },
    {
      "cell_type": "code",
      "source": [
        "def img_solidity(filename_list):\n",
        "\n",
        "    S = []\n",
        "\n",
        "    for filename in range(len(filename_list)):\n",
        "        #print(filename)\n",
        "        img = skm.io.imread(f'https://github.com/pedromazim/visao/blob/main/shapes99/{filename_list[filename]}?raw=true')\n",
        "        img = make_square(img)\n",
        "        img = img/255.\n",
        "        img = skm.util.invert(img)\n",
        "        img = img == 1\n",
        "        img.astype('int')\n",
        "\n",
        "        ch = skm.morphology.convex_hull_image(img)\n",
        "        s = np.argwhere(img==1).size/np.argwhere(ch==1).size\n",
        "        S.append(s)\n",
        "\n",
        "    return S"
      ],
      "metadata": {
        "id": "nHQhUu47fFG4"
      },
      "execution_count": 18,
      "outputs": []
    },
    {
      "cell_type": "code",
      "source": [
        "perimeter = img_perimeter(filename_list)"
      ],
      "metadata": {
        "id": "7KSSSJxbdBpA"
      },
      "execution_count": 76,
      "outputs": []
    },
    {
      "cell_type": "code",
      "source": [
        "area = img_area(filename_list)"
      ],
      "metadata": {
        "id": "tPdZbRJIeubc"
      },
      "execution_count": 77,
      "outputs": []
    },
    {
      "cell_type": "code",
      "source": [
        "solidity = img_solidity(filename_list)"
      ],
      "metadata": {
        "id": "VVLTUY3qfb_g"
      },
      "execution_count": 19,
      "outputs": []
    },
    {
      "cell_type": "markdown",
      "source": [
        "### VII. Classifying shapes by Principal Component Analysis (PCA)"
      ],
      "metadata": {
        "id": "WcAusyGXxBgv"
      }
    },
    {
      "cell_type": "code",
      "source": [
        "filenames = ['fish','fish','rabbit','animal','animal','animal','animal','animal','animal','rabbit','animal','animal','animal','fish','animal','dude','dude','dude','dude','dude','dude','dude','dude','dude','dude','dude','rabbit','plane','plane','plane','goblin','goblin','goblin','goblin','goblin','goblin','goblin','goblin','fish','fish','fish','fish','animal','hand','hand','hand','hand','hand','hand','hand','hand','hand','hand','hand','plane','plane','plane','plane','fish','ray','ray','ray','ray','ray','ray','ray','ray','ray','ray','ray','rabbit','goblin','goblin','goblin','rabbit','rabbit','rabbit','rabbit','fish','plane','plane','rabbit','plane','plane','rabbit','rabbit','fish','tool','tool','tool','tool','tool','tool','tool','tool','tool','tool','tool','fish']"
      ],
      "metadata": {
        "id": "mAva04fxxaBL"
      },
      "execution_count": 21,
      "outputs": []
    },
    {
      "cell_type": "code",
      "source": [
        "df = pd.DataFrame({'filenames':filenames, 'lm_coeffs_MRM':lm_coeffs_MRM, 'lm_coeffs_BCM':lm_coeffs_BCM, 'lm_coeffs_BMM':lm_coeffs_BMM, 'perimeter':perimeter, 'area':area, 'solidity':solidity})"
      ],
      "metadata": {
        "id": "9qiooQrfvo_o"
      },
      "execution_count": 78,
      "outputs": []
    },
    {
      "cell_type": "code",
      "source": [
        "df"
      ],
      "metadata": {
        "colab": {
          "base_uri": "https://localhost:8080/",
          "height": 424
        },
        "id": "Ejwf8Gb2v9Yu",
        "outputId": "26f10fd9-d056-46fa-e041-3d969762fb7a"
      },
      "execution_count": null,
      "outputs": [
        {
          "output_type": "execute_result",
          "data": {
            "text/plain": [
              "   filenames  lm_coeffs_BMM  perimeter    area\n",
              "0       fish       0.421867      413.0  2402.0\n",
              "1       fish       0.447382      377.0  2288.0\n",
              "2     rabbit       0.380294      346.0  3401.0\n",
              "3     animal       0.391652      539.0  2947.0\n",
              "4     animal       0.395415      545.0  3047.0\n",
              "..       ...            ...        ...     ...\n",
              "94      tool       0.792304      225.0   670.0\n",
              "95      tool       0.705712      256.0   713.0\n",
              "96      tool       0.869128      166.0   460.0\n",
              "97      tool       0.820904      201.0   551.0\n",
              "98      fish       0.540310      420.0  2237.0\n",
              "\n",
              "[99 rows x 4 columns]"
            ],
            "text/html": [
              "\n",
              "  <div id=\"df-127e3b09-014f-49af-8cfb-79778447b30b\" class=\"colab-df-container\">\n",
              "    <div>\n",
              "<style scoped>\n",
              "    .dataframe tbody tr th:only-of-type {\n",
              "        vertical-align: middle;\n",
              "    }\n",
              "\n",
              "    .dataframe tbody tr th {\n",
              "        vertical-align: top;\n",
              "    }\n",
              "\n",
              "    .dataframe thead th {\n",
              "        text-align: right;\n",
              "    }\n",
              "</style>\n",
              "<table border=\"1\" class=\"dataframe\">\n",
              "  <thead>\n",
              "    <tr style=\"text-align: right;\">\n",
              "      <th></th>\n",
              "      <th>filenames</th>\n",
              "      <th>lm_coeffs_BMM</th>\n",
              "      <th>perimeter</th>\n",
              "      <th>area</th>\n",
              "    </tr>\n",
              "  </thead>\n",
              "  <tbody>\n",
              "    <tr>\n",
              "      <th>0</th>\n",
              "      <td>fish</td>\n",
              "      <td>0.421867</td>\n",
              "      <td>413.0</td>\n",
              "      <td>2402.0</td>\n",
              "    </tr>\n",
              "    <tr>\n",
              "      <th>1</th>\n",
              "      <td>fish</td>\n",
              "      <td>0.447382</td>\n",
              "      <td>377.0</td>\n",
              "      <td>2288.0</td>\n",
              "    </tr>\n",
              "    <tr>\n",
              "      <th>2</th>\n",
              "      <td>rabbit</td>\n",
              "      <td>0.380294</td>\n",
              "      <td>346.0</td>\n",
              "      <td>3401.0</td>\n",
              "    </tr>\n",
              "    <tr>\n",
              "      <th>3</th>\n",
              "      <td>animal</td>\n",
              "      <td>0.391652</td>\n",
              "      <td>539.0</td>\n",
              "      <td>2947.0</td>\n",
              "    </tr>\n",
              "    <tr>\n",
              "      <th>4</th>\n",
              "      <td>animal</td>\n",
              "      <td>0.395415</td>\n",
              "      <td>545.0</td>\n",
              "      <td>3047.0</td>\n",
              "    </tr>\n",
              "    <tr>\n",
              "      <th>...</th>\n",
              "      <td>...</td>\n",
              "      <td>...</td>\n",
              "      <td>...</td>\n",
              "      <td>...</td>\n",
              "    </tr>\n",
              "    <tr>\n",
              "      <th>94</th>\n",
              "      <td>tool</td>\n",
              "      <td>0.792304</td>\n",
              "      <td>225.0</td>\n",
              "      <td>670.0</td>\n",
              "    </tr>\n",
              "    <tr>\n",
              "      <th>95</th>\n",
              "      <td>tool</td>\n",
              "      <td>0.705712</td>\n",
              "      <td>256.0</td>\n",
              "      <td>713.0</td>\n",
              "    </tr>\n",
              "    <tr>\n",
              "      <th>96</th>\n",
              "      <td>tool</td>\n",
              "      <td>0.869128</td>\n",
              "      <td>166.0</td>\n",
              "      <td>460.0</td>\n",
              "    </tr>\n",
              "    <tr>\n",
              "      <th>97</th>\n",
              "      <td>tool</td>\n",
              "      <td>0.820904</td>\n",
              "      <td>201.0</td>\n",
              "      <td>551.0</td>\n",
              "    </tr>\n",
              "    <tr>\n",
              "      <th>98</th>\n",
              "      <td>fish</td>\n",
              "      <td>0.540310</td>\n",
              "      <td>420.0</td>\n",
              "      <td>2237.0</td>\n",
              "    </tr>\n",
              "  </tbody>\n",
              "</table>\n",
              "<p>99 rows × 4 columns</p>\n",
              "</div>\n",
              "    <div class=\"colab-df-buttons\">\n",
              "\n",
              "  <div class=\"colab-df-container\">\n",
              "    <button class=\"colab-df-convert\" onclick=\"convertToInteractive('df-127e3b09-014f-49af-8cfb-79778447b30b')\"\n",
              "            title=\"Convert this dataframe to an interactive table.\"\n",
              "            style=\"display:none;\">\n",
              "\n",
              "  <svg xmlns=\"http://www.w3.org/2000/svg\" height=\"24px\" viewBox=\"0 -960 960 960\">\n",
              "    <path d=\"M120-120v-720h720v720H120Zm60-500h600v-160H180v160Zm220 220h160v-160H400v160Zm0 220h160v-160H400v160ZM180-400h160v-160H180v160Zm440 0h160v-160H620v160ZM180-180h160v-160H180v160Zm440 0h160v-160H620v160Z\"/>\n",
              "  </svg>\n",
              "    </button>\n",
              "\n",
              "  <style>\n",
              "    .colab-df-container {\n",
              "      display:flex;\n",
              "      gap: 12px;\n",
              "    }\n",
              "\n",
              "    .colab-df-convert {\n",
              "      background-color: #E8F0FE;\n",
              "      border: none;\n",
              "      border-radius: 50%;\n",
              "      cursor: pointer;\n",
              "      display: none;\n",
              "      fill: #1967D2;\n",
              "      height: 32px;\n",
              "      padding: 0 0 0 0;\n",
              "      width: 32px;\n",
              "    }\n",
              "\n",
              "    .colab-df-convert:hover {\n",
              "      background-color: #E2EBFA;\n",
              "      box-shadow: 0px 1px 2px rgba(60, 64, 67, 0.3), 0px 1px 3px 1px rgba(60, 64, 67, 0.15);\n",
              "      fill: #174EA6;\n",
              "    }\n",
              "\n",
              "    .colab-df-buttons div {\n",
              "      margin-bottom: 4px;\n",
              "    }\n",
              "\n",
              "    [theme=dark] .colab-df-convert {\n",
              "      background-color: #3B4455;\n",
              "      fill: #D2E3FC;\n",
              "    }\n",
              "\n",
              "    [theme=dark] .colab-df-convert:hover {\n",
              "      background-color: #434B5C;\n",
              "      box-shadow: 0px 1px 3px 1px rgba(0, 0, 0, 0.15);\n",
              "      filter: drop-shadow(0px 1px 2px rgba(0, 0, 0, 0.3));\n",
              "      fill: #FFFFFF;\n",
              "    }\n",
              "  </style>\n",
              "\n",
              "    <script>\n",
              "      const buttonEl =\n",
              "        document.querySelector('#df-127e3b09-014f-49af-8cfb-79778447b30b button.colab-df-convert');\n",
              "      buttonEl.style.display =\n",
              "        google.colab.kernel.accessAllowed ? 'block' : 'none';\n",
              "\n",
              "      async function convertToInteractive(key) {\n",
              "        const element = document.querySelector('#df-127e3b09-014f-49af-8cfb-79778447b30b');\n",
              "        const dataTable =\n",
              "          await google.colab.kernel.invokeFunction('convertToInteractive',\n",
              "                                                    [key], {});\n",
              "        if (!dataTable) return;\n",
              "\n",
              "        const docLinkHtml = 'Like what you see? Visit the ' +\n",
              "          '<a target=\"_blank\" href=https://colab.research.google.com/notebooks/data_table.ipynb>data table notebook</a>'\n",
              "          + ' to learn more about interactive tables.';\n",
              "        element.innerHTML = '';\n",
              "        dataTable['output_type'] = 'display_data';\n",
              "        await google.colab.output.renderOutput(dataTable, element);\n",
              "        const docLink = document.createElement('div');\n",
              "        docLink.innerHTML = docLinkHtml;\n",
              "        element.appendChild(docLink);\n",
              "      }\n",
              "    </script>\n",
              "  </div>\n",
              "\n",
              "\n",
              "<div id=\"df-99695094-d106-4867-b23e-fe86945f7eba\">\n",
              "  <button class=\"colab-df-quickchart\" onclick=\"quickchart('df-99695094-d106-4867-b23e-fe86945f7eba')\"\n",
              "            title=\"Suggest charts\"\n",
              "            style=\"display:none;\">\n",
              "\n",
              "<svg xmlns=\"http://www.w3.org/2000/svg\" height=\"24px\"viewBox=\"0 0 24 24\"\n",
              "     width=\"24px\">\n",
              "    <g>\n",
              "        <path d=\"M19 3H5c-1.1 0-2 .9-2 2v14c0 1.1.9 2 2 2h14c1.1 0 2-.9 2-2V5c0-1.1-.9-2-2-2zM9 17H7v-7h2v7zm4 0h-2V7h2v10zm4 0h-2v-4h2v4z\"/>\n",
              "    </g>\n",
              "</svg>\n",
              "  </button>\n",
              "\n",
              "<style>\n",
              "  .colab-df-quickchart {\n",
              "      --bg-color: #E8F0FE;\n",
              "      --fill-color: #1967D2;\n",
              "      --hover-bg-color: #E2EBFA;\n",
              "      --hover-fill-color: #174EA6;\n",
              "      --disabled-fill-color: #AAA;\n",
              "      --disabled-bg-color: #DDD;\n",
              "  }\n",
              "\n",
              "  [theme=dark] .colab-df-quickchart {\n",
              "      --bg-color: #3B4455;\n",
              "      --fill-color: #D2E3FC;\n",
              "      --hover-bg-color: #434B5C;\n",
              "      --hover-fill-color: #FFFFFF;\n",
              "      --disabled-bg-color: #3B4455;\n",
              "      --disabled-fill-color: #666;\n",
              "  }\n",
              "\n",
              "  .colab-df-quickchart {\n",
              "    background-color: var(--bg-color);\n",
              "    border: none;\n",
              "    border-radius: 50%;\n",
              "    cursor: pointer;\n",
              "    display: none;\n",
              "    fill: var(--fill-color);\n",
              "    height: 32px;\n",
              "    padding: 0;\n",
              "    width: 32px;\n",
              "  }\n",
              "\n",
              "  .colab-df-quickchart:hover {\n",
              "    background-color: var(--hover-bg-color);\n",
              "    box-shadow: 0 1px 2px rgba(60, 64, 67, 0.3), 0 1px 3px 1px rgba(60, 64, 67, 0.15);\n",
              "    fill: var(--button-hover-fill-color);\n",
              "  }\n",
              "\n",
              "  .colab-df-quickchart-complete:disabled,\n",
              "  .colab-df-quickchart-complete:disabled:hover {\n",
              "    background-color: var(--disabled-bg-color);\n",
              "    fill: var(--disabled-fill-color);\n",
              "    box-shadow: none;\n",
              "  }\n",
              "\n",
              "  .colab-df-spinner {\n",
              "    border: 2px solid var(--fill-color);\n",
              "    border-color: transparent;\n",
              "    border-bottom-color: var(--fill-color);\n",
              "    animation:\n",
              "      spin 1s steps(1) infinite;\n",
              "  }\n",
              "\n",
              "  @keyframes spin {\n",
              "    0% {\n",
              "      border-color: transparent;\n",
              "      border-bottom-color: var(--fill-color);\n",
              "      border-left-color: var(--fill-color);\n",
              "    }\n",
              "    20% {\n",
              "      border-color: transparent;\n",
              "      border-left-color: var(--fill-color);\n",
              "      border-top-color: var(--fill-color);\n",
              "    }\n",
              "    30% {\n",
              "      border-color: transparent;\n",
              "      border-left-color: var(--fill-color);\n",
              "      border-top-color: var(--fill-color);\n",
              "      border-right-color: var(--fill-color);\n",
              "    }\n",
              "    40% {\n",
              "      border-color: transparent;\n",
              "      border-right-color: var(--fill-color);\n",
              "      border-top-color: var(--fill-color);\n",
              "    }\n",
              "    60% {\n",
              "      border-color: transparent;\n",
              "      border-right-color: var(--fill-color);\n",
              "    }\n",
              "    80% {\n",
              "      border-color: transparent;\n",
              "      border-right-color: var(--fill-color);\n",
              "      border-bottom-color: var(--fill-color);\n",
              "    }\n",
              "    90% {\n",
              "      border-color: transparent;\n",
              "      border-bottom-color: var(--fill-color);\n",
              "    }\n",
              "  }\n",
              "</style>\n",
              "\n",
              "  <script>\n",
              "    async function quickchart(key) {\n",
              "      const quickchartButtonEl =\n",
              "        document.querySelector('#' + key + ' button');\n",
              "      quickchartButtonEl.disabled = true;  // To prevent multiple clicks.\n",
              "      quickchartButtonEl.classList.add('colab-df-spinner');\n",
              "      try {\n",
              "        const charts = await google.colab.kernel.invokeFunction(\n",
              "            'suggestCharts', [key], {});\n",
              "      } catch (error) {\n",
              "        console.error('Error during call to suggestCharts:', error);\n",
              "      }\n",
              "      quickchartButtonEl.classList.remove('colab-df-spinner');\n",
              "      quickchartButtonEl.classList.add('colab-df-quickchart-complete');\n",
              "    }\n",
              "    (() => {\n",
              "      let quickchartButtonEl =\n",
              "        document.querySelector('#df-99695094-d106-4867-b23e-fe86945f7eba button');\n",
              "      quickchartButtonEl.style.display =\n",
              "        google.colab.kernel.accessAllowed ? 'block' : 'none';\n",
              "    })();\n",
              "  </script>\n",
              "</div>\n",
              "\n",
              "  <div id=\"id_f207b1dc-154a-4455-89ad-ddba3838819a\">\n",
              "    <style>\n",
              "      .colab-df-generate {\n",
              "        background-color: #E8F0FE;\n",
              "        border: none;\n",
              "        border-radius: 50%;\n",
              "        cursor: pointer;\n",
              "        display: none;\n",
              "        fill: #1967D2;\n",
              "        height: 32px;\n",
              "        padding: 0 0 0 0;\n",
              "        width: 32px;\n",
              "      }\n",
              "\n",
              "      .colab-df-generate:hover {\n",
              "        background-color: #E2EBFA;\n",
              "        box-shadow: 0px 1px 2px rgba(60, 64, 67, 0.3), 0px 1px 3px 1px rgba(60, 64, 67, 0.15);\n",
              "        fill: #174EA6;\n",
              "      }\n",
              "\n",
              "      [theme=dark] .colab-df-generate {\n",
              "        background-color: #3B4455;\n",
              "        fill: #D2E3FC;\n",
              "      }\n",
              "\n",
              "      [theme=dark] .colab-df-generate:hover {\n",
              "        background-color: #434B5C;\n",
              "        box-shadow: 0px 1px 3px 1px rgba(0, 0, 0, 0.15);\n",
              "        filter: drop-shadow(0px 1px 2px rgba(0, 0, 0, 0.3));\n",
              "        fill: #FFFFFF;\n",
              "      }\n",
              "    </style>\n",
              "    <button class=\"colab-df-generate\" onclick=\"generateWithVariable('df')\"\n",
              "            title=\"Generate code using this dataframe.\"\n",
              "            style=\"display:none;\">\n",
              "\n",
              "  <svg xmlns=\"http://www.w3.org/2000/svg\" height=\"24px\"viewBox=\"0 0 24 24\"\n",
              "       width=\"24px\">\n",
              "    <path d=\"M7,19H8.4L18.45,9,17,7.55,7,17.6ZM5,21V16.75L18.45,3.32a2,2,0,0,1,2.83,0l1.4,1.43a1.91,1.91,0,0,1,.58,1.4,1.91,1.91,0,0,1-.58,1.4L9.25,21ZM18.45,9,17,7.55Zm-12,3A5.31,5.31,0,0,0,4.9,8.1,5.31,5.31,0,0,0,1,6.5,5.31,5.31,0,0,0,4.9,4.9,5.31,5.31,0,0,0,6.5,1,5.31,5.31,0,0,0,8.1,4.9,5.31,5.31,0,0,0,12,6.5,5.46,5.46,0,0,0,6.5,12Z\"/>\n",
              "  </svg>\n",
              "    </button>\n",
              "    <script>\n",
              "      (() => {\n",
              "      const buttonEl =\n",
              "        document.querySelector('#id_f207b1dc-154a-4455-89ad-ddba3838819a button.colab-df-generate');\n",
              "      buttonEl.style.display =\n",
              "        google.colab.kernel.accessAllowed ? 'block' : 'none';\n",
              "\n",
              "      buttonEl.onclick = () => {\n",
              "        google.colab.notebook.generateWithVariable('df');\n",
              "      }\n",
              "      })();\n",
              "    </script>\n",
              "  </div>\n",
              "\n",
              "    </div>\n",
              "  </div>\n"
            ],
            "application/vnd.google.colaboratory.intrinsic+json": {
              "type": "dataframe",
              "variable_name": "df",
              "summary": "{\n  \"name\": \"df\",\n  \"rows\": 99,\n  \"fields\": [\n    {\n      \"column\": \"filenames\",\n      \"properties\": {\n        \"dtype\": \"category\",\n        \"num_unique_values\": 9,\n        \"samples\": [\n          \"ray\",\n          \"rabbit\",\n          \"goblin\"\n        ],\n        \"semantic_type\": \"\",\n        \"description\": \"\"\n      }\n    },\n    {\n      \"column\": \"lm_coeffs_BMM\",\n      \"properties\": {\n        \"dtype\": \"number\",\n        \"std\": 0.15321374638488644,\n        \"min\": 0.2127115904199819,\n        \"max\": 0.8691284458465502,\n        \"num_unique_values\": 99,\n        \"samples\": [\n          0.3644134749384036,\n          0.5864993732265622,\n          0.7057124753913024\n        ],\n        \"semantic_type\": \"\",\n        \"description\": \"\"\n      }\n    },\n    {\n      \"column\": \"perimeter\",\n      \"properties\": {\n        \"dtype\": \"number\",\n        \"std\": 150.07823425340283,\n        \"min\": 166.0,\n        \"max\": 893.0,\n        \"num_unique_values\": 84,\n        \"samples\": [\n          237.0,\n          413.0,\n          435.0\n        ],\n        \"semantic_type\": \"\",\n        \"description\": \"\"\n      }\n    },\n    {\n      \"column\": \"area\",\n      \"properties\": {\n        \"dtype\": \"number\",\n        \"std\": 1472.8127342731202,\n        \"min\": 460.0,\n        \"max\": 8011.0,\n        \"num_unique_values\": 97,\n        \"samples\": [\n          3730.0,\n          1992.0,\n          713.0\n        ],\n        \"semantic_type\": \"\",\n        \"description\": \"\"\n      }\n    }\n  ]\n}"
            }
          },
          "metadata": {},
          "execution_count": 52
        }
      ]
    },
    {
      "cell_type": "code",
      "source": [
        "targets = ['tool', 'dude', 'fish' , 'rabbit', 'ray', 'animal', 'plane', 'hand', 'goblin']\n",
        "features = ['lm_coeffs_BMM', 'solidity']\n",
        "\n",
        "# Separating out the features\n",
        "x = df.loc[:, features].values\n",
        "\n",
        "# Separating out the target\n",
        "y = df.loc[:,['filenames']].values\n",
        "\n",
        "# Standardizing the features\n",
        "x = StandardScaler().fit_transform(x)\n",
        "\n",
        "pca = PCA(n_components=2)\n",
        "\n",
        "principalComponents = pca.fit_transform(x)\n",
        "\n",
        "principalDf = pd.DataFrame(data = principalComponents\n",
        "             , columns = ['principal component 1', 'principal component 2'])\n",
        "\n",
        "finalDf = pd.concat([principalDf, df[['filenames']]], axis = 1)\n",
        "\n",
        "fig = pt.figure(figsize = (8,8))\n",
        "ax = fig.add_subplot(1,1,1)\n",
        "ax.set_xlabel('Principal Component 1', fontsize = 15)\n",
        "ax.set_ylabel('Principal Component 2', fontsize = 15)\n",
        "ax.set_title('2 component PCA', fontsize = 20)\n",
        "\n",
        "targets = ['tool', 'dude', 'fish' , 'rabbit', 'ray', 'animal', 'plane', 'hand', 'goblin']\n",
        "colors = ['r', 'g', 'b', 'k', 'orange', 'm', 'c', 'y', 'gray']\n",
        "for target, color in zip(targets,colors):\n",
        "    indicesToKeep = finalDf['filenames'] == target\n",
        "    ax.scatter(finalDf.loc[indicesToKeep, 'principal component 1']\n",
        "               , finalDf.loc[indicesToKeep, 'principal component 2']\n",
        "               , c = color\n",
        "               , s = 50)\n",
        "ax.legend(targets)\n",
        "ax.grid()\n",
        "\n",
        "pt.savefig('PCA_test_bmm_3.png', dpi=300)\n",
        "pt.show()"
      ],
      "metadata": {
        "id": "_ZQiiYJTCGPh",
        "colab": {
          "base_uri": "https://localhost:8080/",
          "height": 732
        },
        "outputId": "19378390-202a-4b13-bc39-f45d4b8433bb"
      },
      "execution_count": 82,
      "outputs": [
        {
          "output_type": "display_data",
          "data": {
            "text/plain": [
              "<Figure size 800x800 with 1 Axes>"
            ],
            "image/png": "[encoded data removed]"
          },
          "metadata": {}
        }
      ]
    }
  ]
}