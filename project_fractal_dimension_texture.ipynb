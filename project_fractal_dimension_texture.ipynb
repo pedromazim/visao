{
  "nbformat": 4,
  "nbformat_minor": 0,
  "metadata": {
    "colab": {
      "provenance": [],
      "authorship_tag": "ABX9TyMecEn5pXvq3fiajPytcpFc",
      "include_colab_link": true
    },
    "kernelspec": {
      "name": "python3",
      "display_name": "Python 3"
    },
    "language_info": {
      "name": "python"
    }
  },
  "cells": [
    {
      "cell_type": "markdown",
      "metadata": {
        "id": "view-in-github",
        "colab_type": "text"
      },
      "source": [
        "<a href=\"https://colab.research.google.com/github/pedromazim/visao/blob/main/project_fractal_dimension_texture.ipynb\" target=\"_parent\"><img src=\"https://colab.research.google.com/assets/colab-badge.svg\" alt=\"Open In Colab\"/></a>"
      ]
    },
    {
      "cell_type": "code",
      "execution_count": 21,
      "metadata": {
        "id": "gu4g013FYs2K"
      },
      "outputs": [],
      "source": [
        "import numpy as np\n",
        "import skimage as skm\n",
        "import matplotlib.pyplot as pt\n",
        "import matplotlib.colors as cm\n",
        "#import porespy as ps\n",
        "from numba import jit"
      ]
    },
    {
      "cell_type": "code",
      "source": [
        "def make_gray(img, weights):\n",
        "\n",
        "    '''\n",
        "    converts an colored RGB image to grayscale\n",
        "\n",
        "    img : image to be converted\n",
        "    weights : list or array containing the relative weights of red, blue and green for conversion\n",
        "\n",
        "    '''\n",
        "\n",
        "    if len(img.shape) == 3:\n",
        "\n",
        "        img_recol = np.zeros((img.shape[0],img.shape[1]))\n",
        "\n",
        "        for i in range(img.shape[0]):\n",
        "            for j in range(img.shape[1]):\n",
        "                    img_recol[i,j] = weights[0]*img[i,j,0] + weights[1]*img[i,j,1] + weights[2]*img[i,j,2]\n",
        "\n",
        "        return img_recol\n",
        "    else:\n",
        "        return img\n",
        "\n",
        "def histogram(img):\n",
        "\n",
        "    '''\n",
        "    returns the histogram of a grayscale image\n",
        "\n",
        "    img: input image\n",
        "    '''\n",
        "\n",
        "    bins = np.arange(256)\n",
        "    counts = np.zeros_like(bins)\n",
        "\n",
        "    for b in bins:\n",
        "        counts[b] = np.where(img==b)[0].size\n",
        "\n",
        "    return counts\n",
        "\n",
        "def cdf_histogram(img):\n",
        "\n",
        "    '''\n",
        "    returns the cummulative histogram of a grayscale image\n",
        "\n",
        "    img: input image\n",
        "    '''\n",
        "\n",
        "    bins = np.arange(256)\n",
        "    counts = histogram(img)\n",
        "    cdf_counts = np.zeros_like(counts)\n",
        "\n",
        "    for b in bins:\n",
        "        cdf_counts[b] = np.sum(counts[0:b])/(img.size)\n",
        "\n",
        "    return cdf_counts\n",
        "\n",
        "def otsu_thresholding(img):\n",
        "    img = img.flatten()\n",
        "    hist = histogram(img)\n",
        "    cdf = cdf_histogram(hist)\n",
        "    mean_gray = np.mean(img)\n",
        "    var = np.zeros_like(hist)\n",
        "\n",
        "    for t in range(256):\n",
        "        # computing class probability (background and foreground)\n",
        "        pb = img[img<t].size\n",
        "        wb = pb/img.size\n",
        "        wf = 1-wb\n",
        "\n",
        "        if wb != 0 and wb != 1:\n",
        "            mb = np.sum(img[img<t])/pb\n",
        "            mf = np.sum(img[img>=t])/(img.size-pb)\n",
        "\n",
        "            vb = np.sum((img[img<t]-mb)**2)/pb\n",
        "            vf = np.sum((img[img>=t]-mf)**2)/(img.size-pb)\n",
        "\n",
        "        elif wb == 1:\n",
        "            continue\n",
        "        else:\n",
        "            continue\n",
        "\n",
        "        var[t] = wb*vb + wf*vf\n",
        "    count = 0\n",
        "    for v in var:\n",
        "        if v != 0:\n",
        "            break\n",
        "        else:\n",
        "            count+=1\n",
        "        #print(wb,vb, wf,vf, var[t])\n",
        "    threshold = np.argmin(var[np.nonzero(var)]) + count\n",
        "\n",
        "    return threshold"
      ],
      "metadata": {
        "id": "93ad0GHNeyhi"
      },
      "execution_count": 22,
      "outputs": []
    },
    {
      "cell_type": "code",
      "source": [
        "img = skm.io.imread('https://github.com/pedromazim/visao/blob/main/images/frac1-1.png?raw=true')[:,:,:3]"
      ],
      "metadata": {
        "id": "NTGGP2NCY6YT"
      },
      "execution_count": 23,
      "outputs": []
    },
    {
      "cell_type": "code",
      "source": [
        "img = make_gray(img,[1/3,1/3,1/3])"
      ],
      "metadata": {
        "id": "V_deBfWVh1D1"
      },
      "execution_count": 24,
      "outputs": []
    },
    {
      "cell_type": "code",
      "source": [
        "thd = otsu_thresholding(img)"
      ],
      "metadata": {
        "id": "U5_UGDTHjA5i",
        "colab": {
          "base_uri": "https://localhost:8080/",
          "height": 287
        },
        "outputId": "1e853ec3-8271-49d4-9dae-2dd0501ff17b"
      },
      "execution_count": 9,
      "outputs": [
        {
          "output_type": "error",
          "ename": "ValueError",
          "evalue": "attempt to get argmin of an empty sequence",
          "traceback": [
            "\u001b[0;31m---------------------------------------------------------------------------\u001b[0m",
            "\u001b[0;31mValueError\u001b[0m                                Traceback (most recent call last)",
            "\u001b[0;32m<ipython-input-9-65e12276938e>\u001b[0m in \u001b[0;36m<cell line: 1>\u001b[0;34m()\u001b[0m\n\u001b[0;32m----> 1\u001b[0;31m \u001b[0mthd\u001b[0m \u001b[0;34m=\u001b[0m \u001b[0motsu_thresholding\u001b[0m\u001b[0;34m(\u001b[0m\u001b[0mimg\u001b[0m\u001b[0;34m)\u001b[0m\u001b[0;34m\u001b[0m\u001b[0;34m\u001b[0m\u001b[0m\n\u001b[0m",
            "\u001b[0;32m<ipython-input-5-1bebf795303c>\u001b[0m in \u001b[0;36motsu_thresholding\u001b[0;34m(img)\u001b[0m\n\u001b[1;32m     87\u001b[0m             \u001b[0mcount\u001b[0m\u001b[0;34m+=\u001b[0m\u001b[0;36m1\u001b[0m\u001b[0;34m\u001b[0m\u001b[0;34m\u001b[0m\u001b[0m\n\u001b[1;32m     88\u001b[0m         \u001b[0;31m#print(wb,vb, wf,vf, var[t])\u001b[0m\u001b[0;34m\u001b[0m\u001b[0;34m\u001b[0m\u001b[0m\n\u001b[0;32m---> 89\u001b[0;31m     \u001b[0mthreshold\u001b[0m \u001b[0;34m=\u001b[0m \u001b[0mnp\u001b[0m\u001b[0;34m.\u001b[0m\u001b[0margmin\u001b[0m\u001b[0;34m(\u001b[0m\u001b[0mvar\u001b[0m\u001b[0;34m[\u001b[0m\u001b[0mnp\u001b[0m\u001b[0;34m.\u001b[0m\u001b[0mnonzero\u001b[0m\u001b[0;34m(\u001b[0m\u001b[0mvar\u001b[0m\u001b[0;34m)\u001b[0m\u001b[0;34m]\u001b[0m\u001b[0;34m)\u001b[0m \u001b[0;34m+\u001b[0m \u001b[0mcount\u001b[0m\u001b[0;34m\u001b[0m\u001b[0;34m\u001b[0m\u001b[0m\n\u001b[0m\u001b[1;32m     90\u001b[0m \u001b[0;34m\u001b[0m\u001b[0m\n\u001b[1;32m     91\u001b[0m     \u001b[0;32mreturn\u001b[0m \u001b[0mthreshold\u001b[0m\u001b[0;34m\u001b[0m\u001b[0;34m\u001b[0m\u001b[0m\n",
            "\u001b[0;32m/usr/local/lib/python3.10/dist-packages/numpy/core/fromnumeric.py\u001b[0m in \u001b[0;36margmin\u001b[0;34m(a, axis, out, keepdims)\u001b[0m\n\u001b[1;32m   1323\u001b[0m     \"\"\"\n\u001b[1;32m   1324\u001b[0m     \u001b[0mkwds\u001b[0m \u001b[0;34m=\u001b[0m \u001b[0;34m{\u001b[0m\u001b[0;34m'keepdims'\u001b[0m\u001b[0;34m:\u001b[0m \u001b[0mkeepdims\u001b[0m\u001b[0;34m}\u001b[0m \u001b[0;32mif\u001b[0m \u001b[0mkeepdims\u001b[0m \u001b[0;32mis\u001b[0m \u001b[0;32mnot\u001b[0m \u001b[0mnp\u001b[0m\u001b[0;34m.\u001b[0m\u001b[0m_NoValue\u001b[0m \u001b[0;32melse\u001b[0m \u001b[0;34m{\u001b[0m\u001b[0;34m}\u001b[0m\u001b[0;34m\u001b[0m\u001b[0;34m\u001b[0m\u001b[0m\n\u001b[0;32m-> 1325\u001b[0;31m     \u001b[0;32mreturn\u001b[0m \u001b[0m_wrapfunc\u001b[0m\u001b[0;34m(\u001b[0m\u001b[0ma\u001b[0m\u001b[0;34m,\u001b[0m \u001b[0;34m'argmin'\u001b[0m\u001b[0;34m,\u001b[0m \u001b[0maxis\u001b[0m\u001b[0;34m=\u001b[0m\u001b[0maxis\u001b[0m\u001b[0;34m,\u001b[0m \u001b[0mout\u001b[0m\u001b[0;34m=\u001b[0m\u001b[0mout\u001b[0m\u001b[0;34m,\u001b[0m \u001b[0;34m**\u001b[0m\u001b[0mkwds\u001b[0m\u001b[0;34m)\u001b[0m\u001b[0;34m\u001b[0m\u001b[0;34m\u001b[0m\u001b[0m\n\u001b[0m\u001b[1;32m   1326\u001b[0m \u001b[0;34m\u001b[0m\u001b[0m\n\u001b[1;32m   1327\u001b[0m \u001b[0;34m\u001b[0m\u001b[0m\n",
            "\u001b[0;32m/usr/local/lib/python3.10/dist-packages/numpy/core/fromnumeric.py\u001b[0m in \u001b[0;36m_wrapfunc\u001b[0;34m(obj, method, *args, **kwds)\u001b[0m\n\u001b[1;32m     57\u001b[0m \u001b[0;34m\u001b[0m\u001b[0m\n\u001b[1;32m     58\u001b[0m     \u001b[0;32mtry\u001b[0m\u001b[0;34m:\u001b[0m\u001b[0;34m\u001b[0m\u001b[0;34m\u001b[0m\u001b[0m\n\u001b[0;32m---> 59\u001b[0;31m         \u001b[0;32mreturn\u001b[0m \u001b[0mbound\u001b[0m\u001b[0;34m(\u001b[0m\u001b[0;34m*\u001b[0m\u001b[0margs\u001b[0m\u001b[0;34m,\u001b[0m \u001b[0;34m**\u001b[0m\u001b[0mkwds\u001b[0m\u001b[0;34m)\u001b[0m\u001b[0;34m\u001b[0m\u001b[0;34m\u001b[0m\u001b[0m\n\u001b[0m\u001b[1;32m     60\u001b[0m     \u001b[0;32mexcept\u001b[0m \u001b[0mTypeError\u001b[0m\u001b[0;34m:\u001b[0m\u001b[0;34m\u001b[0m\u001b[0;34m\u001b[0m\u001b[0m\n\u001b[1;32m     61\u001b[0m         \u001b[0;31m# A TypeError occurs if the object does have such a method in its\u001b[0m\u001b[0;34m\u001b[0m\u001b[0;34m\u001b[0m\u001b[0m\n",
            "\u001b[0;31mValueError\u001b[0m: attempt to get argmin of an empty sequence"
          ]
        }
      ]
    },
    {
      "cell_type": "code",
      "source": [
        "test = img < thd"
      ],
      "metadata": {
        "id": "lf-0_ArafH5n"
      },
      "execution_count": null,
      "outputs": []
    },
    {
      "cell_type": "code",
      "source": [
        "img = img < 100"
      ],
      "metadata": {
        "id": "W2O8mSEPfHb6"
      },
      "execution_count": 25,
      "outputs": []
    },
    {
      "cell_type": "code",
      "source": [
        "pt.imshow(img, cmap='gray')\n",
        "pt.axis('off')"
      ],
      "metadata": {
        "colab": {
          "base_uri": "https://localhost:8080/",
          "height": 423
        },
        "id": "jePU0frafV2t",
        "outputId": "61405e75-bf6d-434a-9c1d-8301415b5b9b"
      },
      "execution_count": 26,
      "outputs": [
        {
          "output_type": "execute_result",
          "data": {
            "text/plain": [
              "(-0.5, 431.5, 431.5, -0.5)"
            ]
          },
          "metadata": {},
          "execution_count": 26
        },
        {
          "output_type": "display_data",
          "data": {
            "text/plain": [
              "<Figure size 640x480 with 1 Axes>"
            ],
            "image/png": "[encoded data removed]"
          },
          "metadata": {}
        }
      ]
    },
    {
      "cell_type": "markdown",
      "source": [
        "### Box-counting method"
      ],
      "metadata": {
        "id": "oqBDOicn1lNC"
      }
    },
    {
      "cell_type": "code",
      "source": [
        "def bcm(img, res):\n",
        "    grid = np.zeros_like(img)\n",
        "    h, w = img.shape\n",
        "    sizes = []\n",
        "    counts = []\n",
        "\n",
        "    for i in range(res):# divide squares each loop\n",
        "        L = 2**(i)\n",
        "        sizes.append(h/L)\n",
        "        counter = 0\n",
        "        for m in range(L):# loop for height\n",
        "            for n in range(L):#loop for width\n",
        "                if img[int(m*h/L):int((m+1)*h/L),int(n*w/L):int((n+1)*w/L)].any() == 1:\n",
        "                    counter += 1\n",
        "        counts.append(counter)\n",
        "    return sizes, counts"
      ],
      "metadata": {
        "id": "9m61KRU7nOWS"
      },
      "execution_count": 65,
      "outputs": []
    },
    {
      "cell_type": "code",
      "source": [
        "# guardamos o numero de caixas que contem uma parte da imagem\n",
        "# em função do tamanho da caixa\n",
        "squares = bcm(img, 10)\n",
        "coeffs = np.polyfit(np.log(squares[0]),np.log(squares[1]),1)"
      ],
      "metadata": {
        "id": "k9H5GJFZyiRb"
      },
      "execution_count": 66,
      "outputs": []
    },
    {
      "cell_type": "code",
      "source": [
        "pt.scatter(squares[0], squares[1])\n",
        "#pt.plot(np.log(squares[0]), np.poly1d(coeffs)(squares[0]))\n",
        "pt.xscale('log')\n",
        "pt.yscale('log')"
      ],
      "metadata": {
        "colab": {
          "base_uri": "https://localhost:8080/",
          "height": 434
        },
        "id": "SQIuLWtfaY3C",
        "outputId": "9c356623-e871-4614-80aa-15d95ce7384e"
      },
      "execution_count": 26,
      "outputs": [
        {
          "output_type": "display_data",
          "data": {
            "text/plain": [
              "<Figure size 640x480 with 1 Axes>"
            ],
            "image/png": "[encoded data removed]"
          },
          "metadata": {}
        }
      ]
    },
    {
      "cell_type": "markdown",
      "source": [
        "### Bouligand-Minkowsky method\n",
        "Input is a binary image\\\n",
        "Step 1: Obtain the edge pixels by euclidean distance transform (EDT)\\\n",
        "Step 2: Set a disk of radius r and count every pixel under its influence area;\\\n",
        "Step 3: Repeat for every edge pixel;\\\n",
        "Step 4: Repeat for many r values;\\\n",
        "Step 5: Obtain FD by linearization of A(r) x r."
      ],
      "metadata": {
        "id": "ax8qRpKB1tol"
      }
    },
    {
      "cell_type": "code",
      "source": [
        "@jit(nopython=True, looplift=True)\n",
        "def edt(img):# euclidean distance from foreground to background pixels\n",
        "    img = img.astype('int')\n",
        "    h, w = img.shape\n",
        "    d = np.zeros((h,w))\n",
        "    for y in range(h):\n",
        "        for x in range(w):\n",
        "            if img[x,y] == 1:\n",
        "                flag = True\n",
        "                r = 1\n",
        "                while flag:\n",
        "                    nb = img[x-r:x+r+1,y-r:y+r+1]\n",
        "                    if np.flatnonzero(nb).size != nb.size:\n",
        "                        d[x,y] = r\n",
        "                        flag = False\n",
        "                    else:\n",
        "                        r += 1\n",
        "    return d\n",
        "\n",
        "@jit(nopython=True, looplift=True)\n",
        "def distance(img, x0, y0):# distance from all pixels to a specific one\n",
        "    img = img.astype('int')\n",
        "    h, w = img.shape\n",
        "    dist = np.zeros_like(img)\n",
        "    for y in range(h):\n",
        "        for x in range(w):\n",
        "            dist[x,y] = np.sqrt((x-x0)**2+(y-y0)**2)\n",
        "    return dist\n",
        "\n",
        "@jit(nopython=False, looplift=True)\n",
        "def bmm(img, R):\n",
        "\n",
        "    img = img.astype('int')\n",
        "\n",
        "    dt = edt(img)\n",
        "    edge = np.argwhere(dt==1)\n",
        "    counts = []\n",
        "    for r in range(1,R+1):# calculates influence area for multiple r values\n",
        "        print(r)\n",
        "        c = 0\n",
        "        for px in edge:\n",
        "            A_r = np.flatnonzero(np.where(distance(img, px[0],px[1]) <= r))\n",
        "            c += A_r.size\n",
        "        counts.append(c)\n",
        "\n",
        "    return np.arange(R+1), counts"
      ],
      "metadata": {
        "colab": {
          "base_uri": "https://localhost:8080/"
        },
        "id": "zKF-4IDCyzw2",
        "outputId": "bac84cc5-6bf9-4745-cb20-137ad7bde2a5"
      },
      "execution_count": 52,
      "outputs": [
        {
          "output_type": "stream",
          "name": "stderr",
          "text": [
            "<ipython-input-52-f3177cc6e766>:30: NumbaDeprecationWarning: The keyword argument 'nopython=False' was supplied. From Numba 0.59.0 the default is being changed to True and use of 'nopython=False' will raise a warning as the argument will have no effect. See https://numba.readthedocs.io/en/stable/reference/deprecation.html#deprecation-of-object-mode-fall-back-behaviour-when-using-jit for details.\n",
            "  @jit(nopython=False, looplift=True)\n"
          ]
        }
      ]
    },
    {
      "cell_type": "code",
      "source": [
        "dt = edt(img)\n",
        "pt.imshow(dt, cmap='gray', vmin=0, vmax=dt.max())\n",
        "pt.axis('off')"
      ],
      "metadata": {
        "colab": {
          "base_uri": "https://localhost:8080/",
          "height": 423
        },
        "id": "E3tYdZMWIwo0",
        "outputId": "b9064b96-f092-4834-9c34-5f67cd8d1aab"
      },
      "execution_count": 30,
      "outputs": [
        {
          "output_type": "execute_result",
          "data": {
            "text/plain": [
              "(-0.5, 431.5, 431.5, -0.5)"
            ]
          },
          "metadata": {},
          "execution_count": 30
        },
        {
          "output_type": "display_data",
          "data": {
            "text/plain": [
              "<Figure size 640x480 with 1 Axes>"
            ],
            "image/png": "[encoded data removed]"
          },
          "metadata": {}
        }
      ]
    },
    {
      "cell_type": "code",
      "source": [],
      "metadata": {
        "id": "EbQbCJZIvn0X"
      },
      "execution_count": 37,
      "outputs": []
    },
    {
      "cell_type": "code",
      "source": [
        "min_df = bmm(img,10)"
      ],
      "metadata": {
        "colab": {
          "base_uri": "https://localhost:8080/"
        },
        "id": "N-LTy-1KFLKr",
        "outputId": "74813d69-5060-467c-b5da-65b8a775adb5"
      },
      "execution_count": 53,
      "outputs": [
        {
          "output_type": "stream",
          "name": "stderr",
          "text": [
            "<ipython-input-52-f3177cc6e766>:30: NumbaWarning: \n",
            "Compilation is falling back to object mode WITH looplifting enabled because Function \"bmm\" failed type inference due to: No implementation of function Function(<function flatnonzero at 0x7a40acb7cd30>) found for signature:\n",
            " \n",
            " >>> flatnonzero(UniTuple(array(int64, 1d, C) x 2))\n",
            " \n",
            "There are 2 candidate implementations:\n",
            "      - Of which 2 did not match due to:\n",
            "      Overload in function 'np_flatnonzero': File: numba/np/arraymath.py: Line 2956.\n",
            "        With argument(s): '(UniTuple(array(int64, 1d, C) x 2))':\n",
            "       Rejected as the implementation raised a specific error:\n",
            "         TypingError: Failed in nopython mode pipeline (step: nopython frontend)\n",
            "       No implementation of function Function(<built-in function asarray>) found for signature:\n",
            "        \n",
            "        >>> asarray(UniTuple(array(int64, 1d, C) x 2))\n",
            "        \n",
            "       There are 2 candidate implementations:\n",
            "             - Of which 2 did not match due to:\n",
            "             Overload in function 'np_asarray': File: numba/np/arraymath.py: Line 4268.\n",
            "               With argument(s): '(UniTuple(array(int64, 1d, C) x 2))':\n",
            "              Rejected as the implementation raised a specific error:\n",
            "                TypingError: Failed in nopython mode pipeline (step: nopython frontend)\n",
            "              No implementation of function Function(<built-in function array>) found for signature:\n",
            "               \n",
            "               >>> array(UniTuple(array(int64, 1d, C) x 2))\n",
            "               \n",
            "              There are 2 candidate implementations:\n",
            "                    - Of which 2 did not match due to:\n",
            "                    Overload in function 'impl_np_array': File: numba/np/arrayobj.py: Line 5384.\n",
            "                      With argument(s): '(UniTuple(array(int64, 1d, C) x 2))':\n",
            "                     Rejected as the implementation raised a specific error:\n",
            "                       TypingError: Failed in nopython mode pipeline (step: nopython frontend)\n",
            "                     No implementation of function Function(<intrinsic np_array>) found for signature:\n",
            "                      \n",
            "                      >>> np_array(UniTuple(array(int64, 1d, C) x 2), none)\n",
            "                      \n",
            "                     There are 2 candidate implementations:\n",
            "                           - Of which 2 did not match due to:\n",
            "                           Intrinsic in function 'np_array': File: numba/np/arrayobj.py: Line 5358.\n",
            "                             With argument(s): '(UniTuple(array(int64, 1d, C) x 2), none)':\n",
            "                            Rejected as the implementation raised a specific error:\n",
            "                              TypingError: array(int64, 1d, C) not allowed in a homogeneous sequence\n",
            "                       raised from /usr/local/lib/python3.10/dist-packages/numba/core/typing/npydecl.py:482\n",
            "                     \n",
            "                     During: resolving callee type: Function(<intrinsic np_array>)\n",
            "                     During: typing of call at /usr/local/lib/python3.10/dist-packages/numba/np/arrayobj.py (5395)\n",
            "                     \n",
            "                     \n",
            "                     File \"../usr/local/lib/python3.10/dist-packages/numba/np/arrayobj.py\", line 5395:\n",
            "                         def impl(object, dtype=None):\n",
            "                             return np_array(object, dtype)\n",
            "                             ^\n",
            "              \n",
            "                raised from /usr/local/lib/python3.10/dist-packages/numba/core/typeinfer.py:1086\n",
            "              \n",
            "              During: resolving callee type: Function(<built-in function array>)\n",
            "              During: typing of call at /usr/local/lib/python3.10/dist-packages/numba/np/arraymath.py (4290)\n",
            "              \n",
            "              \n",
            "              File \"../usr/local/lib/python3.10/dist-packages/numba/np/arraymath.py\", line 4290:\n",
            "                          def impl(a, dtype=None):\n",
            "                              return np.array(a)\n",
            "                              ^\n",
            "       \n",
            "         raised from /usr/local/lib/python3.10/dist-packages/numba/core/typeinfer.py:1086\n",
            "       \n",
            "       During: resolving callee type: Function(<built-in function asarray>)\n",
            "       During: typing of call at /usr/local/lib/python3.10/dist-packages/numba/np/arraymath.py (2961)\n",
            "       \n",
            "       \n",
            "       File \"../usr/local/lib/python3.10/dist-packages/numba/np/arraymath.py\", line 2961:\n",
            "               def impl(a):\n",
            "                   arr = np.asarray(a)\n",
            "                   ^\n",
            "\n",
            "  raised from /usr/local/lib/python3.10/dist-packages/numba/core/typeinfer.py:1086\n",
            "\n",
            "During: resolving callee type: Function(<function flatnonzero at 0x7a40acb7cd30>)\n",
            "During: typing of call at <ipython-input-52-f3177cc6e766> (42)\n",
            "\n",
            "\n",
            "File \"<ipython-input-52-f3177cc6e766>\", line 42:\n",
            "def bmm(img, R):\n",
            "    <source elided>\n",
            "        for px in edge:\n",
            "            A_r = np.flatnonzero(np.where(distance(img, px[0],px[1]) <= r))\n",
            "            ^\n",
            "\n",
            "  @jit(nopython=False, looplift=True)\n",
            "<ipython-input-52-f3177cc6e766>:30: NumbaWarning: \n",
            "Compilation is falling back to object mode WITHOUT looplifting enabled because Function \"bmm\" failed type inference due to: Cannot determine Numba type of <class 'numba.core.dispatcher.LiftedLoop'>\n",
            "\n",
            "File \"<ipython-input-52-f3177cc6e766>\", line 38:\n",
            "def bmm(img, R):\n",
            "    <source elided>\n",
            "    counts = []\n",
            "    for r in range(R+1):# calculates influence area for multiple r values\n",
            "    ^\n",
            "\n",
            "  @jit(nopython=False, looplift=True)\n",
            "/usr/local/lib/python3.10/dist-packages/numba/core/object_mode_passes.py:151: NumbaWarning: Function \"bmm\" was compiled in object mode without forceobj=True, but has lifted loops.\n",
            "\n",
            "File \"<ipython-input-52-f3177cc6e766>\", line 30:\n",
            "def distance(img, x0, y0):# distance from all pixels to a specific one\n",
            "    <source elided>\n",
            "\n",
            "@jit(nopython=False, looplift=True)\n",
            "^\n",
            "\n",
            "  warnings.warn(errors.NumbaWarning(warn_msg,\n",
            "/usr/local/lib/python3.10/dist-packages/numba/core/object_mode_passes.py:161: NumbaDeprecationWarning: \n",
            "Fall-back from the nopython compilation path to the object mode compilation path has been detected. This is deprecated behaviour that will be removed in Numba 0.59.0.\n",
            "\n",
            "For more information visit https://numba.readthedocs.io/en/stable/reference/deprecation.html#deprecation-of-object-mode-fall-back-behaviour-when-using-jit\n",
            "\n",
            "File \"<ipython-input-52-f3177cc6e766>\", line 30:\n",
            "def distance(img, x0, y0):# distance from all pixels to a specific one\n",
            "    <source elided>\n",
            "\n",
            "@jit(nopython=False, looplift=True)\n",
            "^\n",
            "\n",
            "  warnings.warn(errors.NumbaDeprecationWarning(msg,\n",
            "<ipython-input-52-f3177cc6e766>:30: NumbaWarning: \n",
            "Compilation is falling back to object mode WITHOUT looplifting enabled because Function \"bmm\" failed type inference due to: non-precise type pyobject\n",
            "During: typing of argument at <ipython-input-52-f3177cc6e766> (38)\n",
            "\n",
            "File \"<ipython-input-52-f3177cc6e766>\", line 38:\n",
            "def bmm(img, R):\n",
            "    <source elided>\n",
            "    counts = []\n",
            "    for r in range(R+1):# calculates influence area for multiple r values\n",
            "    ^\n",
            "\n",
            "  @jit(nopython=False, looplift=True)\n",
            "/usr/local/lib/python3.10/dist-packages/numba/core/object_mode_passes.py:151: NumbaWarning: Function \"bmm\" was compiled in object mode without forceobj=True.\n",
            "\n",
            "File \"<ipython-input-52-f3177cc6e766>\", line 38:\n",
            "def bmm(img, R):\n",
            "    <source elided>\n",
            "    counts = []\n",
            "    for r in range(R+1):# calculates influence area for multiple r values\n",
            "    ^\n",
            "\n",
            "  warnings.warn(errors.NumbaWarning(warn_msg,\n",
            "/usr/local/lib/python3.10/dist-packages/numba/core/object_mode_passes.py:161: NumbaDeprecationWarning: \n",
            "Fall-back from the nopython compilation path to the object mode compilation path has been detected. This is deprecated behaviour that will be removed in Numba 0.59.0.\n",
            "\n",
            "For more information visit https://numba.readthedocs.io/en/stable/reference/deprecation.html#deprecation-of-object-mode-fall-back-behaviour-when-using-jit\n",
            "\n",
            "File \"<ipython-input-52-f3177cc6e766>\", line 38:\n",
            "def bmm(img, R):\n",
            "    <source elided>\n",
            "    counts = []\n",
            "    for r in range(R+1):# calculates influence area for multiple r values\n",
            "    ^\n",
            "\n",
            "  warnings.warn(errors.NumbaDeprecationWarning(msg,\n"
          ]
        },
        {
          "output_type": "stream",
          "name": "stdout",
          "text": [
            "0\n",
            "1\n",
            "2\n",
            "3\n",
            "4\n",
            "5\n",
            "6\n",
            "7\n",
            "8\n",
            "9\n",
            "10\n"
          ]
        }
      ]
    },
    {
      "cell_type": "code",
      "source": [
        "pt.scatter(min_df[0], min_df[1])\n",
        "pt.yscale('log')\n",
        "pt.xscale('log')"
      ],
      "metadata": {
        "colab": {
          "base_uri": "https://localhost:8080/",
          "height": 434
        },
        "id": "x1ZNv1hzJTQ3",
        "outputId": "f8c319d2-dddd-471e-a2f9-cd26610aeb16"
      },
      "execution_count": 55,
      "outputs": [
        {
          "output_type": "display_data",
          "data": {
            "text/plain": [
              "<Figure size 640x480 with 1 Axes>"
            ],
            "image/png": "[encoded data removed]"
          },
          "metadata": {}
        }
      ]
    },
    {
      "cell_type": "code",
      "source": [
        "minkowski = np.log(min_df)"
      ],
      "metadata": {
        "colab": {
          "base_uri": "https://localhost:8080/"
        },
        "id": "QxhgIy6ry1j8",
        "outputId": "3bcf2383-d68b-4b16-d292-2141099bceb4"
      },
      "execution_count": 60,
      "outputs": [
        {
          "output_type": "stream",
          "name": "stderr",
          "text": [
            "<ipython-input-60-2a416fe803ce>:1: RuntimeWarning: divide by zero encountered in log\n",
            "  minkowski = np.log(min_df)\n"
          ]
        }
      ]
    },
    {
      "cell_type": "code",
      "source": [
        "coeffs = np.polyfit(np.log(min_df[0][1:]),np.log(min_df[1][1:]),1)"
      ],
      "metadata": {
        "id": "KbTKBk37yhcc"
      },
      "execution_count": 63,
      "outputs": []
    },
    {
      "cell_type": "code",
      "source": [
        "from PIL import Image\n",
        "for image in"
      ],
      "metadata": {
        "colab": {
          "base_uri": "https://localhost:8080/",
          "height": 106
        },
        "id": "7RmX_4gLne1V",
        "outputId": "72460627-2abf-48ca-86b4-fa12a88f1d3d"
      },
      "execution_count": 1,
      "outputs": [
        {
          "output_type": "error",
          "ename": "SyntaxError",
          "evalue": "invalid syntax (<ipython-input-1-fc9496f97e8e>, line 1)",
          "traceback": [
            "\u001b[0;36m  File \u001b[0;32m\"<ipython-input-1-fc9496f97e8e>\"\u001b[0;36m, line \u001b[0;32m1\u001b[0m\n\u001b[0;31m    for img in https://github.com/pedromazim/visao/tree/e0345b32f8fcd4fc28742cdff2f184aae0a4cb51/leaf_data:\u001b[0m\n\u001b[0m                     ^\u001b[0m\n\u001b[0;31mSyntaxError\u001b[0m\u001b[0;31m:\u001b[0m invalid syntax\n"
          ]
        }
      ]
    }
  ]
}